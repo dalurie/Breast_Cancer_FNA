{
 "cells": [
  {
   "cell_type": "markdown",
   "metadata": {},
   "source": [
    "Dataset available at:  \n",
    "https://www.kaggle.com/uciml/breast-cancer-wisconsin-data\n",
    "\n",
    "The Dataset provides information on 569 patients, their diagnosis, and 30 characteristics of their Fine Needle Aspirate (FNA) biopsy.  \n",
    "\n",
    "An FNA is a procedure wherein a thin needle is used to collect sample cells from either a suspicious mass or a suspicious lymph node.  It typically follows a mammogram and it is relatively noninvasive.  The downside of an FNA is that there is a small sample collected, and drawing through a small needle destroys the architecture of the sample.  That is to say, we receive a sample of individual cells, and can characterize them with microscopy, but we cannot see how the cells fit in relation to one another.  Another option at this stage in diagnosis are the core needle biopsy, which uses a larger needle, yields a larger sample, and can preserve structure.  Should the FNA be positive, it would be followed by an excisional biopsy, or surgical resection.\n",
    "\n",
    "Note here that the features refer to individual nuclei, their size, smoothness or their borders, etc.  These features are generated from digitized images.  \n",
    "\n",
    "The goals here are:\n",
    "* Data exploration, seeing what features are most predictive of malignancy.\n",
    "* To apply classical, supervised, machine learning models\n",
    "* Train a deep neural net with Keras\n",
    "* Quantify the performance of these models.\n",
    "\n",
    "Our models provide excellent accuracy and could be useful clinically.  Their use might include confirmation of pathologists readings.  Similarly if our model contradicts the pathologist, further diagnostic testing or consultation might be merited.  Our model, since it obtains excellent results, might be useful in underserved areas or undeveloped countries, where pathologists might not be available, but an FNA biopsy could be performed by a primary care provider.  \n",
    "\n",
    "references:  \n",
    "https://www.uptodate.com/contents/breast-biopsy  \n",
    "https://onlinelibrary.wiley.com/doi/full/10.1002/cncy.21742"
   ]
  },
  {
   "cell_type": "code",
   "execution_count": 1,
   "metadata": {},
   "outputs": [
    {
     "name": "stderr",
     "output_type": "stream",
     "text": [
      "Using TensorFlow backend.\n"
     ]
    }
   ],
   "source": [
    "import pandas as pd\n",
    "import matplotlib.pyplot as plt\n",
    "import numpy as np\n",
    "from keras import models\n",
    "from keras import layers\n",
    "from keras import optimizers\n",
    "from keras import losses\n",
    "from keras import metrics\n",
    "from keras import regularizers\n",
    "import sklearn as sk # version >= .20\n",
    "from sklearn import svm \n",
    "from sklearn.svm import SVR\n",
    "from sklearn.ensemble import RandomForestRegressor as rfr\n",
    "from sklearn.decomposition import KernelPCA\n",
    "from sklearn.metrics import  roc_curve\n",
    "from sklearn.metrics import roc_auc_score\n",
    "import timeit\n",
    "%matplotlib inline"
   ]
  },
  {
   "cell_type": "code",
   "execution_count": 2,
   "metadata": {},
   "outputs": [
    {
     "data": {
      "text/html": [
       "<div>\n",
       "<style scoped>\n",
       "    .dataframe tbody tr th:only-of-type {\n",
       "        vertical-align: middle;\n",
       "    }\n",
       "\n",
       "    .dataframe tbody tr th {\n",
       "        vertical-align: top;\n",
       "    }\n",
       "\n",
       "    .dataframe thead th {\n",
       "        text-align: right;\n",
       "    }\n",
       "</style>\n",
       "<table border=\"1\" class=\"dataframe\">\n",
       "  <thead>\n",
       "    <tr style=\"text-align: right;\">\n",
       "      <th></th>\n",
       "      <th>id</th>\n",
       "      <th>diagnosis</th>\n",
       "      <th>radius_mean</th>\n",
       "      <th>texture_mean</th>\n",
       "      <th>perimeter_mean</th>\n",
       "      <th>area_mean</th>\n",
       "      <th>smoothness_mean</th>\n",
       "      <th>compactness_mean</th>\n",
       "      <th>concavity_mean</th>\n",
       "      <th>concave points_mean</th>\n",
       "      <th>...</th>\n",
       "      <th>texture_worst</th>\n",
       "      <th>perimeter_worst</th>\n",
       "      <th>area_worst</th>\n",
       "      <th>smoothness_worst</th>\n",
       "      <th>compactness_worst</th>\n",
       "      <th>concavity_worst</th>\n",
       "      <th>concave points_worst</th>\n",
       "      <th>symmetry_worst</th>\n",
       "      <th>fractal_dimension_worst</th>\n",
       "      <th>Unnamed: 32</th>\n",
       "    </tr>\n",
       "  </thead>\n",
       "  <tbody>\n",
       "    <tr>\n",
       "      <th>0</th>\n",
       "      <td>842302</td>\n",
       "      <td>M</td>\n",
       "      <td>17.99</td>\n",
       "      <td>10.38</td>\n",
       "      <td>122.80</td>\n",
       "      <td>1001.0</td>\n",
       "      <td>0.11840</td>\n",
       "      <td>0.27760</td>\n",
       "      <td>0.3001</td>\n",
       "      <td>0.14710</td>\n",
       "      <td>...</td>\n",
       "      <td>17.33</td>\n",
       "      <td>184.60</td>\n",
       "      <td>2019.0</td>\n",
       "      <td>0.1622</td>\n",
       "      <td>0.6656</td>\n",
       "      <td>0.7119</td>\n",
       "      <td>0.2654</td>\n",
       "      <td>0.4601</td>\n",
       "      <td>0.11890</td>\n",
       "      <td>NaN</td>\n",
       "    </tr>\n",
       "    <tr>\n",
       "      <th>1</th>\n",
       "      <td>842517</td>\n",
       "      <td>M</td>\n",
       "      <td>20.57</td>\n",
       "      <td>17.77</td>\n",
       "      <td>132.90</td>\n",
       "      <td>1326.0</td>\n",
       "      <td>0.08474</td>\n",
       "      <td>0.07864</td>\n",
       "      <td>0.0869</td>\n",
       "      <td>0.07017</td>\n",
       "      <td>...</td>\n",
       "      <td>23.41</td>\n",
       "      <td>158.80</td>\n",
       "      <td>1956.0</td>\n",
       "      <td>0.1238</td>\n",
       "      <td>0.1866</td>\n",
       "      <td>0.2416</td>\n",
       "      <td>0.1860</td>\n",
       "      <td>0.2750</td>\n",
       "      <td>0.08902</td>\n",
       "      <td>NaN</td>\n",
       "    </tr>\n",
       "    <tr>\n",
       "      <th>2</th>\n",
       "      <td>84300903</td>\n",
       "      <td>M</td>\n",
       "      <td>19.69</td>\n",
       "      <td>21.25</td>\n",
       "      <td>130.00</td>\n",
       "      <td>1203.0</td>\n",
       "      <td>0.10960</td>\n",
       "      <td>0.15990</td>\n",
       "      <td>0.1974</td>\n",
       "      <td>0.12790</td>\n",
       "      <td>...</td>\n",
       "      <td>25.53</td>\n",
       "      <td>152.50</td>\n",
       "      <td>1709.0</td>\n",
       "      <td>0.1444</td>\n",
       "      <td>0.4245</td>\n",
       "      <td>0.4504</td>\n",
       "      <td>0.2430</td>\n",
       "      <td>0.3613</td>\n",
       "      <td>0.08758</td>\n",
       "      <td>NaN</td>\n",
       "    </tr>\n",
       "    <tr>\n",
       "      <th>3</th>\n",
       "      <td>84348301</td>\n",
       "      <td>M</td>\n",
       "      <td>11.42</td>\n",
       "      <td>20.38</td>\n",
       "      <td>77.58</td>\n",
       "      <td>386.1</td>\n",
       "      <td>0.14250</td>\n",
       "      <td>0.28390</td>\n",
       "      <td>0.2414</td>\n",
       "      <td>0.10520</td>\n",
       "      <td>...</td>\n",
       "      <td>26.50</td>\n",
       "      <td>98.87</td>\n",
       "      <td>567.7</td>\n",
       "      <td>0.2098</td>\n",
       "      <td>0.8663</td>\n",
       "      <td>0.6869</td>\n",
       "      <td>0.2575</td>\n",
       "      <td>0.6638</td>\n",
       "      <td>0.17300</td>\n",
       "      <td>NaN</td>\n",
       "    </tr>\n",
       "    <tr>\n",
       "      <th>4</th>\n",
       "      <td>84358402</td>\n",
       "      <td>M</td>\n",
       "      <td>20.29</td>\n",
       "      <td>14.34</td>\n",
       "      <td>135.10</td>\n",
       "      <td>1297.0</td>\n",
       "      <td>0.10030</td>\n",
       "      <td>0.13280</td>\n",
       "      <td>0.1980</td>\n",
       "      <td>0.10430</td>\n",
       "      <td>...</td>\n",
       "      <td>16.67</td>\n",
       "      <td>152.20</td>\n",
       "      <td>1575.0</td>\n",
       "      <td>0.1374</td>\n",
       "      <td>0.2050</td>\n",
       "      <td>0.4000</td>\n",
       "      <td>0.1625</td>\n",
       "      <td>0.2364</td>\n",
       "      <td>0.07678</td>\n",
       "      <td>NaN</td>\n",
       "    </tr>\n",
       "  </tbody>\n",
       "</table>\n",
       "<p>5 rows × 33 columns</p>\n",
       "</div>"
      ],
      "text/plain": [
       "         id diagnosis  radius_mean  texture_mean  perimeter_mean  area_mean  \\\n",
       "0    842302         M        17.99         10.38          122.80     1001.0   \n",
       "1    842517         M        20.57         17.77          132.90     1326.0   \n",
       "2  84300903         M        19.69         21.25          130.00     1203.0   \n",
       "3  84348301         M        11.42         20.38           77.58      386.1   \n",
       "4  84358402         M        20.29         14.34          135.10     1297.0   \n",
       "\n",
       "   smoothness_mean  compactness_mean  concavity_mean  concave points_mean  \\\n",
       "0          0.11840           0.27760          0.3001              0.14710   \n",
       "1          0.08474           0.07864          0.0869              0.07017   \n",
       "2          0.10960           0.15990          0.1974              0.12790   \n",
       "3          0.14250           0.28390          0.2414              0.10520   \n",
       "4          0.10030           0.13280          0.1980              0.10430   \n",
       "\n",
       "      ...       texture_worst  perimeter_worst  area_worst  smoothness_worst  \\\n",
       "0     ...               17.33           184.60      2019.0            0.1622   \n",
       "1     ...               23.41           158.80      1956.0            0.1238   \n",
       "2     ...               25.53           152.50      1709.0            0.1444   \n",
       "3     ...               26.50            98.87       567.7            0.2098   \n",
       "4     ...               16.67           152.20      1575.0            0.1374   \n",
       "\n",
       "   compactness_worst  concavity_worst  concave points_worst  symmetry_worst  \\\n",
       "0             0.6656           0.7119                0.2654          0.4601   \n",
       "1             0.1866           0.2416                0.1860          0.2750   \n",
       "2             0.4245           0.4504                0.2430          0.3613   \n",
       "3             0.8663           0.6869                0.2575          0.6638   \n",
       "4             0.2050           0.4000                0.1625          0.2364   \n",
       "\n",
       "   fractal_dimension_worst  Unnamed: 32  \n",
       "0                  0.11890          NaN  \n",
       "1                  0.08902          NaN  \n",
       "2                  0.08758          NaN  \n",
       "3                  0.17300          NaN  \n",
       "4                  0.07678          NaN  \n",
       "\n",
       "[5 rows x 33 columns]"
      ]
     },
     "metadata": {},
     "output_type": "display_data"
    },
    {
     "name": "stdout",
     "output_type": "stream",
     "text": [
      "(569, 33)\n"
     ]
    }
   ],
   "source": [
    "data = pd.read_csv(r'/home/david/keras/kaggle/data.csv')\n",
    "display(data.head())\n",
    "print(data.shape)"
   ]
  },
  {
   "cell_type": "code",
   "execution_count": 3,
   "metadata": {
    "scrolled": true
   },
   "outputs": [
    {
     "data": {
      "text/html": [
       "<div>\n",
       "<style scoped>\n",
       "    .dataframe tbody tr th:only-of-type {\n",
       "        vertical-align: middle;\n",
       "    }\n",
       "\n",
       "    .dataframe tbody tr th {\n",
       "        vertical-align: top;\n",
       "    }\n",
       "\n",
       "    .dataframe thead th {\n",
       "        text-align: right;\n",
       "    }\n",
       "</style>\n",
       "<table border=\"1\" class=\"dataframe\">\n",
       "  <thead>\n",
       "    <tr style=\"text-align: right;\">\n",
       "      <th></th>\n",
       "      <th>id</th>\n",
       "      <th>radius_mean</th>\n",
       "      <th>texture_mean</th>\n",
       "      <th>perimeter_mean</th>\n",
       "      <th>area_mean</th>\n",
       "      <th>smoothness_mean</th>\n",
       "      <th>compactness_mean</th>\n",
       "      <th>concavity_mean</th>\n",
       "      <th>concave points_mean</th>\n",
       "      <th>symmetry_mean</th>\n",
       "      <th>...</th>\n",
       "      <th>texture_worst</th>\n",
       "      <th>perimeter_worst</th>\n",
       "      <th>area_worst</th>\n",
       "      <th>smoothness_worst</th>\n",
       "      <th>compactness_worst</th>\n",
       "      <th>concavity_worst</th>\n",
       "      <th>concave points_worst</th>\n",
       "      <th>symmetry_worst</th>\n",
       "      <th>fractal_dimension_worst</th>\n",
       "      <th>Unnamed: 32</th>\n",
       "    </tr>\n",
       "  </thead>\n",
       "  <tbody>\n",
       "    <tr>\n",
       "      <th>count</th>\n",
       "      <td>5.690000e+02</td>\n",
       "      <td>569.000000</td>\n",
       "      <td>569.000000</td>\n",
       "      <td>569.000000</td>\n",
       "      <td>569.000000</td>\n",
       "      <td>569.000000</td>\n",
       "      <td>569.000000</td>\n",
       "      <td>569.000000</td>\n",
       "      <td>569.000000</td>\n",
       "      <td>569.000000</td>\n",
       "      <td>...</td>\n",
       "      <td>569.000000</td>\n",
       "      <td>569.000000</td>\n",
       "      <td>569.000000</td>\n",
       "      <td>569.000000</td>\n",
       "      <td>569.000000</td>\n",
       "      <td>569.000000</td>\n",
       "      <td>569.000000</td>\n",
       "      <td>569.000000</td>\n",
       "      <td>569.000000</td>\n",
       "      <td>0.0</td>\n",
       "    </tr>\n",
       "    <tr>\n",
       "      <th>mean</th>\n",
       "      <td>3.037183e+07</td>\n",
       "      <td>14.127292</td>\n",
       "      <td>19.289649</td>\n",
       "      <td>91.969033</td>\n",
       "      <td>654.889104</td>\n",
       "      <td>0.096360</td>\n",
       "      <td>0.104341</td>\n",
       "      <td>0.088799</td>\n",
       "      <td>0.048919</td>\n",
       "      <td>0.181162</td>\n",
       "      <td>...</td>\n",
       "      <td>25.677223</td>\n",
       "      <td>107.261213</td>\n",
       "      <td>880.583128</td>\n",
       "      <td>0.132369</td>\n",
       "      <td>0.254265</td>\n",
       "      <td>0.272188</td>\n",
       "      <td>0.114606</td>\n",
       "      <td>0.290076</td>\n",
       "      <td>0.083946</td>\n",
       "      <td>NaN</td>\n",
       "    </tr>\n",
       "    <tr>\n",
       "      <th>std</th>\n",
       "      <td>1.250206e+08</td>\n",
       "      <td>3.524049</td>\n",
       "      <td>4.301036</td>\n",
       "      <td>24.298981</td>\n",
       "      <td>351.914129</td>\n",
       "      <td>0.014064</td>\n",
       "      <td>0.052813</td>\n",
       "      <td>0.079720</td>\n",
       "      <td>0.038803</td>\n",
       "      <td>0.027414</td>\n",
       "      <td>...</td>\n",
       "      <td>6.146258</td>\n",
       "      <td>33.602542</td>\n",
       "      <td>569.356993</td>\n",
       "      <td>0.022832</td>\n",
       "      <td>0.157336</td>\n",
       "      <td>0.208624</td>\n",
       "      <td>0.065732</td>\n",
       "      <td>0.061867</td>\n",
       "      <td>0.018061</td>\n",
       "      <td>NaN</td>\n",
       "    </tr>\n",
       "    <tr>\n",
       "      <th>min</th>\n",
       "      <td>8.670000e+03</td>\n",
       "      <td>6.981000</td>\n",
       "      <td>9.710000</td>\n",
       "      <td>43.790000</td>\n",
       "      <td>143.500000</td>\n",
       "      <td>0.052630</td>\n",
       "      <td>0.019380</td>\n",
       "      <td>0.000000</td>\n",
       "      <td>0.000000</td>\n",
       "      <td>0.106000</td>\n",
       "      <td>...</td>\n",
       "      <td>12.020000</td>\n",
       "      <td>50.410000</td>\n",
       "      <td>185.200000</td>\n",
       "      <td>0.071170</td>\n",
       "      <td>0.027290</td>\n",
       "      <td>0.000000</td>\n",
       "      <td>0.000000</td>\n",
       "      <td>0.156500</td>\n",
       "      <td>0.055040</td>\n",
       "      <td>NaN</td>\n",
       "    </tr>\n",
       "    <tr>\n",
       "      <th>25%</th>\n",
       "      <td>8.692180e+05</td>\n",
       "      <td>11.700000</td>\n",
       "      <td>16.170000</td>\n",
       "      <td>75.170000</td>\n",
       "      <td>420.300000</td>\n",
       "      <td>0.086370</td>\n",
       "      <td>0.064920</td>\n",
       "      <td>0.029560</td>\n",
       "      <td>0.020310</td>\n",
       "      <td>0.161900</td>\n",
       "      <td>...</td>\n",
       "      <td>21.080000</td>\n",
       "      <td>84.110000</td>\n",
       "      <td>515.300000</td>\n",
       "      <td>0.116600</td>\n",
       "      <td>0.147200</td>\n",
       "      <td>0.114500</td>\n",
       "      <td>0.064930</td>\n",
       "      <td>0.250400</td>\n",
       "      <td>0.071460</td>\n",
       "      <td>NaN</td>\n",
       "    </tr>\n",
       "    <tr>\n",
       "      <th>50%</th>\n",
       "      <td>9.060240e+05</td>\n",
       "      <td>13.370000</td>\n",
       "      <td>18.840000</td>\n",
       "      <td>86.240000</td>\n",
       "      <td>551.100000</td>\n",
       "      <td>0.095870</td>\n",
       "      <td>0.092630</td>\n",
       "      <td>0.061540</td>\n",
       "      <td>0.033500</td>\n",
       "      <td>0.179200</td>\n",
       "      <td>...</td>\n",
       "      <td>25.410000</td>\n",
       "      <td>97.660000</td>\n",
       "      <td>686.500000</td>\n",
       "      <td>0.131300</td>\n",
       "      <td>0.211900</td>\n",
       "      <td>0.226700</td>\n",
       "      <td>0.099930</td>\n",
       "      <td>0.282200</td>\n",
       "      <td>0.080040</td>\n",
       "      <td>NaN</td>\n",
       "    </tr>\n",
       "    <tr>\n",
       "      <th>75%</th>\n",
       "      <td>8.813129e+06</td>\n",
       "      <td>15.780000</td>\n",
       "      <td>21.800000</td>\n",
       "      <td>104.100000</td>\n",
       "      <td>782.700000</td>\n",
       "      <td>0.105300</td>\n",
       "      <td>0.130400</td>\n",
       "      <td>0.130700</td>\n",
       "      <td>0.074000</td>\n",
       "      <td>0.195700</td>\n",
       "      <td>...</td>\n",
       "      <td>29.720000</td>\n",
       "      <td>125.400000</td>\n",
       "      <td>1084.000000</td>\n",
       "      <td>0.146000</td>\n",
       "      <td>0.339100</td>\n",
       "      <td>0.382900</td>\n",
       "      <td>0.161400</td>\n",
       "      <td>0.317900</td>\n",
       "      <td>0.092080</td>\n",
       "      <td>NaN</td>\n",
       "    </tr>\n",
       "    <tr>\n",
       "      <th>max</th>\n",
       "      <td>9.113205e+08</td>\n",
       "      <td>28.110000</td>\n",
       "      <td>39.280000</td>\n",
       "      <td>188.500000</td>\n",
       "      <td>2501.000000</td>\n",
       "      <td>0.163400</td>\n",
       "      <td>0.345400</td>\n",
       "      <td>0.426800</td>\n",
       "      <td>0.201200</td>\n",
       "      <td>0.304000</td>\n",
       "      <td>...</td>\n",
       "      <td>49.540000</td>\n",
       "      <td>251.200000</td>\n",
       "      <td>4254.000000</td>\n",
       "      <td>0.222600</td>\n",
       "      <td>1.058000</td>\n",
       "      <td>1.252000</td>\n",
       "      <td>0.291000</td>\n",
       "      <td>0.663800</td>\n",
       "      <td>0.207500</td>\n",
       "      <td>NaN</td>\n",
       "    </tr>\n",
       "  </tbody>\n",
       "</table>\n",
       "<p>8 rows × 32 columns</p>\n",
       "</div>"
      ],
      "text/plain": [
       "                 id  radius_mean  texture_mean  perimeter_mean    area_mean  \\\n",
       "count  5.690000e+02   569.000000    569.000000      569.000000   569.000000   \n",
       "mean   3.037183e+07    14.127292     19.289649       91.969033   654.889104   \n",
       "std    1.250206e+08     3.524049      4.301036       24.298981   351.914129   \n",
       "min    8.670000e+03     6.981000      9.710000       43.790000   143.500000   \n",
       "25%    8.692180e+05    11.700000     16.170000       75.170000   420.300000   \n",
       "50%    9.060240e+05    13.370000     18.840000       86.240000   551.100000   \n",
       "75%    8.813129e+06    15.780000     21.800000      104.100000   782.700000   \n",
       "max    9.113205e+08    28.110000     39.280000      188.500000  2501.000000   \n",
       "\n",
       "       smoothness_mean  compactness_mean  concavity_mean  concave points_mean  \\\n",
       "count       569.000000        569.000000      569.000000           569.000000   \n",
       "mean          0.096360          0.104341        0.088799             0.048919   \n",
       "std           0.014064          0.052813        0.079720             0.038803   \n",
       "min           0.052630          0.019380        0.000000             0.000000   \n",
       "25%           0.086370          0.064920        0.029560             0.020310   \n",
       "50%           0.095870          0.092630        0.061540             0.033500   \n",
       "75%           0.105300          0.130400        0.130700             0.074000   \n",
       "max           0.163400          0.345400        0.426800             0.201200   \n",
       "\n",
       "       symmetry_mean     ...       texture_worst  perimeter_worst  \\\n",
       "count     569.000000     ...          569.000000       569.000000   \n",
       "mean        0.181162     ...           25.677223       107.261213   \n",
       "std         0.027414     ...            6.146258        33.602542   \n",
       "min         0.106000     ...           12.020000        50.410000   \n",
       "25%         0.161900     ...           21.080000        84.110000   \n",
       "50%         0.179200     ...           25.410000        97.660000   \n",
       "75%         0.195700     ...           29.720000       125.400000   \n",
       "max         0.304000     ...           49.540000       251.200000   \n",
       "\n",
       "        area_worst  smoothness_worst  compactness_worst  concavity_worst  \\\n",
       "count   569.000000        569.000000         569.000000       569.000000   \n",
       "mean    880.583128          0.132369           0.254265         0.272188   \n",
       "std     569.356993          0.022832           0.157336         0.208624   \n",
       "min     185.200000          0.071170           0.027290         0.000000   \n",
       "25%     515.300000          0.116600           0.147200         0.114500   \n",
       "50%     686.500000          0.131300           0.211900         0.226700   \n",
       "75%    1084.000000          0.146000           0.339100         0.382900   \n",
       "max    4254.000000          0.222600           1.058000         1.252000   \n",
       "\n",
       "       concave points_worst  symmetry_worst  fractal_dimension_worst  \\\n",
       "count            569.000000      569.000000               569.000000   \n",
       "mean               0.114606        0.290076                 0.083946   \n",
       "std                0.065732        0.061867                 0.018061   \n",
       "min                0.000000        0.156500                 0.055040   \n",
       "25%                0.064930        0.250400                 0.071460   \n",
       "50%                0.099930        0.282200                 0.080040   \n",
       "75%                0.161400        0.317900                 0.092080   \n",
       "max                0.291000        0.663800                 0.207500   \n",
       "\n",
       "       Unnamed: 32  \n",
       "count          0.0  \n",
       "mean           NaN  \n",
       "std            NaN  \n",
       "min            NaN  \n",
       "25%            NaN  \n",
       "50%            NaN  \n",
       "75%            NaN  \n",
       "max            NaN  \n",
       "\n",
       "[8 rows x 32 columns]"
      ]
     },
     "execution_count": 3,
     "metadata": {},
     "output_type": "execute_result"
    }
   ],
   "source": [
    "data.describe()"
   ]
  },
  {
   "cell_type": "code",
   "execution_count": 4,
   "metadata": {},
   "outputs": [
    {
     "data": {
      "text/plain": [
       "Index(['id', 'diagnosis', 'radius_mean', 'texture_mean', 'perimeter_mean',\n",
       "       'area_mean', 'smoothness_mean', 'compactness_mean', 'concavity_mean',\n",
       "       'concave points_mean', 'symmetry_mean', 'fractal_dimension_mean',\n",
       "       'radius_se', 'texture_se', 'perimeter_se', 'area_se', 'smoothness_se',\n",
       "       'compactness_se', 'concavity_se', 'concave points_se', 'symmetry_se',\n",
       "       'fractal_dimension_se', 'radius_worst', 'texture_worst',\n",
       "       'perimeter_worst', 'area_worst', 'smoothness_worst',\n",
       "       'compactness_worst', 'concavity_worst', 'concave points_worst',\n",
       "       'symmetry_worst', 'fractal_dimension_worst', 'Unnamed: 32'],\n",
       "      dtype='object')"
      ]
     },
     "execution_count": 4,
     "metadata": {},
     "output_type": "execute_result"
    }
   ],
   "source": [
    "data.keys()"
   ]
  },
  {
   "cell_type": "code",
   "execution_count": 5,
   "metadata": {},
   "outputs": [
    {
     "name": "stdout",
     "output_type": "stream",
     "text": [
      "(569, 33)\n",
      "(569, 30)\n"
     ]
    }
   ],
   "source": [
    "data_clean = data.drop(columns=['Unnamed: 32', 'id', 'diagnosis']) #Unnamed column from Pandas handling of index\n",
    "print(data.shape)\n",
    "print(data_clean.shape)"
   ]
  },
  {
   "cell_type": "code",
   "execution_count": 6,
   "metadata": {},
   "outputs": [
    {
     "data": {
      "text/plain": [
       "False"
      ]
     },
     "execution_count": 6,
     "metadata": {},
     "output_type": "execute_result"
    }
   ],
   "source": [
    "# check if we have any nan values in data\n",
    "np.any(np.isnan(data_clean))"
   ]
  },
  {
   "cell_type": "code",
   "execution_count": 7,
   "metadata": {},
   "outputs": [
    {
     "name": "stdout",
     "output_type": "stream",
     "text": [
      "<class 'pandas.core.frame.DataFrame'>\n",
      "RangeIndex: 569 entries, 0 to 568\n",
      "Data columns (total 30 columns):\n",
      "radius_mean                569 non-null float64\n",
      "texture_mean               569 non-null float64\n",
      "perimeter_mean             569 non-null float64\n",
      "area_mean                  569 non-null float64\n",
      "smoothness_mean            569 non-null float64\n",
      "compactness_mean           569 non-null float64\n",
      "concavity_mean             569 non-null float64\n",
      "concave points_mean        569 non-null float64\n",
      "symmetry_mean              569 non-null float64\n",
      "fractal_dimension_mean     569 non-null float64\n",
      "radius_se                  569 non-null float64\n",
      "texture_se                 569 non-null float64\n",
      "perimeter_se               569 non-null float64\n",
      "area_se                    569 non-null float64\n",
      "smoothness_se              569 non-null float64\n",
      "compactness_se             569 non-null float64\n",
      "concavity_se               569 non-null float64\n",
      "concave points_se          569 non-null float64\n",
      "symmetry_se                569 non-null float64\n",
      "fractal_dimension_se       569 non-null float64\n",
      "radius_worst               569 non-null float64\n",
      "texture_worst              569 non-null float64\n",
      "perimeter_worst            569 non-null float64\n",
      "area_worst                 569 non-null float64\n",
      "smoothness_worst           569 non-null float64\n",
      "compactness_worst          569 non-null float64\n",
      "concavity_worst            569 non-null float64\n",
      "concave points_worst       569 non-null float64\n",
      "symmetry_worst             569 non-null float64\n",
      "fractal_dimension_worst    569 non-null float64\n",
      "dtypes: float64(30)\n",
      "memory usage: 133.4 KB\n"
     ]
    }
   ],
   "source": [
    "# check, for type uniformity in feature space\n",
    "data_clean.info()"
   ]
  },
  {
   "cell_type": "markdown",
   "metadata": {},
   "source": [
    "what shape to feed model?  \n",
    "\n",
    "each sample has 30 features of type float64  \n",
    "want numpy array of shape (samples, number of features) for up to 30 features"
   ]
  },
  {
   "cell_type": "code",
   "execution_count": 8,
   "metadata": {},
   "outputs": [
    {
     "data": {
      "text/plain": [
       "('B', 'M')"
      ]
     },
     "execution_count": 8,
     "metadata": {},
     "output_type": "execute_result"
    }
   ],
   "source": [
    "diag = data['diagnosis']\n",
    "min(diag), max(diag)"
   ]
  },
  {
   "cell_type": "code",
   "execution_count": 9,
   "metadata": {
    "scrolled": true
   },
   "outputs": [],
   "source": [
    "# convert labels\n",
    "def to_binary(input):\n",
    "    ans = []\n",
    "    for i in input:\n",
    "        if i =='M':\n",
    "            ans.append(1)\n",
    "        else:\n",
    "            ans.append(0)\n",
    "    return ans\n",
    "\n",
    "diag_bin = to_binary(diag)"
   ]
  },
  {
   "cell_type": "code",
   "execution_count": 10,
   "metadata": {},
   "outputs": [
    {
     "data": {
      "text/plain": [
       "array([ 1.09706398, -2.07333501,  1.26993369,  0.9843749 ,  1.56846633])"
      ]
     },
     "execution_count": 10,
     "metadata": {},
     "output_type": "execute_result"
    }
   ],
   "source": [
    "# This normalizes the values, essentially it calculates the Z score\n",
    "# How many standard deviations away from mean\n",
    "\n",
    "data_norm = np.asarray(data_clean.copy())\n",
    "for i in range(data_norm.shape[1]):\n",
    "    mid = np.mean(data_norm[:,i])\n",
    "    stand = np.std(data_norm[:,i])\n",
    "    for j in range(data_norm.shape[0]):\n",
    "        data_norm[j,i] -= mid\n",
    "        data_norm[j,i] /= stand\n",
    "data_norm[0][:5]"
   ]
  },
  {
   "cell_type": "code",
   "execution_count": 11,
   "metadata": {},
   "outputs": [
    {
     "data": {
      "text/plain": [
       "array([0.52103744, 0.0226581 , 0.54598853, 0.36373277, 0.59375282])"
      ]
     },
     "metadata": {},
     "output_type": "display_data"
    }
   ],
   "source": [
    "# An alternative scaling method, this will collapse the feature space to [0,1]\n",
    "\n",
    "data_scaled = np.asarray(data_clean.copy())\n",
    "# data_train_norm.shape[0]\n",
    "for i in range(data_norm.shape[1]):\n",
    "    low = np.min(data_scaled[:,i])\n",
    "    high = np.max(data_scaled[:,i])\n",
    "    split = high - low\n",
    "    for j in range(data_norm.shape[0]):\n",
    "        data_scaled[j,i] -= low\n",
    "        data_scaled[j,i] /= split\n",
    "display(data_scaled[0][:5])"
   ]
  },
  {
   "cell_type": "code",
   "execution_count": 12,
   "metadata": {},
   "outputs": [],
   "source": [
    "#train, test split\n",
    "data_train, data_test, diag_train, diag_test = sk.model_selection.train_test_split(data_norm, diag_bin,test_size=.2)"
   ]
  },
  {
   "cell_type": "code",
   "execution_count": 13,
   "metadata": {},
   "outputs": [
    {
     "name": "stdout",
     "output_type": "stream",
     "text": [
      "455\n",
      "114\n",
      "455\n",
      "114\n"
     ]
    }
   ],
   "source": [
    "for i in [data_train, data_test, diag_train, diag_test]:\n",
    "    print(len(i))"
   ]
  },
  {
   "cell_type": "code",
   "execution_count": 14,
   "metadata": {},
   "outputs": [],
   "source": [
    "# data_train_scaled, data_test_scaled, diag_train, diag_test = sk.model_selection.train_test_split(data_norm, diag_bin,test_size=.2)"
   ]
  },
  {
   "cell_type": "code",
   "execution_count": 15,
   "metadata": {},
   "outputs": [],
   "source": [
    "# as a control, nonnormalized data\n",
    "temp = np.asarray(data_clean.copy())\n",
    "data_train_nonnormalized = temp[:455]\n",
    "data_test_nonnormalized = temp[455:]"
   ]
  },
  {
   "cell_type": "code",
   "execution_count": 16,
   "metadata": {},
   "outputs": [],
   "source": [
    "features = ['radius_mean', 'texture_mean', 'perimeter_mean',\n",
    "       'area_mean', 'smoothness_mean', 'compactness_mean', 'concavity_mean',\n",
    "       'concave points_mean', 'symmetry_mean', 'fractal_dimension_mean',\n",
    "       'radius_se', 'texture_se', 'perimeter_se', 'area_se', 'smoothness_se',\n",
    "       'compactness_se', 'concavity_se', 'concave points_se', 'symmetry_se',\n",
    "       'fractal_dimension_se', 'radius_worst', 'texture_worst',\n",
    "       'perimeter_worst', 'area_worst', 'smoothness_worst',\n",
    "       'compactness_worst', 'concavity_worst', 'concave points_worst',\n",
    "       'symmetry_worst', 'fractal_dimension_worst']"
   ]
  },
  {
   "cell_type": "code",
   "execution_count": 17,
   "metadata": {},
   "outputs": [
    {
     "data": {
      "text/plain": [
       "array([[1.        , 0.73002851],\n",
       "       [0.73002851, 1.        ]])"
      ]
     },
     "execution_count": 17,
     "metadata": {},
     "output_type": "execute_result"
    }
   ],
   "source": [
    "# correlation between first feature and labels\n",
    "rad = data_clean['radius_mean']\n",
    "np.corrcoef(rad,diag_bin)"
   ]
  },
  {
   "cell_type": "code",
   "execution_count": 18,
   "metadata": {
    "scrolled": false
   },
   "outputs": [
    {
     "name": "stdout",
     "output_type": "stream",
     "text": [
      "[(0.7935660171412687, 'concave points_worst', 27), (0.7829141371737581, 'perimeter_worst', 22), (0.7766138400204345, 'concave points_mean', 7), (0.7764537785950383, 'radius_worst', 20), (0.7426355297258318, 'perimeter_mean', 2), (0.73382503492105, 'area_worst', 23), (0.7300285113754553, 'radius_mean', 0), (0.7089838365853887, 'area_mean', 3), (0.6963597071719051, 'concavity_mean', 6), (0.6596102103692325, 'concavity_worst', 26), (0.5965336775082524, 'compactness_mean', 5), (0.5909982378417911, 'compactness_worst', 25), (0.5671338208247169, 'radius_se', 10), (0.5561407034314823, 'perimeter_se', 12), (0.5482359402780236, 'area_se', 13), (0.4569028213967977, 'texture_worst', 21), (0.4214648610664021, 'smoothness_worst', 24), (0.41629431104861864, 'symmetry_worst', 28), (0.4151852998452038, 'texture_mean', 1), (0.40804233271650403, 'concave points_se', 17), (0.35855996508593163, 'smoothness_mean', 4), (0.33049855426254665, 'symmetry_mean', 8), (0.32387218872082346, 'fractal_dimension_worst', 29), (0.292999244248858, 'compactness_se', 15), (0.25372976598083, 'concavity_se', 16), (0.07797241739025601, 'fractal_dimension_se', 19), (-0.006521755870647966, 'symmetry_se', 18), (-0.008303332973877418, 'texture_se', 11), (-0.012837602698432333, 'fractal_dimension_mean', 9), (-0.06701601057948722, 'smoothness_se', 14)]\n"
     ]
    }
   ],
   "source": [
    "#list of features by correlation to labels\n",
    "corr = [np.corrcoef(data_clean[i],diag_bin)[0,1] for i in features]\n",
    "corr_tuples = [(corr[i],features[i],i) for i in range(len(corr))]\n",
    "corr_tuples.sort(key=lambda x:x[0], reverse = True) # sort in place, by most correlated first\n",
    "print(corr_tuples,)"
   ]
  },
  {
   "cell_type": "code",
   "execution_count": 19,
   "metadata": {},
   "outputs": [
    {
     "name": "stdout",
     "output_type": "stream",
     "text": [
      "['concave points_worst', 'perimeter_worst', 'concave points_mean', 'radius_worst', 'perimeter_mean', 'area_worst', 'radius_mean', 'area_mean', 'concavity_mean', 'concavity_worst', 'compactness_mean', 'compactness_worst', 'radius_se', 'perimeter_se', 'area_se', 'texture_worst', 'smoothness_worst', 'symmetry_worst', 'texture_mean', 'concave points_se', 'smoothness_mean', 'symmetry_mean', 'fractal_dimension_worst', 'compactness_se', 'concavity_se', 'fractal_dimension_se', 'symmetry_se', 'texture_se', 'fractal_dimension_mean', 'smoothness_se']\n",
      "\n",
      "[27, 22, 7, 20, 2, 23, 0, 3, 6, 26, 5, 25, 10, 12, 13, 21, 24, 28, 1, 17, 4, 8, 29, 15, 16, 19, 18, 11, 9, 14]\n"
     ]
    }
   ],
   "source": [
    "corr_columns = []\n",
    "corr_column_names = []\n",
    "for i in corr_tuples:\n",
    "    corr_columns.append(i[2])\n",
    "    corr_column_names.append(i[1])\n",
    "print(corr_column_names)\n",
    "print()\n",
    "print(corr_columns) # the column number in the original datatable"
   ]
  },
  {
   "cell_type": "code",
   "execution_count": 20,
   "metadata": {
    "scrolled": true
   },
   "outputs": [
    {
     "data": {
      "image/png": "[encoded data removed]",
      "text/plain": [
       "<Figure size 432x288 with 1 Axes>"
      ]
     },
     "metadata": {
      "needs_background": "light"
     },
     "output_type": "display_data"
    },
    {
     "data": {
      "image/png": "[encoded data removed]",
      "text/plain": [
       "<Figure size 1224x504 with 1 Axes>"
      ]
     },
     "metadata": {
      "needs_background": "light"
     },
     "output_type": "display_data"
    },
    {
     "data": {
      "image/png": "[encoded data removed]",
      "text/plain": [
       "<Figure size 1224x504 with 1 Axes>"
      ]
     },
     "metadata": {
      "needs_background": "light"
     },
     "output_type": "display_data"
    },
    {
     "data": {
      "image/png": "[encoded data removed]",
      "text/plain": [
       "<Figure size 1224x504 with 1 Axes>"
      ]
     },
     "metadata": {
      "needs_background": "light"
     },
     "output_type": "display_data"
    },
    {
     "data": {
      "image/png": "[encoded data removed]",
      "text/plain": [
       "<Figure size 1224x504 with 1 Axes>"
      ]
     },
     "metadata": {
      "needs_background": "light"
     },
     "output_type": "display_data"
    }
   ],
   "source": [
    "# let's look at how the 5 most correlated features are associated with malignancy\n",
    "\n",
    "for i in range(5):\n",
    "# for i in corr_columns[:5]:\n",
    "    plt.scatter(data_train[:,corr_columns[i]], diag_train)\n",
    "    plt.xlabel(corr_column_names[i])\n",
    "    plt.rcParams['figure.figsize'] = [17,7]\n",
    "    plt.show()"
   ]
  },
  {
   "cell_type": "code",
   "execution_count": 21,
   "metadata": {},
   "outputs": [],
   "source": [
    "# let's take the most correlated features\n",
    "most_corr = corr_columns[:20]\n",
    "# let's remove features which are highly correlated"
   ]
  },
  {
   "cell_type": "code",
   "execution_count": 22,
   "metadata": {},
   "outputs": [
    {
     "data": {
      "text/plain": [
       "[27, 22, 7, 20, 2, 23, 0, 3, 6, 26, 5, 25, 10, 12, 13, 21, 24, 28, 1, 17]"
      ]
     },
     "execution_count": 22,
     "metadata": {},
     "output_type": "execute_result"
    }
   ],
   "source": [
    "most_corr"
   ]
  },
  {
   "cell_type": "code",
   "execution_count": 23,
   "metadata": {},
   "outputs": [],
   "source": [
    "features = corr_column_names.copy()\n",
    "feature_columns = corr_columns.copy()\n",
    "feature_vectors = [data_train[:,i] for i in corr_columns]\n",
    "correlation_matrix = np.corrcoef(feature_vectors)\n",
    "correlation_matrix_round = np.round(correlation_matrix,1)\n",
    "cor1 = correlation_matrix_round[:15,:15]\n",
    "cor2 = correlation_matrix_round[15:,:15]\n",
    "cor3 = correlation_matrix_round[15:,15:]"
   ]
  },
  {
   "cell_type": "code",
   "execution_count": 24,
   "metadata": {
    "scrolled": true
   },
   "outputs": [
    {
     "data": {
      "image/png": "[encoded data removed]",
      "text/plain": [
       "<Figure size 1224x504 with 1 Axes>"
      ]
     },
     "metadata": {
      "needs_background": "light"
     },
     "output_type": "display_data"
    },
    {
     "data": {
      "image/png": "[encoded data removed]",
      "text/plain": [
       "<Figure size 1224x504 with 1 Axes>"
      ]
     },
     "metadata": {
      "needs_background": "light"
     },
     "output_type": "display_data"
    },
    {
     "data": {
      "image/png": "[encoded data removed]",
      "text/plain": [
       "<Figure size 1224x504 with 1 Axes>"
      ]
     },
     "metadata": {
      "needs_background": "light"
     },
     "output_type": "display_data"
    }
   ],
   "source": [
    "def plot_cor(matrix,title,features1,features2):\n",
    "    fig, ax = plt.subplots()\n",
    "    im = ax.imshow(matrix)\n",
    "    ax.set_xticklabels(features2)\n",
    "    ax.set_yticklabels(features1)\n",
    "    plt.setp(ax.get_xticklabels(), rotation=45, ha=\"right\",\n",
    "             rotation_mode=\"anchor\")\n",
    "    for i in range(len(matrix)):\n",
    "        for j in range(len(matrix)):\n",
    "            text = ax.text(j,i, matrix[i,j])\n",
    "    plt.title(title)\n",
    "plot_cor(cor1, 'first 15 features', features[:15],features[:15])\n",
    "plot_cor(cor2, 'first 15 features x last 15 features', features[:15], features[15:])\n",
    "plot_cor(cor3, 'last 15 features',features[15:],features[15:])"
   ]
  },
  {
   "cell_type": "code",
   "execution_count": 25,
   "metadata": {},
   "outputs": [],
   "source": [
    "# an analytical solution, scales well at larger feature sizes\n",
    "def most_corr_features(most_corr):\n",
    "    corr_matrix = np.zeros((len(most_corr),len(most_corr)))\n",
    "    for i in range(len(most_corr)):\n",
    "        for j in range(len(most_corr)):\n",
    "            ind1 = most_corr[i]\n",
    "            ind2 = most_corr[j]\n",
    "            corr_matrix[i,j] = round(np.corrcoef(data_train[:,ind1],data_train[:,ind2])[0,1],2)\n",
    "# correlation matrix is symmetrical, so we can think of it as upper triangular, and ignore the diagonal\n",
    "    corr_matrix = np.triu(corr_matrix,1)\n",
    "    # find the coordinates of the max value\n",
    "    # these are the features most correlated to each other\n",
    "    print('correlation coefficient:', np.amax(corr_matrix)) # how correlated the features are\n",
    "    x,y = np.argmax(corr_matrix) // len(corr_matrix) ,np.argmax(corr_matrix) % len(corr_matrix) # argmax flattens the indices\n",
    "    return x, corr_column_names[most_corr[x]], y, corr_column_names[most_corr[y]]  # most correlated features, with indices"
   ]
  },
  {
   "cell_type": "code",
   "execution_count": 26,
   "metadata": {},
   "outputs": [],
   "source": [
    "# let's eliminate correlated features one at a time until we reach a featureset we are happy with\n",
    "# eliminate feature further in list, as features are sorted by how correlated to labels, we'd rather keep 1st"
   ]
  },
  {
   "cell_type": "code",
   "execution_count": 27,
   "metadata": {},
   "outputs": [
    {
     "name": "stdout",
     "output_type": "stream",
     "text": [
      "correlation coefficient: 1.0\n",
      "correlation coefficient: 0.99\n",
      "correlation coefficient: 0.99\n",
      "correlation coefficient: 0.98\n",
      "correlation coefficient: 0.98\n",
      "correlation coefficient: 0.97\n",
      "correlation coefficient: 0.95\n",
      "correlation coefficient: 0.92\n",
      "correlation coefficient: 0.92\n",
      "correlation coefficient: 0.91\n",
      "correlation coefficient: 0.9\n",
      "correlation coefficient: 0.86\n",
      "correlation coefficient: 0.83\n",
      "correlation coefficient: 0.82\n"
     ]
    }
   ],
   "source": [
    "# repeat until features become less correlated, 15th in line, correlation coefficient: 0.58\n",
    "for _ in range(14):\n",
    "    _,_,y,_ = most_corr_features(most_corr)\n",
    "    del most_corr[y]\n",
    "    len(most_corr)"
   ]
  },
  {
   "cell_type": "code",
   "execution_count": 28,
   "metadata": {},
   "outputs": [
    {
     "data": {
      "text/plain": [
       "[27, 10, 21, 24, 28, 17]"
      ]
     },
     "execution_count": 28,
     "metadata": {},
     "output_type": "execute_result"
    }
   ],
   "source": [
    "most_corr # position in corr_column_names, not original dataframe columns"
   ]
  },
  {
   "cell_type": "code",
   "execution_count": 29,
   "metadata": {},
   "outputs": [
    {
     "name": "stdout",
     "output_type": "stream",
     "text": [
      "['texture_se', 'compactness_mean', 'symmetry_mean', 'concavity_se', 'fractal_dimension_mean', 'symmetry_worst']\n"
     ]
    }
   ],
   "source": [
    "current_features = []\n",
    "for i in most_corr:\n",
    "    current_features.append(corr_column_names[i])\n",
    "print(current_features)"
   ]
  },
  {
   "cell_type": "code",
   "execution_count": 30,
   "metadata": {},
   "outputs": [
    {
     "name": "stdout",
     "output_type": "stream",
     "text": [
      "[11, 5, 8, 16, 9, 28]\n"
     ]
    }
   ],
   "source": [
    "# take a list of features and return list of columns\n",
    "def feat_to_col(current_features):\n",
    "    data_frame = data.drop(columns=['Unnamed: 32', 'id', 'diagnosis'])\n",
    "    return [data_frame.columns.get_loc(i) for i in current_features]\n",
    "\n",
    "# current_features = corr_column_names[:10] # use first 10 candidate features \n",
    "current_features = ['texture_se', 'compactness_mean', 'symmetry_mean', 'concavity_se', 'fractal_dimension_mean', 'symmetry_worst']\n",
    "feature_list = feat_to_col(current_features)\n",
    "print(feature_list)"
   ]
  },
  {
   "cell_type": "code",
   "execution_count": 31,
   "metadata": {},
   "outputs": [
    {
     "data": {
      "text/plain": [
       "(455, 6)"
      ]
     },
     "metadata": {},
     "output_type": "display_data"
    },
    {
     "data": {
      "text/plain": [
       "(114, 6)"
      ]
     },
     "metadata": {},
     "output_type": "display_data"
    }
   ],
   "source": [
    "X_train = np.zeros((len(data_train),len(feature_list)))\n",
    "X_test = np.zeros((len(data_test),len(feature_list)))\n",
    "for i in range(len(feature_list)):\n",
    "    X_train[:,i] = data_train[:,feature_list[i]]\n",
    "    X_test[:,i] = data_test[:,feature_list[i]]\n",
    "    \n",
    "Y_train = np.array(diag_train)\n",
    "Y_test = np.array(diag_test)\n",
    "display(X_train.shape)\n",
    "display(X_test.shape)"
   ]
  },
  {
   "cell_type": "code",
   "execution_count": 32,
   "metadata": {},
   "outputs": [],
   "source": [
    "# setting up some functions for processing and analyzing data"
   ]
  },
  {
   "cell_type": "code",
   "execution_count": 33,
   "metadata": {},
   "outputs": [],
   "source": [
    "# convert a regressor to a binary prediction at some cutoff\n",
    "def to_binary_pred(prediction,cutoff=.5):\n",
    "    pred_binary = np.zeros(len(prediction))\n",
    "    for i in range(len(prediction)):\n",
    "        if prediction[i] > cutoff:\n",
    "            pred_binary[i] = 1\n",
    "        else:\n",
    "            pred_binary[i] = 0\n",
    "    return pred_binary"
   ]
  },
  {
   "cell_type": "markdown",
   "metadata": {},
   "source": [
    "Although the problem is fundamentally one of classification, Regression techniques are useful here.  Outputting 0 or 1 output may be satisfactory.  However, scaling the output from 0 to 1 based on how certain the sample belongs to each class allows some insight to the user.  Additionally, we may choose the cutoff value, depending on clinical need, as will be illustrated further below with Receiver Operating Characteristic (ROC) curves.  "
   ]
  },
  {
   "cell_type": "code",
   "execution_count": 34,
   "metadata": {},
   "outputs": [],
   "source": [
    "#Support Vector Regression\n",
    "clf = SVR(kernel='rbf', gamma='scale', C=1)\n",
    "clf.fit(X_train, Y_train)\n",
    "\n",
    "pred = clf.predict(X_test)\n",
    "# pred_scaled = [(pred[i]-np.min(pred))/(np.max(pred)-np.min(pred)) for i in range(len(pred))]"
   ]
  },
  {
   "cell_type": "code",
   "execution_count": 35,
   "metadata": {},
   "outputs": [],
   "source": [
    "def sigmoid(x):\n",
    "    '''\n",
    "    x: scalar or array'''\n",
    "    return 1/(1+np.exp(-x))"
   ]
  },
  {
   "cell_type": "code",
   "execution_count": 36,
   "metadata": {},
   "outputs": [],
   "source": [
    "pred_scaled = sigmoid(pred)"
   ]
  },
  {
   "cell_type": "code",
   "execution_count": 37,
   "metadata": {},
   "outputs": [],
   "source": [
    "def plot_roc(pred,title='ROC Curve', plot_type='plot', figsize=[17,7]):\n",
    "    x,y,z = roc_curve(Y_test,pred_scaled)\n",
    "    if plot_type == 'plot':\n",
    "        plt.plot(x,y)\n",
    "    else:\n",
    "        plt.scatter(x,y, s = 10)\n",
    "        names = [str(i) for i in range(len(x))]\n",
    "        for i in range(len(x)):\n",
    "            plt.annotate(names[i],(x[i],y[i]))\n",
    "    print('AUC:', roc_auc_score(Y_test,pred_scaled))\n",
    "    plt.title(title)\n",
    "    plt.ylabel('true positive rate')\n",
    "    plt.xlabel('false positive = 1 - specificity')\n",
    "    plt.rcParams['figure.figsize'] = figsize"
   ]
  },
  {
   "cell_type": "code",
   "execution_count": 38,
   "metadata": {
    "scrolled": false
   },
   "outputs": [
    {
     "name": "stdout",
     "output_type": "stream",
     "text": [
      "AUC: 0.9603896103896103\n"
     ]
    },
    {
     "data": {
      "image/png": "[encoded data removed]",
      "text/plain": [
       "<Figure size 1224x504 with 1 Axes>"
      ]
     },
     "metadata": {
      "needs_background": "light"
     },
     "output_type": "display_data"
    }
   ],
   "source": [
    "plot_roc(pred_scaled)"
   ]
  },
  {
   "cell_type": "code",
   "execution_count": 39,
   "metadata": {
    "scrolled": false
   },
   "outputs": [
    {
     "name": "stdout",
     "output_type": "stream",
     "text": [
      "AUC: 0.9603896103896103\n"
     ]
    },
    {
     "data": {
      "image/png": "[encoded data removed]",
      "text/plain": [
       "<Figure size 1224x504 with 1 Axes>"
      ]
     },
     "metadata": {
      "needs_background": "light"
     },
     "output_type": "display_data"
    }
   ],
   "source": [
    "plot_roc(pred_scaled,plot_type='scatter')"
   ]
  },
  {
   "cell_type": "markdown",
   "metadata": {},
   "source": [
    "Since we're using regression analysis, we have to choose a threshold for a positive result.  \n",
    "ROC curve illustrates the tradeoffs of choosing this threshold.\n",
    "\n",
    "The labeled points above represent increasing cutoff values for our test, from 0 to 1:  \n",
    "At 0 every sample is declared malignant, so sensitivity is 100%, but the false positive rate is 100% as well  \n",
    "At 1 every sample is declared benign, so sensitivity should be 0%, but the false positive rate is also 0%\n",
    "\n",
    "Between these values, as we increase the cutoff, we decrease the false positive rate,\n",
    "and beyond a certain point this comes at the expense of decreasing the true positive rate"
   ]
  },
  {
   "cell_type": "code",
   "execution_count": 40,
   "metadata": {},
   "outputs": [],
   "source": [
    "def cutoffs(pred):\n",
    "    x,y,z = roc_curve(Y_test,pred)\n",
    "    cutoff_array = np.zeros((len(z),3))        \n",
    "    for i in range(len(z)):\n",
    "        cutoff_array[i,:] = [round(y[i],2),round((x[i]),2),round(z[i],2)]\n",
    "    cutoff_df = pd.DataFrame(data = (cutoff_array),\n",
    "                        columns=['tpr','fpr','cutoff'])\n",
    "    cutoff_df.index.names = ['point']\n",
    "    return cutoff_df"
   ]
  },
  {
   "cell_type": "code",
   "execution_count": 41,
   "metadata": {},
   "outputs": [
    {
     "data": {
      "text/html": [
       "<div>\n",
       "<style scoped>\n",
       "    .dataframe tbody tr th:only-of-type {\n",
       "        vertical-align: middle;\n",
       "    }\n",
       "\n",
       "    .dataframe tbody tr th {\n",
       "        vertical-align: top;\n",
       "    }\n",
       "\n",
       "    .dataframe thead th {\n",
       "        text-align: right;\n",
       "    }\n",
       "</style>\n",
       "<table border=\"1\" class=\"dataframe\">\n",
       "  <thead>\n",
       "    <tr style=\"text-align: right;\">\n",
       "      <th></th>\n",
       "      <th>tpr</th>\n",
       "      <th>fpr</th>\n",
       "      <th>cutoff</th>\n",
       "    </tr>\n",
       "    <tr>\n",
       "      <th>point</th>\n",
       "      <th></th>\n",
       "      <th></th>\n",
       "      <th></th>\n",
       "    </tr>\n",
       "  </thead>\n",
       "  <tbody>\n",
       "    <tr>\n",
       "      <th>0</th>\n",
       "      <td>0.00</td>\n",
       "      <td>0.00</td>\n",
       "      <td>1.79</td>\n",
       "    </tr>\n",
       "    <tr>\n",
       "      <th>1</th>\n",
       "      <td>0.02</td>\n",
       "      <td>0.00</td>\n",
       "      <td>0.79</td>\n",
       "    </tr>\n",
       "    <tr>\n",
       "      <th>2</th>\n",
       "      <td>0.48</td>\n",
       "      <td>0.00</td>\n",
       "      <td>0.70</td>\n",
       "    </tr>\n",
       "    <tr>\n",
       "      <th>3</th>\n",
       "      <td>0.48</td>\n",
       "      <td>0.01</td>\n",
       "      <td>0.70</td>\n",
       "    </tr>\n",
       "    <tr>\n",
       "      <th>4</th>\n",
       "      <td>0.82</td>\n",
       "      <td>0.01</td>\n",
       "      <td>0.63</td>\n",
       "    </tr>\n",
       "    <tr>\n",
       "      <th>5</th>\n",
       "      <td>0.82</td>\n",
       "      <td>0.03</td>\n",
       "      <td>0.63</td>\n",
       "    </tr>\n",
       "    <tr>\n",
       "      <th>6</th>\n",
       "      <td>0.84</td>\n",
       "      <td>0.03</td>\n",
       "      <td>0.63</td>\n",
       "    </tr>\n",
       "    <tr>\n",
       "      <th>7</th>\n",
       "      <td>0.84</td>\n",
       "      <td>0.04</td>\n",
       "      <td>0.62</td>\n",
       "    </tr>\n",
       "    <tr>\n",
       "      <th>8</th>\n",
       "      <td>0.91</td>\n",
       "      <td>0.04</td>\n",
       "      <td>0.61</td>\n",
       "    </tr>\n",
       "    <tr>\n",
       "      <th>9</th>\n",
       "      <td>0.91</td>\n",
       "      <td>0.21</td>\n",
       "      <td>0.57</td>\n",
       "    </tr>\n",
       "    <tr>\n",
       "      <th>10</th>\n",
       "      <td>0.93</td>\n",
       "      <td>0.21</td>\n",
       "      <td>0.57</td>\n",
       "    </tr>\n",
       "    <tr>\n",
       "      <th>11</th>\n",
       "      <td>0.93</td>\n",
       "      <td>0.27</td>\n",
       "      <td>0.55</td>\n",
       "    </tr>\n",
       "    <tr>\n",
       "      <th>12</th>\n",
       "      <td>0.95</td>\n",
       "      <td>0.27</td>\n",
       "      <td>0.55</td>\n",
       "    </tr>\n",
       "    <tr>\n",
       "      <th>13</th>\n",
       "      <td>0.95</td>\n",
       "      <td>0.40</td>\n",
       "      <td>0.54</td>\n",
       "    </tr>\n",
       "    <tr>\n",
       "      <th>14</th>\n",
       "      <td>0.98</td>\n",
       "      <td>0.40</td>\n",
       "      <td>0.54</td>\n",
       "    </tr>\n",
       "    <tr>\n",
       "      <th>15</th>\n",
       "      <td>0.98</td>\n",
       "      <td>0.49</td>\n",
       "      <td>0.53</td>\n",
       "    </tr>\n",
       "    <tr>\n",
       "      <th>16</th>\n",
       "      <td>1.00</td>\n",
       "      <td>0.49</td>\n",
       "      <td>0.52</td>\n",
       "    </tr>\n",
       "    <tr>\n",
       "      <th>17</th>\n",
       "      <td>1.00</td>\n",
       "      <td>1.00</td>\n",
       "      <td>0.46</td>\n",
       "    </tr>\n",
       "  </tbody>\n",
       "</table>\n",
       "</div>"
      ],
      "text/plain": [
       "        tpr   fpr  cutoff\n",
       "point                    \n",
       "0      0.00  0.00    1.79\n",
       "1      0.02  0.00    0.79\n",
       "2      0.48  0.00    0.70\n",
       "3      0.48  0.01    0.70\n",
       "4      0.82  0.01    0.63\n",
       "5      0.82  0.03    0.63\n",
       "6      0.84  0.03    0.63\n",
       "7      0.84  0.04    0.62\n",
       "8      0.91  0.04    0.61\n",
       "9      0.91  0.21    0.57\n",
       "10     0.93  0.21    0.57\n",
       "11     0.93  0.27    0.55\n",
       "12     0.95  0.27    0.55\n",
       "13     0.95  0.40    0.54\n",
       "14     0.98  0.40    0.54\n",
       "15     0.98  0.49    0.53\n",
       "16     1.00  0.49    0.52\n",
       "17     1.00  1.00    0.46"
      ]
     },
     "execution_count": 41,
     "metadata": {},
     "output_type": "execute_result"
    }
   ],
   "source": [
    "cutoffs(pred_scaled)"
   ]
  },
  {
   "cell_type": "markdown",
   "metadata": {},
   "source": [
    "It's important to pause here and think about what we want from our model.\n",
    "\n",
    "* Sensitivity: the proportion of the affected population that is diagnosed correctly  \n",
    "    * As sensitivity increases, more patients who need treatment receive it.\n",
    "    \n",
    "\n",
    "* Specificity: the proportion of the unaffected population that is diagnosed correctly  \n",
    "    * As specificity increases, fewer patients are falsely reassured and don't receive needed treatment."
   ]
  },
  {
   "cell_type": "markdown",
   "metadata": {},
   "source": [
    "* We may prefer sensitivity to specificity, depeneding on how steep the tradeoff is.\n",
    "    * For a serious condition like breast cancer, this would require more biopsies, and needlessly worry more patients, at the expense of not missing patients who need treatment. \n",
    "\n",
    "Another option, is for samples close to our desired cutoff to recommend careful observation.  This would make most sense when other evidence from a mammogram, or ultrasound suggests the mass is benign"
   ]
  },
  {
   "cell_type": "code",
   "execution_count": 42,
   "metadata": {},
   "outputs": [],
   "source": [
    "def perf(pred, ans=Y_test, labels=[1,0]):\n",
    "    conf_matrix = sk.metrics.confusion_matrix(Y_test, pred_bin, labels=[1,0])\n",
    "    conf_matrix = conf_matrix.transpose() # sklearn uses nonstandard form of confusion matrix\n",
    "    df_conf = pd.DataFrame(data = (conf_matrix),\n",
    "                           columns=['True positives','True negatives'],\n",
    "                           index = ['Predicted positive','Predicted negative'])\n",
    "    sens = conf_matrix[0,0]/np.sum(conf_matrix[:,0])\n",
    "    spec = conf_matrix[1,1]/np.sum(conf_matrix[:,1])\n",
    "    acc = sk.metrics.accuracy_score(ans, pred)\n",
    "    f1 = sk.metrics.f1_score(ans, pred)\n",
    "    PPV = conf_matrix[0,0]/np.sum(conf_matrix[0,:])\n",
    "    NPV = conf_matrix[1,1]/np.sum(conf_matrix[1,:])\n",
    "    display(df_conf)\n",
    "    print('sensitivity:', sens)\n",
    "    print('specificity:', spec,end='\\n\\n')\n",
    "    print('PPV = Precision:', PPV)\n",
    "    print('NPV:', NPV,end='\\n\\n')\n",
    "    print('accuracy:', acc)\n",
    "    print('f1 score:', f1)"
   ]
  },
  {
   "cell_type": "code",
   "execution_count": 43,
   "metadata": {},
   "outputs": [
    {
     "data": {
      "text/html": [
       "<div>\n",
       "<style scoped>\n",
       "    .dataframe tbody tr th:only-of-type {\n",
       "        vertical-align: middle;\n",
       "    }\n",
       "\n",
       "    .dataframe tbody tr th {\n",
       "        vertical-align: top;\n",
       "    }\n",
       "\n",
       "    .dataframe thead th {\n",
       "        text-align: right;\n",
       "    }\n",
       "</style>\n",
       "<table border=\"1\" class=\"dataframe\">\n",
       "  <thead>\n",
       "    <tr style=\"text-align: right;\">\n",
       "      <th></th>\n",
       "      <th>True positives</th>\n",
       "      <th>True negatives</th>\n",
       "    </tr>\n",
       "  </thead>\n",
       "  <tbody>\n",
       "    <tr>\n",
       "      <th>Predicted positive</th>\n",
       "      <td>40</td>\n",
       "      <td>3</td>\n",
       "    </tr>\n",
       "    <tr>\n",
       "      <th>Predicted negative</th>\n",
       "      <td>4</td>\n",
       "      <td>67</td>\n",
       "    </tr>\n",
       "  </tbody>\n",
       "</table>\n",
       "</div>"
      ],
      "text/plain": [
       "                    True positives  True negatives\n",
       "Predicted positive              40               3\n",
       "Predicted negative               4              67"
      ]
     },
     "metadata": {},
     "output_type": "display_data"
    },
    {
     "name": "stdout",
     "output_type": "stream",
     "text": [
      "sensitivity: 0.9090909090909091\n",
      "specificity: 0.9571428571428572\n",
      "\n",
      "PPV = Precision: 0.9302325581395349\n",
      "NPV: 0.9436619718309859\n",
      "\n",
      "accuracy: 0.9385964912280702\n",
      "f1 score: 0.9195402298850575\n"
     ]
    }
   ],
   "source": [
    "pred_bin = to_binary_pred(pred_scaled,cutoff=.61)\n",
    "perf(pred_bin)"
   ]
  },
  {
   "cell_type": "markdown",
   "metadata": {},
   "source": [
    "While Sensitivity, and Specificity tell us how likely the test will find the correct result.  \n",
    "Positive and Negative Predictive Value characterize the certainty that the test result was correct."
   ]
  },
  {
   "cell_type": "markdown",
   "metadata": {},
   "source": [
    "### Another approach to dimensionality reduction  \n",
    "Using sklearn's KernelPCA which can apply nonlinear transformations"
   ]
  },
  {
   "cell_type": "code",
   "execution_count": 44,
   "metadata": {},
   "outputs": [],
   "source": [
    "kpca = KernelPCA(n_components=14, kernel='sigmoid', gamma=15)\n",
    "X_kpca =  kpca.fit_transform(data_train)\n",
    "X_kpca_test = kpca.transform(data_test)"
   ]
  },
  {
   "cell_type": "code",
   "execution_count": 45,
   "metadata": {},
   "outputs": [],
   "source": [
    "clf = SVR(gamma='scale', C=1)\n",
    "clf.fit(X_kpca, Y_train)\n",
    "\n",
    "pred = clf.predict(X_kpca_test)\n",
    "# pred_scaled = [(pred[i]-np.min(pred))/(np.max(pred)-np.min(pred)) for i in range(len(pred))]"
   ]
  },
  {
   "cell_type": "code",
   "execution_count": 46,
   "metadata": {},
   "outputs": [],
   "source": [
    "pred_scaled = sigmoid(pred)"
   ]
  },
  {
   "cell_type": "code",
   "execution_count": 47,
   "metadata": {},
   "outputs": [
    {
     "name": "stdout",
     "output_type": "stream",
     "text": [
      "AUC: 0.9951298701298701\n"
     ]
    },
    {
     "data": {
      "image/png": "[encoded data removed]",
      "text/plain": [
       "<Figure size 1224x504 with 1 Axes>"
      ]
     },
     "metadata": {
      "needs_background": "light"
     },
     "output_type": "display_data"
    }
   ],
   "source": [
    "plot_roc(pred_scaled,plot_type='scatter')"
   ]
  },
  {
   "cell_type": "code",
   "execution_count": 48,
   "metadata": {},
   "outputs": [
    {
     "data": {
      "text/html": [
       "<div>\n",
       "<style scoped>\n",
       "    .dataframe tbody tr th:only-of-type {\n",
       "        vertical-align: middle;\n",
       "    }\n",
       "\n",
       "    .dataframe tbody tr th {\n",
       "        vertical-align: top;\n",
       "    }\n",
       "\n",
       "    .dataframe thead th {\n",
       "        text-align: right;\n",
       "    }\n",
       "</style>\n",
       "<table border=\"1\" class=\"dataframe\">\n",
       "  <thead>\n",
       "    <tr style=\"text-align: right;\">\n",
       "      <th></th>\n",
       "      <th>tpr</th>\n",
       "      <th>fpr</th>\n",
       "      <th>cutoff</th>\n",
       "    </tr>\n",
       "    <tr>\n",
       "      <th>point</th>\n",
       "      <th></th>\n",
       "      <th></th>\n",
       "      <th></th>\n",
       "    </tr>\n",
       "  </thead>\n",
       "  <tbody>\n",
       "    <tr>\n",
       "      <th>0</th>\n",
       "      <td>0.00</td>\n",
       "      <td>0.00</td>\n",
       "      <td>1.76</td>\n",
       "    </tr>\n",
       "    <tr>\n",
       "      <th>1</th>\n",
       "      <td>0.02</td>\n",
       "      <td>0.00</td>\n",
       "      <td>0.76</td>\n",
       "    </tr>\n",
       "    <tr>\n",
       "      <th>2</th>\n",
       "      <td>0.89</td>\n",
       "      <td>0.00</td>\n",
       "      <td>0.67</td>\n",
       "    </tr>\n",
       "    <tr>\n",
       "      <th>3</th>\n",
       "      <td>0.89</td>\n",
       "      <td>0.03</td>\n",
       "      <td>0.66</td>\n",
       "    </tr>\n",
       "    <tr>\n",
       "      <th>4</th>\n",
       "      <td>0.91</td>\n",
       "      <td>0.03</td>\n",
       "      <td>0.66</td>\n",
       "    </tr>\n",
       "    <tr>\n",
       "      <th>5</th>\n",
       "      <td>0.91</td>\n",
       "      <td>0.04</td>\n",
       "      <td>0.64</td>\n",
       "    </tr>\n",
       "    <tr>\n",
       "      <th>6</th>\n",
       "      <td>0.98</td>\n",
       "      <td>0.04</td>\n",
       "      <td>0.63</td>\n",
       "    </tr>\n",
       "    <tr>\n",
       "      <th>7</th>\n",
       "      <td>0.98</td>\n",
       "      <td>0.06</td>\n",
       "      <td>0.62</td>\n",
       "    </tr>\n",
       "    <tr>\n",
       "      <th>8</th>\n",
       "      <td>1.00</td>\n",
       "      <td>0.06</td>\n",
       "      <td>0.61</td>\n",
       "    </tr>\n",
       "    <tr>\n",
       "      <th>9</th>\n",
       "      <td>1.00</td>\n",
       "      <td>1.00</td>\n",
       "      <td>0.46</td>\n",
       "    </tr>\n",
       "  </tbody>\n",
       "</table>\n",
       "</div>"
      ],
      "text/plain": [
       "        tpr   fpr  cutoff\n",
       "point                    \n",
       "0      0.00  0.00    1.76\n",
       "1      0.02  0.00    0.76\n",
       "2      0.89  0.00    0.67\n",
       "3      0.89  0.03    0.66\n",
       "4      0.91  0.03    0.66\n",
       "5      0.91  0.04    0.64\n",
       "6      0.98  0.04    0.63\n",
       "7      0.98  0.06    0.62\n",
       "8      1.00  0.06    0.61\n",
       "9      1.00  1.00    0.46"
      ]
     },
     "execution_count": 48,
     "metadata": {},
     "output_type": "execute_result"
    }
   ],
   "source": [
    "cutoffs(pred_scaled)"
   ]
  },
  {
   "cell_type": "code",
   "execution_count": 49,
   "metadata": {},
   "outputs": [
    {
     "data": {
      "text/html": [
       "<div>\n",
       "<style scoped>\n",
       "    .dataframe tbody tr th:only-of-type {\n",
       "        vertical-align: middle;\n",
       "    }\n",
       "\n",
       "    .dataframe tbody tr th {\n",
       "        vertical-align: top;\n",
       "    }\n",
       "\n",
       "    .dataframe thead th {\n",
       "        text-align: right;\n",
       "    }\n",
       "</style>\n",
       "<table border=\"1\" class=\"dataframe\">\n",
       "  <thead>\n",
       "    <tr style=\"text-align: right;\">\n",
       "      <th></th>\n",
       "      <th>True positives</th>\n",
       "      <th>True negatives</th>\n",
       "    </tr>\n",
       "  </thead>\n",
       "  <tbody>\n",
       "    <tr>\n",
       "      <th>Predicted positive</th>\n",
       "      <td>43</td>\n",
       "      <td>4</td>\n",
       "    </tr>\n",
       "    <tr>\n",
       "      <th>Predicted negative</th>\n",
       "      <td>1</td>\n",
       "      <td>66</td>\n",
       "    </tr>\n",
       "  </tbody>\n",
       "</table>\n",
       "</div>"
      ],
      "text/plain": [
       "                    True positives  True negatives\n",
       "Predicted positive              43               4\n",
       "Predicted negative               1              66"
      ]
     },
     "metadata": {},
     "output_type": "display_data"
    },
    {
     "name": "stdout",
     "output_type": "stream",
     "text": [
      "sensitivity: 0.9772727272727273\n",
      "specificity: 0.9428571428571428\n",
      "\n",
      "PPV = Precision: 0.9148936170212766\n",
      "NPV: 0.9850746268656716\n",
      "\n",
      "accuracy: 0.956140350877193\n",
      "f1 score: 0.945054945054945\n"
     ]
    }
   ],
   "source": [
    "pred_bin = to_binary_pred(pred_scaled,cutoff=.61)\n",
    "perf(pred_bin)"
   ]
  },
  {
   "cell_type": "markdown",
   "metadata": {},
   "source": [
    "### Using Keras to create a deep learning network  \n",
    "the input_shape is the number of features we're using\n",
    "here I have 4 hidden layers of size 30\n",
    "and 1 output layer, with a single node\n",
    "\n",
    "The advantages of deep learning networks is that they can create their own nonlinear feature sets by combining the inputs into hidden layers.  This can alleviate the work of feature engineering.  \n",
    "\n",
    "To prevent overfitting we tune the hyperparameters of the model.  Here I applied a regularization term to the final layer.  One could use a regularization term on each layer with a correspondingly lower value (lambda).  \n",
    "\n",
    "Think of regularization as penalizing the weight matrix of the model.  If lambda is low, the model is not penalized for applying value to the noise.  If lambda is high, the model underfits the data, as it prefers smaller weights."
   ]
  },
  {
   "cell_type": "code",
   "execution_count": 50,
   "metadata": {},
   "outputs": [],
   "source": [
    "model = models.Sequential()\n",
    "model.add(layers.Dense(30, activation = 'relu', input_shape = (30,))) # input 1 for test, 30 for all features\n",
    "model.add(layers.Dense(30, activation = 'relu',))\n",
    "model.add(layers.Dense(30, activation = 'relu',))\n",
    "model.add(layers.Dense(1, activation = 'sigmoid',kernel_regularizer=regularizers.l2(0.03)))"
   ]
  },
  {
   "cell_type": "markdown",
   "metadata": {},
   "source": [
    "The output layer of the neural net above is a single node.  \n",
    "Its uses the sigmoid activation, to constrain its output between 0 and 1  \n",
    "0 the model is confident the features represent a benign sample  \n",
    "1 the model is confident the sample is malignant\n",
    "\n",
    "Further below we will plot a ROC curve, and evaluate how to choose a cutoff value somewhere between 0 and 1"
   ]
  },
  {
   "cell_type": "code",
   "execution_count": 51,
   "metadata": {},
   "outputs": [],
   "source": [
    "model.compile(optimizer=optimizers.RMSprop(lr=.001),\n",
    "             loss = losses.binary_crossentropy,   # test this\n",
    "             metrics = [metrics.binary_accuracy])"
   ]
  },
  {
   "cell_type": "code",
   "execution_count": 52,
   "metadata": {
    "scrolled": true
   },
   "outputs": [
    {
     "name": "stdout",
     "output_type": "stream",
     "text": [
      "Epoch 1/40\n",
      " - 4s - loss: 0.5684 - binary_accuracy: 0.8549\n",
      "Epoch 2/40\n",
      " - 0s - loss: 0.3503 - binary_accuracy: 0.9495\n",
      "Epoch 3/40\n",
      " - 0s - loss: 0.2489 - binary_accuracy: 0.9560\n",
      "Epoch 4/40\n",
      " - 0s - loss: 0.1934 - binary_accuracy: 0.9670\n",
      "Epoch 5/40\n",
      " - 0s - loss: 0.1622 - binary_accuracy: 0.9714\n",
      "Epoch 6/40\n",
      " - 0s - loss: 0.1433 - binary_accuracy: 0.9714\n",
      "Epoch 7/40\n",
      " - 0s - loss: 0.1304 - binary_accuracy: 0.9780\n",
      "Epoch 8/40\n",
      " - 0s - loss: 0.1208 - binary_accuracy: 0.9780\n",
      "Epoch 9/40\n",
      " - 0s - loss: 0.1126 - binary_accuracy: 0.9780\n",
      "Epoch 10/40\n",
      " - 0s - loss: 0.1044 - binary_accuracy: 0.9802\n",
      "Epoch 11/40\n",
      " - 0s - loss: 0.0981 - binary_accuracy: 0.9802\n",
      "Epoch 12/40\n",
      " - 0s - loss: 0.0938 - binary_accuracy: 0.9824\n",
      "Epoch 13/40\n",
      " - 0s - loss: 0.0880 - binary_accuracy: 0.9824\n",
      "Epoch 14/40\n",
      " - 0s - loss: 0.0828 - binary_accuracy: 0.9846\n",
      "Epoch 15/40\n",
      " - 0s - loss: 0.0790 - binary_accuracy: 0.9868\n",
      "Epoch 16/40\n",
      " - 0s - loss: 0.0752 - binary_accuracy: 0.9868\n",
      "Epoch 17/40\n",
      " - 0s - loss: 0.0701 - binary_accuracy: 0.9868\n",
      "Epoch 18/40\n",
      " - 0s - loss: 0.0666 - binary_accuracy: 0.9890\n",
      "Epoch 19/40\n",
      " - 0s - loss: 0.0634 - binary_accuracy: 0.9912\n",
      "Epoch 20/40\n",
      " - 0s - loss: 0.0606 - binary_accuracy: 0.9912\n",
      "Epoch 21/40\n",
      " - 0s - loss: 0.0580 - binary_accuracy: 0.9912\n",
      "Epoch 22/40\n",
      " - 0s - loss: 0.0548 - binary_accuracy: 0.9912\n",
      "Epoch 23/40\n",
      " - 0s - loss: 0.0527 - binary_accuracy: 0.9912\n",
      "Epoch 24/40\n",
      " - 0s - loss: 0.0498 - binary_accuracy: 0.9912\n",
      "Epoch 25/40\n",
      " - 0s - loss: 0.0472 - binary_accuracy: 0.9912\n",
      "Epoch 26/40\n",
      " - 0s - loss: 0.0449 - binary_accuracy: 0.9912\n",
      "Epoch 27/40\n",
      " - 0s - loss: 0.0429 - binary_accuracy: 0.9934\n",
      "Epoch 28/40\n",
      " - 0s - loss: 0.0413 - binary_accuracy: 0.9912\n",
      "Epoch 29/40\n",
      " - 0s - loss: 0.0392 - binary_accuracy: 0.9912\n",
      "Epoch 30/40\n",
      " - 0s - loss: 0.0371 - binary_accuracy: 0.9934\n",
      "Epoch 31/40\n",
      " - 0s - loss: 0.0359 - binary_accuracy: 0.9934\n",
      "Epoch 32/40\n",
      " - 0s - loss: 0.0339 - binary_accuracy: 0.9934\n",
      "Epoch 33/40\n",
      " - 0s - loss: 0.0328 - binary_accuracy: 0.9956\n",
      "Epoch 34/40\n",
      " - 0s - loss: 0.0310 - binary_accuracy: 0.9956\n",
      "Epoch 35/40\n",
      " - 0s - loss: 0.0298 - binary_accuracy: 0.9956\n",
      "Epoch 36/40\n",
      " - 0s - loss: 0.0290 - binary_accuracy: 0.9934\n",
      "Epoch 37/40\n",
      " - 0s - loss: 0.0276 - binary_accuracy: 0.9956\n",
      "Epoch 38/40\n",
      " - 0s - loss: 0.0265 - binary_accuracy: 0.9934\n",
      "Epoch 39/40\n",
      " - 0s - loss: 0.0241 - binary_accuracy: 0.9956\n",
      "Epoch 40/40\n",
      " - 0s - loss: 0.0234 - binary_accuracy: 0.9978\n"
     ]
    }
   ],
   "source": [
    "start = timeit.default_timer()\n",
    "model.fit(data_train,\n",
    "         Y_train,\n",
    "         epochs = 40,\n",
    "         batch_size = 32,\n",
    "         #validation_data = ()\n",
    "         verbose = 2)\n",
    "end = timeit.default_timer()"
   ]
  },
  {
   "cell_type": "code",
   "execution_count": 53,
   "metadata": {},
   "outputs": [
    {
     "name": "stdout",
     "output_type": "stream",
     "text": [
      "training time: 5.94157244400003\n"
     ]
    }
   ],
   "source": [
    "print('training time:', end - start)"
   ]
  },
  {
   "cell_type": "code",
   "execution_count": 54,
   "metadata": {},
   "outputs": [
    {
     "data": {
      "text/plain": [
       "dict_keys(['loss', 'binary_accuracy'])"
      ]
     },
     "execution_count": 54,
     "metadata": {},
     "output_type": "execute_result"
    }
   ],
   "source": [
    "acc = model.history\n",
    "acc.history.keys()"
   ]
  },
  {
   "cell_type": "code",
   "execution_count": 55,
   "metadata": {},
   "outputs": [
    {
     "data": {
      "text/plain": [
       "Text(0, 0.5, 'accuracy on training set')"
      ]
     },
     "execution_count": 55,
     "metadata": {},
     "output_type": "execute_result"
    },
    {
     "data": {
      "image/png": "[encoded data removed]",
      "text/plain": [
       "<Figure size 1224x504 with 1 Axes>"
      ]
     },
     "metadata": {
      "needs_background": "light"
     },
     "output_type": "display_data"
    }
   ],
   "source": [
    "epochs = 40\n",
    "x_vals = list(range(1,epochs+1))\n",
    "y_vals = acc.history['binary_accuracy']\n",
    "plt.plot(x_vals,y_vals)\n",
    "plt.xlabel('epochs')\n",
    "plt.ylabel('accuracy on training set')"
   ]
  },
  {
   "cell_type": "code",
   "execution_count": 56,
   "metadata": {},
   "outputs": [],
   "source": [
    "# model.save('/home/david/keras/kaggle/dnn')"
   ]
  },
  {
   "cell_type": "code",
   "execution_count": 57,
   "metadata": {},
   "outputs": [
    {
     "name": "stdout",
     "output_type": "stream",
     "text": [
      "AUC: 0.9951298701298701\n"
     ]
    },
    {
     "data": {
      "image/png": "[encoded data removed]",
      "text/plain": [
       "<Figure size 1224x504 with 1 Axes>"
      ]
     },
     "metadata": {
      "needs_background": "light"
     },
     "output_type": "display_data"
    }
   ],
   "source": [
    "pred = model.predict(data_test)\n",
    "plot_roc(pred)"
   ]
  },
  {
   "cell_type": "code",
   "execution_count": 58,
   "metadata": {},
   "outputs": [
    {
     "name": "stdout",
     "output_type": "stream",
     "text": [
      "AUC: 0.9951298701298701\n"
     ]
    },
    {
     "data": {
      "image/png": "[encoded data removed]",
      "text/plain": [
       "<Figure size 1224x504 with 1 Axes>"
      ]
     },
     "metadata": {
      "needs_background": "light"
     },
     "output_type": "display_data"
    }
   ],
   "source": [
    "plot_roc(pred,plot_type='scatter')"
   ]
  },
  {
   "cell_type": "code",
   "execution_count": 59,
   "metadata": {},
   "outputs": [
    {
     "data": {
      "text/html": [
       "<div>\n",
       "<style scoped>\n",
       "    .dataframe tbody tr th:only-of-type {\n",
       "        vertical-align: middle;\n",
       "    }\n",
       "\n",
       "    .dataframe tbody tr th {\n",
       "        vertical-align: top;\n",
       "    }\n",
       "\n",
       "    .dataframe thead th {\n",
       "        text-align: right;\n",
       "    }\n",
       "</style>\n",
       "<table border=\"1\" class=\"dataframe\">\n",
       "  <thead>\n",
       "    <tr style=\"text-align: right;\">\n",
       "      <th></th>\n",
       "      <th>tpr</th>\n",
       "      <th>fpr</th>\n",
       "      <th>cutoff</th>\n",
       "    </tr>\n",
       "    <tr>\n",
       "      <th>point</th>\n",
       "      <th></th>\n",
       "      <th></th>\n",
       "      <th></th>\n",
       "    </tr>\n",
       "  </thead>\n",
       "  <tbody>\n",
       "    <tr>\n",
       "      <th>0</th>\n",
       "      <td>0.00</td>\n",
       "      <td>0.00</td>\n",
       "      <td>2.00</td>\n",
       "    </tr>\n",
       "    <tr>\n",
       "      <th>1</th>\n",
       "      <td>0.59</td>\n",
       "      <td>0.00</td>\n",
       "      <td>1.00</td>\n",
       "    </tr>\n",
       "    <tr>\n",
       "      <th>2</th>\n",
       "      <td>0.93</td>\n",
       "      <td>0.00</td>\n",
       "      <td>0.98</td>\n",
       "    </tr>\n",
       "    <tr>\n",
       "      <th>3</th>\n",
       "      <td>0.93</td>\n",
       "      <td>0.01</td>\n",
       "      <td>0.95</td>\n",
       "    </tr>\n",
       "    <tr>\n",
       "      <th>4</th>\n",
       "      <td>0.98</td>\n",
       "      <td>0.01</td>\n",
       "      <td>0.88</td>\n",
       "    </tr>\n",
       "    <tr>\n",
       "      <th>5</th>\n",
       "      <td>0.98</td>\n",
       "      <td>0.04</td>\n",
       "      <td>0.51</td>\n",
       "    </tr>\n",
       "    <tr>\n",
       "      <th>6</th>\n",
       "      <td>1.00</td>\n",
       "      <td>0.04</td>\n",
       "      <td>0.50</td>\n",
       "    </tr>\n",
       "    <tr>\n",
       "      <th>7</th>\n",
       "      <td>1.00</td>\n",
       "      <td>1.00</td>\n",
       "      <td>0.00</td>\n",
       "    </tr>\n",
       "  </tbody>\n",
       "</table>\n",
       "</div>"
      ],
      "text/plain": [
       "        tpr   fpr  cutoff\n",
       "point                    \n",
       "0      0.00  0.00    2.00\n",
       "1      0.59  0.00    1.00\n",
       "2      0.93  0.00    0.98\n",
       "3      0.93  0.01    0.95\n",
       "4      0.98  0.01    0.88\n",
       "5      0.98  0.04    0.51\n",
       "6      1.00  0.04    0.50\n",
       "7      1.00  1.00    0.00"
      ]
     },
     "execution_count": 59,
     "metadata": {},
     "output_type": "execute_result"
    }
   ],
   "source": [
    "cutoffs(pred)"
   ]
  },
  {
   "cell_type": "code",
   "execution_count": 60,
   "metadata": {},
   "outputs": [
    {
     "data": {
      "text/html": [
       "<div>\n",
       "<style scoped>\n",
       "    .dataframe tbody tr th:only-of-type {\n",
       "        vertical-align: middle;\n",
       "    }\n",
       "\n",
       "    .dataframe tbody tr th {\n",
       "        vertical-align: top;\n",
       "    }\n",
       "\n",
       "    .dataframe thead th {\n",
       "        text-align: right;\n",
       "    }\n",
       "</style>\n",
       "<table border=\"1\" class=\"dataframe\">\n",
       "  <thead>\n",
       "    <tr style=\"text-align: right;\">\n",
       "      <th></th>\n",
       "      <th>True positives</th>\n",
       "      <th>True negatives</th>\n",
       "    </tr>\n",
       "  </thead>\n",
       "  <tbody>\n",
       "    <tr>\n",
       "      <th>Predicted positive</th>\n",
       "      <td>43</td>\n",
       "      <td>2</td>\n",
       "    </tr>\n",
       "    <tr>\n",
       "      <th>Predicted negative</th>\n",
       "      <td>1</td>\n",
       "      <td>68</td>\n",
       "    </tr>\n",
       "  </tbody>\n",
       "</table>\n",
       "</div>"
      ],
      "text/plain": [
       "                    True positives  True negatives\n",
       "Predicted positive              43               2\n",
       "Predicted negative               1              68"
      ]
     },
     "metadata": {},
     "output_type": "display_data"
    },
    {
     "name": "stdout",
     "output_type": "stream",
     "text": [
      "sensitivity: 0.9772727272727273\n",
      "specificity: 0.9714285714285714\n",
      "\n",
      "PPV = Precision: 0.9555555555555556\n",
      "NPV: 0.9855072463768116\n",
      "\n",
      "accuracy: 0.9736842105263158\n",
      "f1 score: 0.9662921348314608\n"
     ]
    }
   ],
   "source": [
    "pred_bin = to_binary_pred(pred,cutoff=.55)\n",
    "perf(pred_bin)"
   ]
  },
  {
   "cell_type": "markdown",
   "metadata": {},
   "source": [
    "To check the utility of the above analysis let's compare to clinical data.  \n",
    "https://www.ncbi.nlm.nih.gov/pubmed/17986804  \n",
    "This is a study of 382 cases of FNA of suspicious breast lesions.  \n",
    "They report sensitivity of 86.3%, specificity of 98.2%, and accuracy of 93.2%\n",
    "\n",
    "Our model compares favorably to the clinical results.  We obtain a higher sensitivity without loss of specificity."
   ]
  }
 ],
 "metadata": {
  "kernelspec": {
   "display_name": "Python 3",
   "language": "python",
   "name": "python3"
  },
  "language_info": {
   "codemirror_mode": {
    "name": "ipython",
    "version": 3
   },
   "file_extension": ".py",
   "mimetype": "text/x-python",
   "name": "python",
   "nbconvert_exporter": "python",
   "pygments_lexer": "ipython3",
   "version": "3.5.6"
  }
 },
 "nbformat": 4,
 "nbformat_minor": 2
}
