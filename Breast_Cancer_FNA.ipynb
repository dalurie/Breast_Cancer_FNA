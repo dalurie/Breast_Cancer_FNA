{
 "cells": [
  {
   "cell_type": "markdown",
   "metadata": {},
   "source": [
    "Dataset available at:  \n",
    "https://www.kaggle.com/uciml/breast-cancer-wisconsin-data\n",
    "\n",
    "The Dataset provides information on 569 patients, their diagnosis, and 30 characteristics of their Fine Needle Aspirate (FNA) biopsy.  \n",
    "\n",
    "An FNA is a procedure wherein a thin needle is used to collect sample cells from either a suspicious mass or a suspicious lymph node.  It typically follows a mammogram and it is relatively noninvasive.  The downside of an FNA is that there is a small sample collected, and drawing through a small needle destroys the architecture of the sample.  That is to say, we receive a sample of individual cells, and can characterize them with microscopy, but we cannot see how the cells fit in relation to one another.  Another option at this stage in diagnosis are the core needle biopsy, which uses a larger needle, yields a larger sample, and can preserve structure.  Should the FNA be positive, it would be followed by an excisional biopsy, or surgical resection.\n",
    "\n",
    "Note here that the features refer to individual nuclei, their size, smoothness or their borders, etc.  These features are generated from digitized images.  \n",
    "\n",
    "The goals here are:\n",
    "* Data exploration, seeing what features are most predictive of malignancy.\n",
    "* To apply classical, supervised, machine learning models\n",
    "* Train a deep neural net with Keras\n",
    "* Quantify the performance of these models.\n",
    "\n",
    "Our models provide excellent accuracy and could be useful clinically.  Their use might include confirmation of pathologists readings.  Similarly if our model contradicts the pathologist, further diagnostic testing or consultation might be merited.  Our model, since it obtains excellent results, might be useful in underserved areas or undeveloped countries, where pathologists might not be available, but an FNA biopsy could be performed by a primary care provider.  \n",
    "\n",
    "references:  \n",
    "https://www.uptodate.com/contents/breast-biopsy  \n",
    "https://onlinelibrary.wiley.com/doi/full/10.1002/cncy.21742"
   ]
  },
  {
   "cell_type": "code",
   "execution_count": 57,
   "metadata": {},
   "outputs": [],
   "source": [
    "import pandas as pd\n",
    "import matplotlib.pyplot as plt\n",
    "import numpy as np\n",
    "from keras import models\n",
    "from keras import layers\n",
    "from keras import optimizers\n",
    "from keras import losses\n",
    "from keras import metrics\n",
    "from keras import regularizers\n",
    "import sklearn as sk\n",
    "from sklearn import svm\n",
    "from sklearn.svm import SVR\n",
    "from sklearn.ensemble import RandomForestRegressor as rfr\n",
    "from sklearn.decomposition import KernelPCA\n",
    "import timeit"
   ]
  },
  {
   "cell_type": "code",
   "execution_count": 58,
   "metadata": {},
   "outputs": [
    {
     "data": {
      "text/html": [
       "<div>\n",
       "<style scoped>\n",
       "    .dataframe tbody tr th:only-of-type {\n",
       "        vertical-align: middle;\n",
       "    }\n",
       "\n",
       "    .dataframe tbody tr th {\n",
       "        vertical-align: top;\n",
       "    }\n",
       "\n",
       "    .dataframe thead th {\n",
       "        text-align: right;\n",
       "    }\n",
       "</style>\n",
       "<table border=\"1\" class=\"dataframe\">\n",
       "  <thead>\n",
       "    <tr style=\"text-align: right;\">\n",
       "      <th></th>\n",
       "      <th>id</th>\n",
       "      <th>diagnosis</th>\n",
       "      <th>radius_mean</th>\n",
       "      <th>texture_mean</th>\n",
       "      <th>perimeter_mean</th>\n",
       "      <th>area_mean</th>\n",
       "      <th>smoothness_mean</th>\n",
       "      <th>compactness_mean</th>\n",
       "      <th>concavity_mean</th>\n",
       "      <th>concave points_mean</th>\n",
       "      <th>...</th>\n",
       "      <th>texture_worst</th>\n",
       "      <th>perimeter_worst</th>\n",
       "      <th>area_worst</th>\n",
       "      <th>smoothness_worst</th>\n",
       "      <th>compactness_worst</th>\n",
       "      <th>concavity_worst</th>\n",
       "      <th>concave points_worst</th>\n",
       "      <th>symmetry_worst</th>\n",
       "      <th>fractal_dimension_worst</th>\n",
       "      <th>Unnamed: 32</th>\n",
       "    </tr>\n",
       "  </thead>\n",
       "  <tbody>\n",
       "    <tr>\n",
       "      <th>0</th>\n",
       "      <td>842302</td>\n",
       "      <td>M</td>\n",
       "      <td>17.99</td>\n",
       "      <td>10.38</td>\n",
       "      <td>122.80</td>\n",
       "      <td>1001.0</td>\n",
       "      <td>0.11840</td>\n",
       "      <td>0.27760</td>\n",
       "      <td>0.3001</td>\n",
       "      <td>0.14710</td>\n",
       "      <td>...</td>\n",
       "      <td>17.33</td>\n",
       "      <td>184.60</td>\n",
       "      <td>2019.0</td>\n",
       "      <td>0.1622</td>\n",
       "      <td>0.6656</td>\n",
       "      <td>0.7119</td>\n",
       "      <td>0.2654</td>\n",
       "      <td>0.4601</td>\n",
       "      <td>0.11890</td>\n",
       "      <td>NaN</td>\n",
       "    </tr>\n",
       "    <tr>\n",
       "      <th>1</th>\n",
       "      <td>842517</td>\n",
       "      <td>M</td>\n",
       "      <td>20.57</td>\n",
       "      <td>17.77</td>\n",
       "      <td>132.90</td>\n",
       "      <td>1326.0</td>\n",
       "      <td>0.08474</td>\n",
       "      <td>0.07864</td>\n",
       "      <td>0.0869</td>\n",
       "      <td>0.07017</td>\n",
       "      <td>...</td>\n",
       "      <td>23.41</td>\n",
       "      <td>158.80</td>\n",
       "      <td>1956.0</td>\n",
       "      <td>0.1238</td>\n",
       "      <td>0.1866</td>\n",
       "      <td>0.2416</td>\n",
       "      <td>0.1860</td>\n",
       "      <td>0.2750</td>\n",
       "      <td>0.08902</td>\n",
       "      <td>NaN</td>\n",
       "    </tr>\n",
       "    <tr>\n",
       "      <th>2</th>\n",
       "      <td>84300903</td>\n",
       "      <td>M</td>\n",
       "      <td>19.69</td>\n",
       "      <td>21.25</td>\n",
       "      <td>130.00</td>\n",
       "      <td>1203.0</td>\n",
       "      <td>0.10960</td>\n",
       "      <td>0.15990</td>\n",
       "      <td>0.1974</td>\n",
       "      <td>0.12790</td>\n",
       "      <td>...</td>\n",
       "      <td>25.53</td>\n",
       "      <td>152.50</td>\n",
       "      <td>1709.0</td>\n",
       "      <td>0.1444</td>\n",
       "      <td>0.4245</td>\n",
       "      <td>0.4504</td>\n",
       "      <td>0.2430</td>\n",
       "      <td>0.3613</td>\n",
       "      <td>0.08758</td>\n",
       "      <td>NaN</td>\n",
       "    </tr>\n",
       "    <tr>\n",
       "      <th>3</th>\n",
       "      <td>84348301</td>\n",
       "      <td>M</td>\n",
       "      <td>11.42</td>\n",
       "      <td>20.38</td>\n",
       "      <td>77.58</td>\n",
       "      <td>386.1</td>\n",
       "      <td>0.14250</td>\n",
       "      <td>0.28390</td>\n",
       "      <td>0.2414</td>\n",
       "      <td>0.10520</td>\n",
       "      <td>...</td>\n",
       "      <td>26.50</td>\n",
       "      <td>98.87</td>\n",
       "      <td>567.7</td>\n",
       "      <td>0.2098</td>\n",
       "      <td>0.8663</td>\n",
       "      <td>0.6869</td>\n",
       "      <td>0.2575</td>\n",
       "      <td>0.6638</td>\n",
       "      <td>0.17300</td>\n",
       "      <td>NaN</td>\n",
       "    </tr>\n",
       "    <tr>\n",
       "      <th>4</th>\n",
       "      <td>84358402</td>\n",
       "      <td>M</td>\n",
       "      <td>20.29</td>\n",
       "      <td>14.34</td>\n",
       "      <td>135.10</td>\n",
       "      <td>1297.0</td>\n",
       "      <td>0.10030</td>\n",
       "      <td>0.13280</td>\n",
       "      <td>0.1980</td>\n",
       "      <td>0.10430</td>\n",
       "      <td>...</td>\n",
       "      <td>16.67</td>\n",
       "      <td>152.20</td>\n",
       "      <td>1575.0</td>\n",
       "      <td>0.1374</td>\n",
       "      <td>0.2050</td>\n",
       "      <td>0.4000</td>\n",
       "      <td>0.1625</td>\n",
       "      <td>0.2364</td>\n",
       "      <td>0.07678</td>\n",
       "      <td>NaN</td>\n",
       "    </tr>\n",
       "  </tbody>\n",
       "</table>\n",
       "<p>5 rows × 33 columns</p>\n",
       "</div>"
      ],
      "text/plain": [
       "         id diagnosis  radius_mean  texture_mean  perimeter_mean  area_mean  \\\n",
       "0    842302         M        17.99         10.38          122.80     1001.0   \n",
       "1    842517         M        20.57         17.77          132.90     1326.0   \n",
       "2  84300903         M        19.69         21.25          130.00     1203.0   \n",
       "3  84348301         M        11.42         20.38           77.58      386.1   \n",
       "4  84358402         M        20.29         14.34          135.10     1297.0   \n",
       "\n",
       "   smoothness_mean  compactness_mean  concavity_mean  concave points_mean  \\\n",
       "0          0.11840           0.27760          0.3001              0.14710   \n",
       "1          0.08474           0.07864          0.0869              0.07017   \n",
       "2          0.10960           0.15990          0.1974              0.12790   \n",
       "3          0.14250           0.28390          0.2414              0.10520   \n",
       "4          0.10030           0.13280          0.1980              0.10430   \n",
       "\n",
       "      ...       texture_worst  perimeter_worst  area_worst  smoothness_worst  \\\n",
       "0     ...               17.33           184.60      2019.0            0.1622   \n",
       "1     ...               23.41           158.80      1956.0            0.1238   \n",
       "2     ...               25.53           152.50      1709.0            0.1444   \n",
       "3     ...               26.50            98.87       567.7            0.2098   \n",
       "4     ...               16.67           152.20      1575.0            0.1374   \n",
       "\n",
       "   compactness_worst  concavity_worst  concave points_worst  symmetry_worst  \\\n",
       "0             0.6656           0.7119                0.2654          0.4601   \n",
       "1             0.1866           0.2416                0.1860          0.2750   \n",
       "2             0.4245           0.4504                0.2430          0.3613   \n",
       "3             0.8663           0.6869                0.2575          0.6638   \n",
       "4             0.2050           0.4000                0.1625          0.2364   \n",
       "\n",
       "   fractal_dimension_worst  Unnamed: 32  \n",
       "0                  0.11890          NaN  \n",
       "1                  0.08902          NaN  \n",
       "2                  0.08758          NaN  \n",
       "3                  0.17300          NaN  \n",
       "4                  0.07678          NaN  \n",
       "\n",
       "[5 rows x 33 columns]"
      ]
     },
     "metadata": {},
     "output_type": "display_data"
    },
    {
     "name": "stdout",
     "output_type": "stream",
     "text": [
      "(569, 33)\n"
     ]
    }
   ],
   "source": [
    "data = pd.read_csv(r'/home/david/keras/kaggle/data.csv')\n",
    "display(data.head())\n",
    "print(data.shape)"
   ]
  },
  {
   "cell_type": "code",
   "execution_count": 59,
   "metadata": {
    "scrolled": true
   },
   "outputs": [
    {
     "data": {
      "text/html": [
       "<div>\n",
       "<style scoped>\n",
       "    .dataframe tbody tr th:only-of-type {\n",
       "        vertical-align: middle;\n",
       "    }\n",
       "\n",
       "    .dataframe tbody tr th {\n",
       "        vertical-align: top;\n",
       "    }\n",
       "\n",
       "    .dataframe thead th {\n",
       "        text-align: right;\n",
       "    }\n",
       "</style>\n",
       "<table border=\"1\" class=\"dataframe\">\n",
       "  <thead>\n",
       "    <tr style=\"text-align: right;\">\n",
       "      <th></th>\n",
       "      <th>id</th>\n",
       "      <th>radius_mean</th>\n",
       "      <th>texture_mean</th>\n",
       "      <th>perimeter_mean</th>\n",
       "      <th>area_mean</th>\n",
       "      <th>smoothness_mean</th>\n",
       "      <th>compactness_mean</th>\n",
       "      <th>concavity_mean</th>\n",
       "      <th>concave points_mean</th>\n",
       "      <th>symmetry_mean</th>\n",
       "      <th>...</th>\n",
       "      <th>texture_worst</th>\n",
       "      <th>perimeter_worst</th>\n",
       "      <th>area_worst</th>\n",
       "      <th>smoothness_worst</th>\n",
       "      <th>compactness_worst</th>\n",
       "      <th>concavity_worst</th>\n",
       "      <th>concave points_worst</th>\n",
       "      <th>symmetry_worst</th>\n",
       "      <th>fractal_dimension_worst</th>\n",
       "      <th>Unnamed: 32</th>\n",
       "    </tr>\n",
       "  </thead>\n",
       "  <tbody>\n",
       "    <tr>\n",
       "      <th>count</th>\n",
       "      <td>5.690000e+02</td>\n",
       "      <td>569.000000</td>\n",
       "      <td>569.000000</td>\n",
       "      <td>569.000000</td>\n",
       "      <td>569.000000</td>\n",
       "      <td>569.000000</td>\n",
       "      <td>569.000000</td>\n",
       "      <td>569.000000</td>\n",
       "      <td>569.000000</td>\n",
       "      <td>569.000000</td>\n",
       "      <td>...</td>\n",
       "      <td>569.000000</td>\n",
       "      <td>569.000000</td>\n",
       "      <td>569.000000</td>\n",
       "      <td>569.000000</td>\n",
       "      <td>569.000000</td>\n",
       "      <td>569.000000</td>\n",
       "      <td>569.000000</td>\n",
       "      <td>569.000000</td>\n",
       "      <td>569.000000</td>\n",
       "      <td>0.0</td>\n",
       "    </tr>\n",
       "    <tr>\n",
       "      <th>mean</th>\n",
       "      <td>3.037183e+07</td>\n",
       "      <td>14.127292</td>\n",
       "      <td>19.289649</td>\n",
       "      <td>91.969033</td>\n",
       "      <td>654.889104</td>\n",
       "      <td>0.096360</td>\n",
       "      <td>0.104341</td>\n",
       "      <td>0.088799</td>\n",
       "      <td>0.048919</td>\n",
       "      <td>0.181162</td>\n",
       "      <td>...</td>\n",
       "      <td>25.677223</td>\n",
       "      <td>107.261213</td>\n",
       "      <td>880.583128</td>\n",
       "      <td>0.132369</td>\n",
       "      <td>0.254265</td>\n",
       "      <td>0.272188</td>\n",
       "      <td>0.114606</td>\n",
       "      <td>0.290076</td>\n",
       "      <td>0.083946</td>\n",
       "      <td>NaN</td>\n",
       "    </tr>\n",
       "    <tr>\n",
       "      <th>std</th>\n",
       "      <td>1.250206e+08</td>\n",
       "      <td>3.524049</td>\n",
       "      <td>4.301036</td>\n",
       "      <td>24.298981</td>\n",
       "      <td>351.914129</td>\n",
       "      <td>0.014064</td>\n",
       "      <td>0.052813</td>\n",
       "      <td>0.079720</td>\n",
       "      <td>0.038803</td>\n",
       "      <td>0.027414</td>\n",
       "      <td>...</td>\n",
       "      <td>6.146258</td>\n",
       "      <td>33.602542</td>\n",
       "      <td>569.356993</td>\n",
       "      <td>0.022832</td>\n",
       "      <td>0.157336</td>\n",
       "      <td>0.208624</td>\n",
       "      <td>0.065732</td>\n",
       "      <td>0.061867</td>\n",
       "      <td>0.018061</td>\n",
       "      <td>NaN</td>\n",
       "    </tr>\n",
       "    <tr>\n",
       "      <th>min</th>\n",
       "      <td>8.670000e+03</td>\n",
       "      <td>6.981000</td>\n",
       "      <td>9.710000</td>\n",
       "      <td>43.790000</td>\n",
       "      <td>143.500000</td>\n",
       "      <td>0.052630</td>\n",
       "      <td>0.019380</td>\n",
       "      <td>0.000000</td>\n",
       "      <td>0.000000</td>\n",
       "      <td>0.106000</td>\n",
       "      <td>...</td>\n",
       "      <td>12.020000</td>\n",
       "      <td>50.410000</td>\n",
       "      <td>185.200000</td>\n",
       "      <td>0.071170</td>\n",
       "      <td>0.027290</td>\n",
       "      <td>0.000000</td>\n",
       "      <td>0.000000</td>\n",
       "      <td>0.156500</td>\n",
       "      <td>0.055040</td>\n",
       "      <td>NaN</td>\n",
       "    </tr>\n",
       "    <tr>\n",
       "      <th>25%</th>\n",
       "      <td>8.692180e+05</td>\n",
       "      <td>11.700000</td>\n",
       "      <td>16.170000</td>\n",
       "      <td>75.170000</td>\n",
       "      <td>420.300000</td>\n",
       "      <td>0.086370</td>\n",
       "      <td>0.064920</td>\n",
       "      <td>0.029560</td>\n",
       "      <td>0.020310</td>\n",
       "      <td>0.161900</td>\n",
       "      <td>...</td>\n",
       "      <td>21.080000</td>\n",
       "      <td>84.110000</td>\n",
       "      <td>515.300000</td>\n",
       "      <td>0.116600</td>\n",
       "      <td>0.147200</td>\n",
       "      <td>0.114500</td>\n",
       "      <td>0.064930</td>\n",
       "      <td>0.250400</td>\n",
       "      <td>0.071460</td>\n",
       "      <td>NaN</td>\n",
       "    </tr>\n",
       "    <tr>\n",
       "      <th>50%</th>\n",
       "      <td>9.060240e+05</td>\n",
       "      <td>13.370000</td>\n",
       "      <td>18.840000</td>\n",
       "      <td>86.240000</td>\n",
       "      <td>551.100000</td>\n",
       "      <td>0.095870</td>\n",
       "      <td>0.092630</td>\n",
       "      <td>0.061540</td>\n",
       "      <td>0.033500</td>\n",
       "      <td>0.179200</td>\n",
       "      <td>...</td>\n",
       "      <td>25.410000</td>\n",
       "      <td>97.660000</td>\n",
       "      <td>686.500000</td>\n",
       "      <td>0.131300</td>\n",
       "      <td>0.211900</td>\n",
       "      <td>0.226700</td>\n",
       "      <td>0.099930</td>\n",
       "      <td>0.282200</td>\n",
       "      <td>0.080040</td>\n",
       "      <td>NaN</td>\n",
       "    </tr>\n",
       "    <tr>\n",
       "      <th>75%</th>\n",
       "      <td>8.813129e+06</td>\n",
       "      <td>15.780000</td>\n",
       "      <td>21.800000</td>\n",
       "      <td>104.100000</td>\n",
       "      <td>782.700000</td>\n",
       "      <td>0.105300</td>\n",
       "      <td>0.130400</td>\n",
       "      <td>0.130700</td>\n",
       "      <td>0.074000</td>\n",
       "      <td>0.195700</td>\n",
       "      <td>...</td>\n",
       "      <td>29.720000</td>\n",
       "      <td>125.400000</td>\n",
       "      <td>1084.000000</td>\n",
       "      <td>0.146000</td>\n",
       "      <td>0.339100</td>\n",
       "      <td>0.382900</td>\n",
       "      <td>0.161400</td>\n",
       "      <td>0.317900</td>\n",
       "      <td>0.092080</td>\n",
       "      <td>NaN</td>\n",
       "    </tr>\n",
       "    <tr>\n",
       "      <th>max</th>\n",
       "      <td>9.113205e+08</td>\n",
       "      <td>28.110000</td>\n",
       "      <td>39.280000</td>\n",
       "      <td>188.500000</td>\n",
       "      <td>2501.000000</td>\n",
       "      <td>0.163400</td>\n",
       "      <td>0.345400</td>\n",
       "      <td>0.426800</td>\n",
       "      <td>0.201200</td>\n",
       "      <td>0.304000</td>\n",
       "      <td>...</td>\n",
       "      <td>49.540000</td>\n",
       "      <td>251.200000</td>\n",
       "      <td>4254.000000</td>\n",
       "      <td>0.222600</td>\n",
       "      <td>1.058000</td>\n",
       "      <td>1.252000</td>\n",
       "      <td>0.291000</td>\n",
       "      <td>0.663800</td>\n",
       "      <td>0.207500</td>\n",
       "      <td>NaN</td>\n",
       "    </tr>\n",
       "  </tbody>\n",
       "</table>\n",
       "<p>8 rows × 32 columns</p>\n",
       "</div>"
      ],
      "text/plain": [
       "                 id  radius_mean  texture_mean  perimeter_mean    area_mean  \\\n",
       "count  5.690000e+02   569.000000    569.000000      569.000000   569.000000   \n",
       "mean   3.037183e+07    14.127292     19.289649       91.969033   654.889104   \n",
       "std    1.250206e+08     3.524049      4.301036       24.298981   351.914129   \n",
       "min    8.670000e+03     6.981000      9.710000       43.790000   143.500000   \n",
       "25%    8.692180e+05    11.700000     16.170000       75.170000   420.300000   \n",
       "50%    9.060240e+05    13.370000     18.840000       86.240000   551.100000   \n",
       "75%    8.813129e+06    15.780000     21.800000      104.100000   782.700000   \n",
       "max    9.113205e+08    28.110000     39.280000      188.500000  2501.000000   \n",
       "\n",
       "       smoothness_mean  compactness_mean  concavity_mean  concave points_mean  \\\n",
       "count       569.000000        569.000000      569.000000           569.000000   \n",
       "mean          0.096360          0.104341        0.088799             0.048919   \n",
       "std           0.014064          0.052813        0.079720             0.038803   \n",
       "min           0.052630          0.019380        0.000000             0.000000   \n",
       "25%           0.086370          0.064920        0.029560             0.020310   \n",
       "50%           0.095870          0.092630        0.061540             0.033500   \n",
       "75%           0.105300          0.130400        0.130700             0.074000   \n",
       "max           0.163400          0.345400        0.426800             0.201200   \n",
       "\n",
       "       symmetry_mean     ...       texture_worst  perimeter_worst  \\\n",
       "count     569.000000     ...          569.000000       569.000000   \n",
       "mean        0.181162     ...           25.677223       107.261213   \n",
       "std         0.027414     ...            6.146258        33.602542   \n",
       "min         0.106000     ...           12.020000        50.410000   \n",
       "25%         0.161900     ...           21.080000        84.110000   \n",
       "50%         0.179200     ...           25.410000        97.660000   \n",
       "75%         0.195700     ...           29.720000       125.400000   \n",
       "max         0.304000     ...           49.540000       251.200000   \n",
       "\n",
       "        area_worst  smoothness_worst  compactness_worst  concavity_worst  \\\n",
       "count   569.000000        569.000000         569.000000       569.000000   \n",
       "mean    880.583128          0.132369           0.254265         0.272188   \n",
       "std     569.356993          0.022832           0.157336         0.208624   \n",
       "min     185.200000          0.071170           0.027290         0.000000   \n",
       "25%     515.300000          0.116600           0.147200         0.114500   \n",
       "50%     686.500000          0.131300           0.211900         0.226700   \n",
       "75%    1084.000000          0.146000           0.339100         0.382900   \n",
       "max    4254.000000          0.222600           1.058000         1.252000   \n",
       "\n",
       "       concave points_worst  symmetry_worst  fractal_dimension_worst  \\\n",
       "count            569.000000      569.000000               569.000000   \n",
       "mean               0.114606        0.290076                 0.083946   \n",
       "std                0.065732        0.061867                 0.018061   \n",
       "min                0.000000        0.156500                 0.055040   \n",
       "25%                0.064930        0.250400                 0.071460   \n",
       "50%                0.099930        0.282200                 0.080040   \n",
       "75%                0.161400        0.317900                 0.092080   \n",
       "max                0.291000        0.663800                 0.207500   \n",
       "\n",
       "       Unnamed: 32  \n",
       "count          0.0  \n",
       "mean           NaN  \n",
       "std            NaN  \n",
       "min            NaN  \n",
       "25%            NaN  \n",
       "50%            NaN  \n",
       "75%            NaN  \n",
       "max            NaN  \n",
       "\n",
       "[8 rows x 32 columns]"
      ]
     },
     "execution_count": 59,
     "metadata": {},
     "output_type": "execute_result"
    }
   ],
   "source": [
    "data.describe()"
   ]
  },
  {
   "cell_type": "code",
   "execution_count": 60,
   "metadata": {},
   "outputs": [
    {
     "data": {
      "text/plain": [
       "Index(['id', 'diagnosis', 'radius_mean', 'texture_mean', 'perimeter_mean',\n",
       "       'area_mean', 'smoothness_mean', 'compactness_mean', 'concavity_mean',\n",
       "       'concave points_mean', 'symmetry_mean', 'fractal_dimension_mean',\n",
       "       'radius_se', 'texture_se', 'perimeter_se', 'area_se', 'smoothness_se',\n",
       "       'compactness_se', 'concavity_se', 'concave points_se', 'symmetry_se',\n",
       "       'fractal_dimension_se', 'radius_worst', 'texture_worst',\n",
       "       'perimeter_worst', 'area_worst', 'smoothness_worst',\n",
       "       'compactness_worst', 'concavity_worst', 'concave points_worst',\n",
       "       'symmetry_worst', 'fractal_dimension_worst', 'Unnamed: 32'],\n",
       "      dtype='object')"
      ]
     },
     "execution_count": 60,
     "metadata": {},
     "output_type": "execute_result"
    }
   ],
   "source": [
    "data.keys()"
   ]
  },
  {
   "cell_type": "code",
   "execution_count": 61,
   "metadata": {},
   "outputs": [
    {
     "name": "stdout",
     "output_type": "stream",
     "text": [
      "(569, 33)\n",
      "(569, 30)\n"
     ]
    }
   ],
   "source": [
    "print(data.shape)\n",
    "data_clean = data.drop(columns=['Unnamed: 32', 'id', 'diagnosis']) #Unnamed column from Pandas handling of index\n",
    "print(data_clean.shape)"
   ]
  },
  {
   "cell_type": "code",
   "execution_count": 62,
   "metadata": {},
   "outputs": [
    {
     "data": {
      "text/plain": [
       "False"
      ]
     },
     "execution_count": 62,
     "metadata": {},
     "output_type": "execute_result"
    }
   ],
   "source": [
    "# check if we have any nan values in data\n",
    "np.any(np.isnan(data_clean))"
   ]
  },
  {
   "cell_type": "code",
   "execution_count": 63,
   "metadata": {},
   "outputs": [
    {
     "name": "stdout",
     "output_type": "stream",
     "text": [
      "<class 'pandas.core.frame.DataFrame'>\n",
      "RangeIndex: 569 entries, 0 to 568\n",
      "Data columns (total 30 columns):\n",
      "radius_mean                569 non-null float64\n",
      "texture_mean               569 non-null float64\n",
      "perimeter_mean             569 non-null float64\n",
      "area_mean                  569 non-null float64\n",
      "smoothness_mean            569 non-null float64\n",
      "compactness_mean           569 non-null float64\n",
      "concavity_mean             569 non-null float64\n",
      "concave points_mean        569 non-null float64\n",
      "symmetry_mean              569 non-null float64\n",
      "fractal_dimension_mean     569 non-null float64\n",
      "radius_se                  569 non-null float64\n",
      "texture_se                 569 non-null float64\n",
      "perimeter_se               569 non-null float64\n",
      "area_se                    569 non-null float64\n",
      "smoothness_se              569 non-null float64\n",
      "compactness_se             569 non-null float64\n",
      "concavity_se               569 non-null float64\n",
      "concave points_se          569 non-null float64\n",
      "symmetry_se                569 non-null float64\n",
      "fractal_dimension_se       569 non-null float64\n",
      "radius_worst               569 non-null float64\n",
      "texture_worst              569 non-null float64\n",
      "perimeter_worst            569 non-null float64\n",
      "area_worst                 569 non-null float64\n",
      "smoothness_worst           569 non-null float64\n",
      "compactness_worst          569 non-null float64\n",
      "concavity_worst            569 non-null float64\n",
      "concave points_worst       569 non-null float64\n",
      "symmetry_worst             569 non-null float64\n",
      "fractal_dimension_worst    569 non-null float64\n",
      "dtypes: float64(30)\n",
      "memory usage: 133.4 KB\n"
     ]
    }
   ],
   "source": [
    "# check, for type uniformity in feature space\n",
    "data_clean.info()"
   ]
  },
  {
   "cell_type": "markdown",
   "metadata": {},
   "source": [
    "what shape to feed model?  \n",
    "\n",
    "each sample has 30 features of type float64  \n",
    "want numpy array of shape (samples, number of features) for up to 30 features"
   ]
  },
  {
   "cell_type": "code",
   "execution_count": 64,
   "metadata": {},
   "outputs": [
    {
     "data": {
      "text/plain": [
       "('B', 'M')"
      ]
     },
     "execution_count": 64,
     "metadata": {},
     "output_type": "execute_result"
    }
   ],
   "source": [
    "diag = data['diagnosis']\n",
    "min(diag), max(diag)"
   ]
  },
  {
   "cell_type": "code",
   "execution_count": 65,
   "metadata": {
    "scrolled": true
   },
   "outputs": [],
   "source": [
    "# convert labels\n",
    "def to_binary(input):\n",
    "    ans = []\n",
    "    for i in input:\n",
    "        if i =='M':\n",
    "            ans.append(1)\n",
    "        else:\n",
    "            ans.append(0)\n",
    "    return ans\n",
    "\n",
    "diag_bin = to_binary(diag)"
   ]
  },
  {
   "cell_type": "code",
   "execution_count": 66,
   "metadata": {},
   "outputs": [
    {
     "data": {
      "text/plain": [
       "array([ 1.09706398, -2.07333501,  1.26993369,  0.9843749 ,  1.56846633])"
      ]
     },
     "execution_count": 66,
     "metadata": {},
     "output_type": "execute_result"
    }
   ],
   "source": [
    "# This normalizes the values, essentially it calculates the Z score\n",
    "# How many standard deviations away from mean\n",
    "\n",
    "data_norm = np.asarray(data_clean.copy())\n",
    "for i in range(data_norm.shape[1]):\n",
    "    mid = np.mean(data_norm[:,i])\n",
    "    stand = np.std(data_norm[:,i])\n",
    "    for j in range(data_norm.shape[0]):\n",
    "        data_norm[j,i] -= mid\n",
    "        data_norm[j,i] /= stand\n",
    "data_norm[0][:5]"
   ]
  },
  {
   "cell_type": "code",
   "execution_count": 67,
   "metadata": {},
   "outputs": [
    {
     "data": {
      "text/plain": [
       "array([0.52103744, 0.0226581 , 0.54598853, 0.36373277, 0.59375282])"
      ]
     },
     "metadata": {},
     "output_type": "display_data"
    }
   ],
   "source": [
    "# An alternative scaling method, this will collapse the feature space to [0,1]\n",
    "\n",
    "data_scaled = np.asarray(data_clean.copy())\n",
    "# data_train_norm.shape[0]\n",
    "for i in range(data_norm.shape[1]):\n",
    "    low = np.min(data_scaled[:,i])\n",
    "    high = np.max(data_scaled[:,i])\n",
    "    split = high - low\n",
    "    for j in range(data_norm.shape[0]):\n",
    "        data_scaled[j,i] -= low\n",
    "        data_scaled[j,i] /= split\n",
    "display(data_scaled[0][:5])"
   ]
  },
  {
   "cell_type": "code",
   "execution_count": 68,
   "metadata": {},
   "outputs": [],
   "source": [
    "#train, test split \n",
    "#todo train,validate,test\n",
    "\n",
    "data_train = data_norm[:455]\n",
    "data_test = data_norm[455:]\n",
    "diag_train = diag_bin[:455]\n",
    "diag_test = diag_bin[455:]"
   ]
  },
  {
   "cell_type": "code",
   "execution_count": 69,
   "metadata": {},
   "outputs": [],
   "source": [
    "data_train_scaled = data_scaled[:455]\n",
    "data_test_scaled = data_scaled[455:]\n",
    "diag_train = diag_bin[:455]\n",
    "diag_test = diag_bin[455:]"
   ]
  },
  {
   "cell_type": "code",
   "execution_count": 70,
   "metadata": {},
   "outputs": [],
   "source": [
    "# as a control, nonnormalized data\n",
    "temp = np.asarray(data_clean.copy())\n",
    "data_train_nonnormalized = temp[:455]\n",
    "data_test_nonnormalized = temp[455:]"
   ]
  },
  {
   "cell_type": "code",
   "execution_count": 71,
   "metadata": {},
   "outputs": [],
   "source": [
    "features = ['radius_mean', 'texture_mean', 'perimeter_mean',\n",
    "       'area_mean', 'smoothness_mean', 'compactness_mean', 'concavity_mean',\n",
    "       'concave points_mean', 'symmetry_mean', 'fractal_dimension_mean',\n",
    "       'radius_se', 'texture_se', 'perimeter_se', 'area_se', 'smoothness_se',\n",
    "       'compactness_se', 'concavity_se', 'concave points_se', 'symmetry_se',\n",
    "       'fractal_dimension_se', 'radius_worst', 'texture_worst',\n",
    "       'perimeter_worst', 'area_worst', 'smoothness_worst',\n",
    "       'compactness_worst', 'concavity_worst', 'concave points_worst',\n",
    "       'symmetry_worst', 'fractal_dimension_worst']"
   ]
  },
  {
   "cell_type": "code",
   "execution_count": 72,
   "metadata": {},
   "outputs": [
    {
     "data": {
      "text/plain": [
       "array([[1.        , 0.73002851],\n",
       "       [0.73002851, 1.        ]])"
      ]
     },
     "execution_count": 72,
     "metadata": {},
     "output_type": "execute_result"
    }
   ],
   "source": [
    "# correlation between first feature and labels\n",
    "rad = data_clean['radius_mean']\n",
    "np.corrcoef(rad,diag_bin)  # due to symmetry, we just need [0,1] element"
   ]
  },
  {
   "cell_type": "code",
   "execution_count": 73,
   "metadata": {
    "scrolled": false
   },
   "outputs": [
    {
     "name": "stdout",
     "output_type": "stream",
     "text": [
      "[(0.7935660171412687, 'concave points_worst', 27), (0.7829141371737581, 'perimeter_worst', 22), (0.7766138400204345, 'concave points_mean', 7), (0.7764537785950383, 'radius_worst', 20), (0.7426355297258318, 'perimeter_mean', 2), (0.73382503492105, 'area_worst', 23), (0.7300285113754553, 'radius_mean', 0), (0.7089838365853887, 'area_mean', 3), (0.6963597071719051, 'concavity_mean', 6), (0.6596102103692325, 'concavity_worst', 26), (0.5965336775082524, 'compactness_mean', 5), (0.5909982378417911, 'compactness_worst', 25), (0.5671338208247169, 'radius_se', 10), (0.5561407034314823, 'perimeter_se', 12), (0.5482359402780236, 'area_se', 13), (0.4569028213967977, 'texture_worst', 21), (0.4214648610664021, 'smoothness_worst', 24), (0.41629431104861864, 'symmetry_worst', 28), (0.4151852998452038, 'texture_mean', 1), (0.40804233271650403, 'concave points_se', 17), (0.35855996508593163, 'smoothness_mean', 4), (0.33049855426254665, 'symmetry_mean', 8), (0.32387218872082346, 'fractal_dimension_worst', 29), (0.292999244248858, 'compactness_se', 15), (0.25372976598083, 'concavity_se', 16), (0.07797241739025601, 'fractal_dimension_se', 19), (-0.006521755870647966, 'symmetry_se', 18), (-0.008303332973877418, 'texture_se', 11), (-0.012837602698432333, 'fractal_dimension_mean', 9), (-0.06701601057948722, 'smoothness_se', 14)]\n"
     ]
    }
   ],
   "source": [
    "#list of features by correlation to labels\n",
    "corr = [np.corrcoef(data_clean[i],diag_bin)[0,1] for i in features]\n",
    "corr_tuples = [(corr[i],features[i],i) for i in range(len(corr))]\n",
    "corr_tuples.sort(key=lambda x:x[0], reverse = True) # sort in place, by most correlated first\n",
    "print(corr_tuples,)"
   ]
  },
  {
   "cell_type": "code",
   "execution_count": 74,
   "metadata": {},
   "outputs": [
    {
     "name": "stdout",
     "output_type": "stream",
     "text": [
      "['concave points_worst', 'perimeter_worst', 'concave points_mean', 'radius_worst', 'perimeter_mean', 'area_worst', 'radius_mean', 'area_mean', 'concavity_mean', 'concavity_worst', 'compactness_mean', 'compactness_worst', 'radius_se', 'perimeter_se', 'area_se', 'texture_worst', 'smoothness_worst', 'symmetry_worst', 'texture_mean', 'concave points_se', 'smoothness_mean', 'symmetry_mean', 'fractal_dimension_worst', 'compactness_se', 'concavity_se', 'fractal_dimension_se', 'symmetry_se', 'texture_se', 'fractal_dimension_mean', 'smoothness_se']\n",
      "\n",
      "[27, 22, 7, 20, 2, 23, 0, 3, 6, 26, 5, 25, 10, 12, 13, 21, 24, 28, 1, 17, 4, 8, 29, 15, 16, 19, 18, 11, 9, 14]\n"
     ]
    }
   ],
   "source": [
    "# make a list of columns ranked by correlation to labels\n",
    "corr_columns = []\n",
    "corr_column_names = []\n",
    "for i in corr_tuples:\n",
    "    corr_columns.append(i[2])\n",
    "    corr_column_names.append(i[1])\n",
    "print(corr_column_names)\n",
    "print()\n",
    "print(corr_columns) # the column number in the original datatable"
   ]
  },
  {
   "cell_type": "code",
   "execution_count": 75,
   "metadata": {
    "scrolled": true
   },
   "outputs": [
    {
     "data": {
      "image/png": "[encoded data removed]",
      "text/plain": [
       "<Figure size 1224x504 with 1 Axes>"
      ]
     },
     "metadata": {
      "needs_background": "light"
     },
     "output_type": "display_data"
    },
    {
     "data": {
      "image/png": "[encoded data removed]",
      "text/plain": [
       "<Figure size 1224x504 with 1 Axes>"
      ]
     },
     "metadata": {
      "needs_background": "light"
     },
     "output_type": "display_data"
    },
    {
     "data": {
      "image/png": "[encoded data removed]",
      "text/plain": [
       "<Figure size 1224x504 with 1 Axes>"
      ]
     },
     "metadata": {
      "needs_background": "light"
     },
     "output_type": "display_data"
    },
    {
     "data": {
      "image/png": "[encoded data removed]",
      "text/plain": [
       "<Figure size 1224x504 with 1 Axes>"
      ]
     },
     "metadata": {
      "needs_background": "light"
     },
     "output_type": "display_data"
    },
    {
     "data": {
      "image/png": "[encoded data removed]",
      "text/plain": [
       "<Figure size 1224x504 with 1 Axes>"
      ]
     },
     "metadata": {
      "needs_background": "light"
     },
     "output_type": "display_data"
    }
   ],
   "source": [
    "# let's look at how the 5 most correlated features are associated with malignancy\n",
    "\n",
    "for i in range(5):\n",
    "# for i in corr_columns[:5]:\n",
    "    plt.scatter(data_train[:,corr_columns[i]], diag_train)\n",
    "    plt.xlabel(corr_column_names[i])\n",
    "    plt.rcParams['figure.figsize'] = [17,7]\n",
    "    plt.show()"
   ]
  },
  {
   "cell_type": "code",
   "execution_count": 76,
   "metadata": {},
   "outputs": [],
   "source": [
    "# let's take the most correlated features\n",
    "most_corr = corr_columns[:20]\n",
    "# let's remove features which are highly correlated"
   ]
  },
  {
   "cell_type": "code",
   "execution_count": 77,
   "metadata": {},
   "outputs": [
    {
     "data": {
      "text/plain": [
       "[27, 22, 7, 20, 2, 23, 0, 3, 6, 26, 5, 25, 10, 12, 13, 21, 24, 28, 1, 17]"
      ]
     },
     "execution_count": 77,
     "metadata": {},
     "output_type": "execute_result"
    }
   ],
   "source": [
    "most_corr"
   ]
  },
  {
   "cell_type": "code",
   "execution_count": 78,
   "metadata": {},
   "outputs": [],
   "source": [
    "# an analytical solution, scales well at larger feature sizes\n",
    "def most_corr_features(most_corr):\n",
    "    corr_matrix = np.zeros((len(most_corr),len(most_corr)))\n",
    "    for i in range(len(most_corr)):\n",
    "        for j in range(len(most_corr)):\n",
    "            ind1 = most_corr[i]\n",
    "            ind2 = most_corr[j]\n",
    "            corr_matrix[i,j] = round(np.corrcoef(data_train[:,ind1],data_train[:,ind2])[0,1],2)\n",
    "# correlation matrix is symmetrical, so we can think of it as upper triangular, and ignore the diagonal\n",
    "    corr_matrix = np.triu(corr_matrix,1)\n",
    "    # find the coordinates of the max value\n",
    "    # these are the features most correlated to each other\n",
    "    print('correlation coefficient:', np.amax(corr_matrix)) # how correlated the features are\n",
    "    x,y = np.argmax(corr_matrix) // len(corr_matrix) ,np.argmax(corr_matrix) % len(corr_matrix) # argmax flattens the indices\n",
    "    return x, corr_column_names[most_corr[x]], y, corr_column_names[most_corr[y]]  # most correlated features, with indices"
   ]
  },
  {
   "cell_type": "code",
   "execution_count": 79,
   "metadata": {},
   "outputs": [],
   "source": [
    "# let's eliminate correlated features one at a time until we reach a featureset we are happy with\n",
    "# eliminate feature further in list, as features are sorted by how correlated to labels, we'd rather keep 1st"
   ]
  },
  {
   "cell_type": "code",
   "execution_count": 80,
   "metadata": {},
   "outputs": [
    {
     "name": "stdout",
     "output_type": "stream",
     "text": [
      "correlation coefficient: 1.0\n",
      "correlation coefficient: 0.99\n",
      "correlation coefficient: 0.99\n",
      "correlation coefficient: 0.98\n",
      "correlation coefficient: 0.97\n",
      "correlation coefficient: 0.97\n",
      "correlation coefficient: 0.95\n",
      "correlation coefficient: 0.92\n",
      "correlation coefficient: 0.91\n",
      "correlation coefficient: 0.9\n",
      "correlation coefficient: 0.89\n",
      "correlation coefficient: 0.86\n",
      "correlation coefficient: 0.82\n",
      "correlation coefficient: 0.81\n"
     ]
    }
   ],
   "source": [
    "# repeat until features become less correlated, 15th in line, correlation coefficient: 0.58\n",
    "for _ in range(14):\n",
    "    _,_,y,_ = most_corr_features(most_corr)\n",
    "    del most_corr[y]\n",
    "    len(most_corr)"
   ]
  },
  {
   "cell_type": "code",
   "execution_count": 81,
   "metadata": {},
   "outputs": [
    {
     "data": {
      "text/plain": [
       "[27, 10, 21, 24, 28, 17]"
      ]
     },
     "execution_count": 81,
     "metadata": {},
     "output_type": "execute_result"
    }
   ],
   "source": [
    "most_corr # position in corr_column_names, not original dataframe columns"
   ]
  },
  {
   "cell_type": "code",
   "execution_count": 82,
   "metadata": {},
   "outputs": [
    {
     "name": "stdout",
     "output_type": "stream",
     "text": [
      "['texture_se', 'compactness_mean', 'symmetry_mean', 'concavity_se', 'fractal_dimension_mean', 'symmetry_worst']\n"
     ]
    }
   ],
   "source": [
    "current_features = []\n",
    "for i in most_corr:\n",
    "    current_features.append(corr_column_names[i])\n",
    "print(current_features)"
   ]
  },
  {
   "cell_type": "code",
   "execution_count": 83,
   "metadata": {},
   "outputs": [
    {
     "name": "stdout",
     "output_type": "stream",
     "text": [
      "[11, 5, 8, 16, 9, 28]\n"
     ]
    }
   ],
   "source": [
    "# take a list of features and return list of columns\n",
    "def feat_to_col(current_features):\n",
    "    data_frame = data.drop(columns=['Unnamed: 32', 'id', 'diagnosis'])\n",
    "    return [data_frame.columns.get_loc(i) for i in current_features]\n",
    "\n",
    "# current_features = corr_column_names[:10] # use first 10 candidate features \n",
    "current_features = ['texture_se', 'compactness_mean', 'symmetry_mean', 'concavity_se', 'fractal_dimension_mean', 'symmetry_worst']\n",
    "feature_list = feat_to_col(current_features)\n",
    "print(feature_list)"
   ]
  },
  {
   "cell_type": "code",
   "execution_count": 84,
   "metadata": {},
   "outputs": [],
   "source": [
    "# preprocessing, create an np array len(data_train), by len(current_features)\n",
    "# fill from columns defined by current_features\n",
    "\n",
    "num_features = len(current_features)\n",
    "X_train = np.zeros((len(data_train),num_features))\n",
    "X_test = np.zeros((len(data_test),num_features))\n",
    "for i in range(len(data_train)):\n",
    "    for j in range(num_features):\n",
    "        col = feature_list[j]\n",
    "        X_train[i,j] = data_train[i,col]\n",
    "for i in range(len(data_test)):\n",
    "    for j in range(num_features):\n",
    "        col = feature_list[j]\n",
    "        X_test[i,j] = data_train[i,col]\n",
    "        \n",
    "Y_train = np.array(diag_train)\n",
    "Y_test = np.array(diag_test)"
   ]
  },
  {
   "cell_type": "code",
   "execution_count": 85,
   "metadata": {},
   "outputs": [],
   "source": [
    "# Same but with scaled data\n",
    "\n",
    "num_features = len(current_features)\n",
    "X_train_scaled = np.zeros((len(data_train_scaled),num_features))\n",
    "X_test_scaled = np.zeros((len(data_test_scaled),num_features))\n",
    "for i in range(len(data_train_scaled)):\n",
    "    for j in range(num_features):\n",
    "        col = feature_list[j]\n",
    "        X_train_scaled[i,j] = data_train_scaled[i,col]\n",
    "for i in range(len(data_test_scaled)):\n",
    "    for j in range(num_features):\n",
    "        col = feature_list[j]\n",
    "        X_test_scaled[i,j] = data_train_scaled[i,col]\n",
    "        \n",
    "Y_train = np.array(diag_train)\n",
    "Y_test = np.array(diag_test)"
   ]
  },
  {
   "cell_type": "code",
   "execution_count": null,
   "metadata": {},
   "outputs": [],
   "source": []
  },
  {
   "cell_type": "code",
   "execution_count": 86,
   "metadata": {},
   "outputs": [],
   "source": [
    "# setting up some functions for processing and analyzing data"
   ]
  },
  {
   "cell_type": "code",
   "execution_count": 87,
   "metadata": {},
   "outputs": [],
   "source": [
    "# convert a regressor to a binary prediction at some cutoff\n",
    "def to_binary_pred(prediction,cutoff=.5):\n",
    "    pred_binary = np.zeros(len(prediction))\n",
    "    for i in range(len(prediction)):\n",
    "        if prediction[i] > cutoff:\n",
    "            pred_binary[i] = 1\n",
    "        else:\n",
    "            pred_binary[i] = 0\n",
    "    return pred_binary"
   ]
  },
  {
   "cell_type": "code",
   "execution_count": 88,
   "metadata": {},
   "outputs": [],
   "source": [
    "def roc(predict, answers=Y_test, k = None ,samples = 21):\n",
    "    ''' takes answers, a np array\n",
    "    returns two lists, true positive rate(sensitivity), \n",
    "    false positive rate(1-specificity)\n",
    "    at a range of cutoffs'''\n",
    "    tpr = []\n",
    "    fpr = []\n",
    "    poss_cutoff = np.linspace(0,1,samples)\n",
    "    if k: poss_cutoff = [k]\n",
    "    for k in poss_cutoff: \n",
    "        true_benign = 0\n",
    "        true_mal = 0\n",
    "        correct_benign = 0\n",
    "        correct_mal = 0\n",
    "        for i in range(len(answers)):\n",
    "            if answers[i] == 1 and predict[i] > k:\n",
    "                correct_mal += 1\n",
    "                true_mal += 1\n",
    "            elif answers[i] == 0 and predict[i] <= k: \n",
    "                correct_benign += 1\n",
    "                true_benign += 1\n",
    "            elif answers[i] == 0:\n",
    "                true_benign +=1\n",
    "            else:                 #  diag_test[i] == 1\n",
    "                true_mal +=1\n",
    "    #     roc[k] = (correct_mal/true_mal, correct_benign/true_benign)\n",
    "        tpr.append(correct_mal/true_mal)\n",
    "        fpr.append(1-correct_benign/true_benign)\n",
    "#     print('tp',correct_mal,'fn',true_mal-correct_mal,'tn',correct_benign, 'fp',true_benign-correct_benign) # debug\n",
    "    return fpr, tpr"
   ]
  },
  {
   "cell_type": "code",
   "execution_count": null,
   "metadata": {},
   "outputs": [],
   "source": []
  },
  {
   "cell_type": "markdown",
   "metadata": {},
   "source": [
    "Although the problem is fundamentally one of classification, Regression techniques are useful here.  Outputting 0 or 1 output may be satisfactory.  However, scaling the output from 0 to 1 based on how certain the sample belongs to each class allows some insight to the user.  Additionally, we may choose the cutoff value, depending on clinical need, as will be illustrated further below with Receiver Operating Characteristic (ROC) curves.  "
   ]
  },
  {
   "cell_type": "code",
   "execution_count": 89,
   "metadata": {},
   "outputs": [],
   "source": [
    "#Support Vector Regression\n",
    "clf = SVR(kernel='linear', gamma='scale', C=1)\n",
    "clf.fit(X_train_scaled, Y_train)\n",
    "\n",
    "pred = clf.predict(X_test_scaled)"
   ]
  },
  {
   "cell_type": "code",
   "execution_count": 90,
   "metadata": {},
   "outputs": [],
   "source": [
    "def plot_roc(pred,title='ROC Curve', points=21, figsize=[17,7]):\n",
    "    fpr, tpr = roc(pred,samples= points)\n",
    "    names = [str(i) for i in range(len(tpr))]\n",
    "    plt.ylabel('true positive rate')\n",
    "    plt.xlabel('false positive = 1 - specificity')\n",
    "    plt.scatter(fpr,tpr, s= 10)\n",
    "    # annotations = string, (x,y)\n",
    "    for i in range(len(tpr)):\n",
    "        plt.annotate(names[i],(fpr[i],tpr[i]))\n",
    "    plt.rcParams['figure.figsize'] = figsize\n",
    "    plt.title(title)"
   ]
  },
  {
   "cell_type": "code",
   "execution_count": 91,
   "metadata": {},
   "outputs": [
    {
     "data": {
      "image/png": "[encoded data removed]",
      "text/plain": [
       "<Figure size 1224x504 with 1 Axes>"
      ]
     },
     "metadata": {
      "needs_background": "light"
     },
     "output_type": "display_data"
    }
   ],
   "source": [
    "plot_roc(pred,title=\"ROC Curve, SVM regressor\")\n",
    "# plt.savefig('/home/david/keras/kaggle/svr.png')"
   ]
  },
  {
   "cell_type": "code",
   "execution_count": 92,
   "metadata": {},
   "outputs": [
    {
     "name": "stdout",
     "output_type": "stream",
     "text": [
      "area under ROC curve: 0.36778846153846156\n"
     ]
    }
   ],
   "source": [
    "# calculate area under roc curve to quantify performance of classification model, \n",
    "# closer to 1 is better\n",
    "fpr,tpr = roc(pred)\n",
    "print('area under ROC curve:',sk.metrics.auc(fpr,tpr))"
   ]
  },
  {
   "cell_type": "code",
   "execution_count": 93,
   "metadata": {},
   "outputs": [
    {
     "name": "stdout",
     "output_type": "stream",
     "text": [
      "[[13 35]\n",
      " [13 53]]\n",
      "sensitivity: 0.5\n",
      "specificity: 0.6022727272727273\n",
      "\n",
      "accuracy: 0.5789473684210527\n",
      "f1 score: 0.35135135135135137\n"
     ]
    }
   ],
   "source": [
    "pred_bin = to_binary_pred(pred,cutoff=.55)\n",
    "\n",
    "conf_matrix = sk.metrics.confusion_matrix(Y_test, pred_bin, labels=[1,0] )\n",
    "conf_matrix = conf_matrix.transpose()\n",
    "print(conf_matrix)\n",
    "sens = conf_matrix[0,0]/np.sum(conf_matrix[:,0])\n",
    "spec = conf_matrix[1,1]/np.sum(conf_matrix[:,1])\n",
    "print('sensitivity:', sens)\n",
    "print('specificity:', spec,end='\\n\\n')\n",
    "\n",
    "print('accuracy:', sk.metrics.accuracy_score(diag_test, pred_bin))\n",
    "print('f1 score:', sk.metrics.f1_score(diag_test, pred_bin))"
   ]
  },
  {
   "cell_type": "code",
   "execution_count": null,
   "metadata": {},
   "outputs": [],
   "source": []
  },
  {
   "cell_type": "markdown",
   "metadata": {},
   "source": [
    "Let's take another approach to dimensionality reduction  \n",
    "Using sklearn's KernelPCA which can apply nonlinear transformations"
   ]
  },
  {
   "cell_type": "code",
   "execution_count": 110,
   "metadata": {},
   "outputs": [],
   "source": [
    "kpca = KernelPCA(n_components=14, kernel='sigmoid', gamma=15)\n",
    "X_kpca =  kpca.fit_transform(data_train)\n",
    "X_kpca_test = kpca.transform(data_test)"
   ]
  },
  {
   "cell_type": "code",
   "execution_count": 111,
   "metadata": {},
   "outputs": [],
   "source": [
    "clf = SVR(gamma='scale', C=1)\n",
    "clf.fit(X_kpca, Y_train)\n",
    "\n",
    "pred = clf.predict(X_kpca_test)"
   ]
  },
  {
   "cell_type": "code",
   "execution_count": 112,
   "metadata": {},
   "outputs": [
    {
     "data": {
      "image/png": "[encoded data removed]",
      "text/plain": [
       "<Figure size 1224x504 with 1 Axes>"
      ]
     },
     "metadata": {
      "needs_background": "light"
     },
     "output_type": "display_data"
    }
   ],
   "source": [
    "plot_roc(pred,title=\"ROC Curve, SVM regressor, KPCA\")"
   ]
  },
  {
   "cell_type": "code",
   "execution_count": 113,
   "metadata": {},
   "outputs": [
    {
     "name": "stdout",
     "output_type": "stream",
     "text": [
      "area under ROC curve: 0.7480332167832168\n"
     ]
    }
   ],
   "source": [
    "fpr,tpr = roc(pred)\n",
    "print('area under ROC curve:',sk.metrics.auc(fpr,tpr))"
   ]
  },
  {
   "cell_type": "code",
   "execution_count": 114,
   "metadata": {},
   "outputs": [
    {
     "name": "stdout",
     "output_type": "stream",
     "text": [
      "[[24  2]\n",
      " [ 2 86]]\n",
      "sensitivity: 0.9230769230769231\n",
      "specificity: 0.9772727272727273\n",
      "\n",
      "accuracy: 0.9649122807017544\n",
      "f1 score: 0.9230769230769231\n"
     ]
    }
   ],
   "source": [
    "pred_bin = to_binary_pred(pred,cutoff=.6)\n",
    "\n",
    "conf_matrix = sk.metrics.confusion_matrix(Y_test, pred_bin, labels=[1,0] )\n",
    "conf_matrix = conf_matrix.transpose()\n",
    "print(conf_matrix)\n",
    "sens = conf_matrix[0,0]/np.sum(conf_matrix[:,0])\n",
    "spec = conf_matrix[1,1]/np.sum(conf_matrix[:,1])\n",
    "print('sensitivity:', sens)\n",
    "print('specificity:', spec,end='\\n\\n')\n",
    "print('accuracy:', sk.metrics.accuracy_score(Y_test,pred_bin))\n",
    "print('f1 score:', sk.metrics.f1_score(Y_test,pred_bin))"
   ]
  },
  {
   "cell_type": "code",
   "execution_count": null,
   "metadata": {},
   "outputs": [],
   "source": []
  },
  {
   "cell_type": "markdown",
   "metadata": {},
   "source": [
    "Now, let's use Keras to create a deep learning network  \n",
    "the input_shape is the number of features we're using\n",
    "here I have 4 hidden layers of size 30\n",
    "and 1 output layer, with a single node\n",
    "\n",
    "The advantages of deep learning networks is that they can create their own nonlinear feature sets by combining the inputs into hidden layers.  This can alleviate the work of feature engineering.  \n",
    "\n",
    "To prevent overfitting we tune the hyperparameters of the model.  Here I applied a regularization term to the final layer.  One could use a regularization term on each layer with a correspondingly lower value (lambda).  \n",
    "\n",
    "Think of regularization as penalizing the weight matrix of the model.  If lambda is low, the model is not penalized for applying value to the noise.  If lambda is high, the model underfits the data, as it prefers smaller weights."
   ]
  },
  {
   "cell_type": "code",
   "execution_count": 115,
   "metadata": {},
   "outputs": [],
   "source": [
    "model = models.Sequential()\n",
    "model.add(layers.Dense(30, activation = 'relu', input_shape = (30,))) # input 1 for test, 30 for all features\n",
    "model.add(layers.Dense(30, activation = 'relu',))\n",
    "model.add(layers.Dense(30, activation = 'relu',))\n",
    "model.add(layers.Dense(30, activation = 'relu',))\n",
    "model.add(layers.Dense(1, activation = 'sigmoid',kernel_regularizer=regularizers.l2(0.03)))"
   ]
  },
  {
   "cell_type": "markdown",
   "metadata": {},
   "source": [
    "The output layer of the neural net above is a single node.  \n",
    "Its uses the sigmoid activation, to constrain its output between 0 and 1  \n",
    "0 the model is confident the features represent a benign sample  \n",
    "1 the model is confident the sample is malignant\n",
    "\n",
    "Further below we will plot a ROC curve, and evaluate how to choose a cutoff value somewhere between 0 and 1"
   ]
  },
  {
   "cell_type": "code",
   "execution_count": 116,
   "metadata": {},
   "outputs": [],
   "source": [
    "model.compile(optimizer=optimizers.RMSprop(lr=.001),\n",
    "             loss = losses.binary_crossentropy,   # test this\n",
    "             metrics = [metrics.binary_accuracy])"
   ]
  },
  {
   "cell_type": "code",
   "execution_count": 117,
   "metadata": {
    "scrolled": true
   },
   "outputs": [
    {
     "name": "stdout",
     "output_type": "stream",
     "text": [
      "Epoch 1/30\n",
      " - 0s - loss: 0.6245 - binary_accuracy: 0.8198\n",
      "Epoch 2/30\n",
      " - 0s - loss: 0.3632 - binary_accuracy: 0.9385\n",
      "Epoch 3/30\n",
      " - 0s - loss: 0.2204 - binary_accuracy: 0.9604\n",
      "Epoch 4/30\n",
      " - 0s - loss: 0.1580 - binary_accuracy: 0.9692\n",
      "Epoch 5/30\n",
      " - 0s - loss: 0.1283 - binary_accuracy: 0.9714\n",
      "Epoch 6/30\n",
      " - 0s - loss: 0.1124 - binary_accuracy: 0.9780\n",
      "Epoch 7/30\n",
      " - 0s - loss: 0.1025 - binary_accuracy: 0.9824\n",
      "Epoch 8/30\n",
      " - 0s - loss: 0.0929 - binary_accuracy: 0.9802\n",
      "Epoch 9/30\n",
      " - 0s - loss: 0.0853 - binary_accuracy: 0.9846\n",
      "Epoch 10/30\n",
      " - 0s - loss: 0.0795 - binary_accuracy: 0.9846\n",
      "Epoch 11/30\n",
      " - 0s - loss: 0.0751 - binary_accuracy: 0.9868\n",
      "Epoch 12/30\n",
      " - 0s - loss: 0.0699 - binary_accuracy: 0.9890\n",
      "Epoch 13/30\n",
      " - 0s - loss: 0.0661 - binary_accuracy: 0.9890\n",
      "Epoch 14/30\n",
      " - 0s - loss: 0.0621 - binary_accuracy: 0.9890\n",
      "Epoch 15/30\n",
      " - 0s - loss: 0.0574 - binary_accuracy: 0.9890\n",
      "Epoch 16/30\n",
      " - 0s - loss: 0.0549 - binary_accuracy: 0.9890\n",
      "Epoch 17/30\n",
      " - 0s - loss: 0.0497 - binary_accuracy: 0.9912\n",
      "Epoch 18/30\n",
      " - 0s - loss: 0.0477 - binary_accuracy: 0.9890\n",
      "Epoch 19/30\n",
      " - 0s - loss: 0.0449 - binary_accuracy: 0.9912\n",
      "Epoch 20/30\n",
      " - 0s - loss: 0.0419 - binary_accuracy: 0.9912\n",
      "Epoch 21/30\n",
      " - 0s - loss: 0.0398 - binary_accuracy: 0.9912\n",
      "Epoch 22/30\n",
      " - 0s - loss: 0.0375 - binary_accuracy: 0.9934\n",
      "Epoch 23/30\n",
      " - 0s - loss: 0.0345 - binary_accuracy: 0.9912\n",
      "Epoch 24/30\n",
      " - 0s - loss: 0.0317 - binary_accuracy: 0.9934\n",
      "Epoch 25/30\n",
      " - 0s - loss: 0.0308 - binary_accuracy: 0.9912\n",
      "Epoch 26/30\n",
      " - 0s - loss: 0.0276 - binary_accuracy: 0.9934\n",
      "Epoch 27/30\n",
      " - 0s - loss: 0.0258 - binary_accuracy: 0.9934\n",
      "Epoch 28/30\n",
      " - 0s - loss: 0.0241 - binary_accuracy: 0.9956\n",
      "Epoch 29/30\n",
      " - 0s - loss: 0.0212 - binary_accuracy: 0.9978\n",
      "Epoch 30/30\n",
      " - 0s - loss: 0.0231 - binary_accuracy: 0.9934\n"
     ]
    }
   ],
   "source": [
    "start = timeit.default_timer()\n",
    "model.fit(data_train,\n",
    "         diag_train,\n",
    "         epochs = 30,\n",
    "         batch_size = 32,\n",
    "         #validation_data = ()\n",
    "         verbose = 2)\n",
    "end = timeit.default_timer()"
   ]
  },
  {
   "cell_type": "code",
   "execution_count": 118,
   "metadata": {},
   "outputs": [
    {
     "name": "stdout",
     "output_type": "stream",
     "text": [
      "training time: 1.9788051569994423\n"
     ]
    }
   ],
   "source": [
    "print('training time:', end - start)"
   ]
  },
  {
   "cell_type": "code",
   "execution_count": 119,
   "metadata": {},
   "outputs": [
    {
     "data": {
      "text/plain": [
       "dict_keys(['loss', 'binary_accuracy'])"
      ]
     },
     "execution_count": 119,
     "metadata": {},
     "output_type": "execute_result"
    }
   ],
   "source": [
    "acc = model.history\n",
    "acc.history.keys()"
   ]
  },
  {
   "cell_type": "code",
   "execution_count": 120,
   "metadata": {},
   "outputs": [
    {
     "data": {
      "text/plain": [
       "Text(0, 0.5, 'accuracy on training set')"
      ]
     },
     "execution_count": 120,
     "metadata": {},
     "output_type": "execute_result"
    },
    {
     "data": {
      "image/png": "[encoded data removed]",
      "text/plain": [
       "<Figure size 1224x504 with 1 Axes>"
      ]
     },
     "metadata": {
      "needs_background": "light"
     },
     "output_type": "display_data"
    }
   ],
   "source": [
    "epochs = 30\n",
    "x_vals = list(range(1,epochs+1))\n",
    "y_vals = acc.history['binary_accuracy']\n",
    "plt.scatter(x_vals,y_vals)\n",
    "plt.xlabel('epochs')\n",
    "plt.ylabel('accuracy on training set')"
   ]
  },
  {
   "cell_type": "code",
   "execution_count": 121,
   "metadata": {},
   "outputs": [],
   "source": [
    "# model.save('/home/david/keras/kaggle/dnn')"
   ]
  },
  {
   "cell_type": "code",
   "execution_count": 122,
   "metadata": {},
   "outputs": [
    {
     "data": {
      "image/png": "[encoded data removed]",
      "text/plain": [
       "<Figure size 1224x504 with 1 Axes>"
      ]
     },
     "metadata": {
      "needs_background": "light"
     },
     "output_type": "display_data"
    }
   ],
   "source": [
    "pred = model.predict(data_test)\n",
    "plot_roc(pred,title=\"ROC Curve, Keras\")\n",
    "# plt.savefig('/home/david/keras/kaggle/roc.png')"
   ]
  },
  {
   "cell_type": "code",
   "execution_count": 123,
   "metadata": {},
   "outputs": [],
   "source": [
    "# here pt 17 is best, corresponding to a cutoff of 0.85"
   ]
  },
  {
   "cell_type": "code",
   "execution_count": 124,
   "metadata": {},
   "outputs": [
    {
     "name": "stdout",
     "output_type": "stream",
     "text": [
      "area under ROC curve: 0.9938811188811189\n"
     ]
    }
   ],
   "source": [
    "fpr,tpr = roc(pred)\n",
    "print('area under ROC curve:',sk.metrics.auc(fpr,tpr))"
   ]
  },
  {
   "cell_type": "code",
   "execution_count": 125,
   "metadata": {},
   "outputs": [
    {
     "name": "stdout",
     "output_type": "stream",
     "text": [
      "[[26  2]\n",
      " [ 0 86]]\n",
      "\n",
      "sensitivity: 1.0\n",
      "specificity: 0.022727272727272707\n",
      "\n",
      "accuracy: 0.9824561403508771\n",
      "f1 score: 0.962962962962963\n"
     ]
    }
   ],
   "source": [
    "pred_binary = to_binary_pred(pred,cutoff=.85)\n",
    "\n",
    "conf_matrix = sk.metrics.confusion_matrix(diag_test, pred_binary, labels=[1,0] )\n",
    "conf_matrix = conf_matrix.transpose()\n",
    "print(conf_matrix,end='\\n\\n')\n",
    "sens = conf_matrix[0,0]/np.sum(conf_matrix[:,0])\n",
    "spec = conf_matrix[1,1]/np.sum(conf_matrix[:,1])\n",
    "\n",
    "print('sensitivity:', sens)\n",
    "print('specificity:', (1-spec),end='\\n\\n')\n",
    "\n",
    "print('accuracy:', sk.metrics.accuracy_score(diag_test, pred_binary))\n",
    "print('f1 score:', sk.metrics.f1_score(diag_test, pred_binary))"
   ]
  },
  {
   "cell_type": "code",
   "execution_count": 126,
   "metadata": {},
   "outputs": [
    {
     "data": {
      "text/plain": [
       "[(1.0, 0.98)]"
      ]
     },
     "execution_count": 126,
     "metadata": {},
     "output_type": "execute_result"
    }
   ],
   "source": [
    "# display the sensitivities and specificities for points above\n",
    "fpr, tpr = roc(pred)\n",
    "[(round(tpr[i],2), round(1-fpr[i],2))for i in [17]]"
   ]
  },
  {
   "cell_type": "code",
   "execution_count": null,
   "metadata": {},
   "outputs": [],
   "source": []
  },
  {
   "cell_type": "code",
   "execution_count": 127,
   "metadata": {},
   "outputs": [
    {
     "data": {
      "image/png": "[encoded data removed]",
      "text/plain": [
       "<IPython.core.display.Image object>"
      ]
     },
     "execution_count": 127,
     "metadata": {},
     "output_type": "execute_result"
    }
   ],
   "source": [
    "from IPython.display import Image\n",
    "Image('/home/david/keras/kaggle/roc_nonnormalized_section.png')"
   ]
  },
  {
   "cell_type": "markdown",
   "metadata": {},
   "source": [
    "ROC curve above is from a model trained on nonnormalized data, it more fully illustrates the tradeoffs of choosing a cutoff value.\n",
    "\n",
    "Points 0 through 20 represent increasing cutoff values for our test, from 0 to 1:  \n",
    "At 0 every sample is declared malignant, so sensitivity is 100%, but the false positive rate is 100% as well\n",
    "At 1 every sample is declared benign, so sensitivity should be 0%, but the false positive rate is also 0%\n",
    "\n",
    "Between these values, as we increase the cutoff, we decrease the false positive rate,\n",
    "and beyond a certain point this comes at the expense of decreasing the true positive rate\n",
    "\n",
    "pt 9 is better than 2-8\n",
    "pt 11 is better than 10\n",
    "\n",
    "So we have a choice between cutoffs of .45, and .55"
   ]
  },
  {
   "cell_type": "markdown",
   "metadata": {},
   "source": [
    "It's important to pause here and think about what we want from our model.\n",
    "\n",
    "* Sensitivity: the proportion of the affected population that is diagnosed correctly  \n",
    "    * As sensitivity increases, more patients who need treatment receive it.\n",
    "    \n",
    "\n",
    "* Specificity: the proportion of the unaffected population that is diagnosed correctly  \n",
    "    * As specificity increases, fewer patients are falsely reassured and don't receive needed treatment."
   ]
  },
  {
   "cell_type": "markdown",
   "metadata": {},
   "source": [
    "* We may prefer sensitivity to specificity, depeneding on how steep the tradeoff is.\n",
    "    * For a serious condition like breast cancer, this would require more biopsies, and needlessly worry more patients, at the expense of not missing patients who need treatment. \n",
    "\n",
    "Another option, is for samples close to our desired cutoff to recommend careful observation.  This would make most sense when other evidence from a mammogram, or ultrasound suggests the mass is benign"
   ]
  },
  {
   "cell_type": "markdown",
   "metadata": {},
   "source": [
    "To check the utility of the above analysis let's compare to clinical data.  \n",
    "https://www.ncbi.nlm.nih.gov/pubmed/17986804  \n",
    "This is a study of 382 cases of FNA of suspicious breast lesions.  \n",
    "They report sensitivity of 86.3%, specificity of 98.2%, and accuracy of 93.2%\n",
    "\n",
    "Our model compares favorably to the clinical results.  We obtain a higher sensitivity without loss of specificity."
   ]
  }
 ],
 "metadata": {
  "kernelspec": {
   "display_name": "Python 3",
   "language": "python",
   "name": "python3"
  },
  "language_info": {
   "codemirror_mode": {
    "name": "ipython",
    "version": 3
   },
   "file_extension": ".py",
   "mimetype": "text/x-python",
   "name": "python",
   "nbconvert_exporter": "python",
   "pygments_lexer": "ipython3",
   "version": "3.5.6"
  }
 },
 "nbformat": 4,
 "nbformat_minor": 2
}
