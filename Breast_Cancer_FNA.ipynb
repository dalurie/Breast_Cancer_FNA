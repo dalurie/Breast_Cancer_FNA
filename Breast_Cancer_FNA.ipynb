{
 "cells": [
  {
   "cell_type": "markdown",
   "metadata": {},
   "source": [
    "Dataset available at:  \n",
    "https://www.kaggle.com/uciml/breast-cancer-wisconsin-data\n",
    "\n",
    "The Dataset provides information on 569 patients, their diagnosis, and 30 characteristics of their Fine Needle Aspirate (FNA) biopsy.  \n",
    "\n",
    "An FNA is a procedure wherein a thin needle is used to collect sample cells from either a suspicious mass or a suspicious lymph node.  It typically follows a mammogram and it is relatively noninvasive.  The downside of an FNA is that there is a small sample collected, and drawing through a small needle destroys the architecture of the sample.  That is to say, we receive a sample of individual cells, and can characterize them with microscopy, but we cannot see how the cells fit in relation to one another.  Another option at this stage in diagnosis are the core needle biopsy, which uses a larger needle, yields a larger sample, and can preserve structure.  Should the FNA be positive, it would be followed by an excisional biopsy, or surgical resection.\n",
    "\n",
    "Note here that the features refer to individual nuclei, their size, smoothness or their borders, etc.  These features are generated from digitized images.  \n",
    "\n",
    "The goals here are:\n",
    "* Data exploration, seeing what features are most predictive of malignancy.\n",
    "* To apply classical, supervised, machine learning models\n",
    "* Train a deep neural net with Keras\n",
    "* Quantify the performance of these models.\n",
    "\n",
    "Our models provide excellent accuracy and could be useful clinically.  Their use might include confirmation of pathologists readings.  Similarly if our model contradicts the pathologist, further diagnostic testing or consultation might be merited.  Our model, since it obtains excellent results, might be useful in underserved areas or undeveloped countries, where pathologists might not be available, but an FNA biopsy could be performed by a primary care provider.  \n",
    "\n",
    "references:  \n",
    "https://www.uptodate.com/contents/breast-biopsy  \n",
    "https://onlinelibrary.wiley.com/doi/full/10.1002/cncy.21742"
   ]
  },
  {
   "cell_type": "code",
   "execution_count": 1,
   "metadata": {},
   "outputs": [
    {
     "name": "stderr",
     "output_type": "stream",
     "text": [
      "Using TensorFlow backend.\n"
     ]
    }
   ],
   "source": [
    "%matplotlib inline\n",
    "import pandas as pd\n",
    "import matplotlib.pyplot as plt\n",
    "import numpy as np\n",
    "from keras import models\n",
    "from keras import layers\n",
    "from keras import optimizers\n",
    "from keras import losses\n",
    "from keras import metrics\n",
    "from keras import regularizers\n",
    "import scipy\n",
    "import sklearn as sk # version >= .20\n",
    "from sklearn import svm \n",
    "from sklearn.svm import SVR\n",
    "from sklearn.ensemble import RandomForestRegressor as rfr\n",
    "from sklearn.decomposition import KernelPCA, PCA\n",
    "from sklearn.metrics import  roc_curve\n",
    "from sklearn.metrics import roc_auc_score\n",
    "from sklearn.model_selection import train_test_split\n",
    "import ipywidgets as widgets\n",
    "from ipywidgets import interact\n",
    "import warnings\n",
    "import timeit"
   ]
  },
  {
   "cell_type": "code",
   "execution_count": 2,
   "metadata": {},
   "outputs": [
    {
     "data": {
      "text/html": [
       "<div>\n",
       "<style scoped>\n",
       "    .dataframe tbody tr th:only-of-type {\n",
       "        vertical-align: middle;\n",
       "    }\n",
       "\n",
       "    .dataframe tbody tr th {\n",
       "        vertical-align: top;\n",
       "    }\n",
       "\n",
       "    .dataframe thead th {\n",
       "        text-align: right;\n",
       "    }\n",
       "</style>\n",
       "<table border=\"1\" class=\"dataframe\">\n",
       "  <thead>\n",
       "    <tr style=\"text-align: right;\">\n",
       "      <th></th>\n",
       "      <th>id</th>\n",
       "      <th>diagnosis</th>\n",
       "      <th>radius_mean</th>\n",
       "      <th>texture_mean</th>\n",
       "      <th>perimeter_mean</th>\n",
       "      <th>area_mean</th>\n",
       "      <th>smoothness_mean</th>\n",
       "      <th>compactness_mean</th>\n",
       "      <th>concavity_mean</th>\n",
       "      <th>concave points_mean</th>\n",
       "      <th>...</th>\n",
       "      <th>texture_worst</th>\n",
       "      <th>perimeter_worst</th>\n",
       "      <th>area_worst</th>\n",
       "      <th>smoothness_worst</th>\n",
       "      <th>compactness_worst</th>\n",
       "      <th>concavity_worst</th>\n",
       "      <th>concave points_worst</th>\n",
       "      <th>symmetry_worst</th>\n",
       "      <th>fractal_dimension_worst</th>\n",
       "      <th>Unnamed: 32</th>\n",
       "    </tr>\n",
       "  </thead>\n",
       "  <tbody>\n",
       "    <tr>\n",
       "      <th>0</th>\n",
       "      <td>842302</td>\n",
       "      <td>M</td>\n",
       "      <td>17.99</td>\n",
       "      <td>10.38</td>\n",
       "      <td>122.80</td>\n",
       "      <td>1001.0</td>\n",
       "      <td>0.11840</td>\n",
       "      <td>0.27760</td>\n",
       "      <td>0.3001</td>\n",
       "      <td>0.14710</td>\n",
       "      <td>...</td>\n",
       "      <td>17.33</td>\n",
       "      <td>184.60</td>\n",
       "      <td>2019.0</td>\n",
       "      <td>0.1622</td>\n",
       "      <td>0.6656</td>\n",
       "      <td>0.7119</td>\n",
       "      <td>0.2654</td>\n",
       "      <td>0.4601</td>\n",
       "      <td>0.11890</td>\n",
       "      <td>NaN</td>\n",
       "    </tr>\n",
       "    <tr>\n",
       "      <th>1</th>\n",
       "      <td>842517</td>\n",
       "      <td>M</td>\n",
       "      <td>20.57</td>\n",
       "      <td>17.77</td>\n",
       "      <td>132.90</td>\n",
       "      <td>1326.0</td>\n",
       "      <td>0.08474</td>\n",
       "      <td>0.07864</td>\n",
       "      <td>0.0869</td>\n",
       "      <td>0.07017</td>\n",
       "      <td>...</td>\n",
       "      <td>23.41</td>\n",
       "      <td>158.80</td>\n",
       "      <td>1956.0</td>\n",
       "      <td>0.1238</td>\n",
       "      <td>0.1866</td>\n",
       "      <td>0.2416</td>\n",
       "      <td>0.1860</td>\n",
       "      <td>0.2750</td>\n",
       "      <td>0.08902</td>\n",
       "      <td>NaN</td>\n",
       "    </tr>\n",
       "    <tr>\n",
       "      <th>2</th>\n",
       "      <td>84300903</td>\n",
       "      <td>M</td>\n",
       "      <td>19.69</td>\n",
       "      <td>21.25</td>\n",
       "      <td>130.00</td>\n",
       "      <td>1203.0</td>\n",
       "      <td>0.10960</td>\n",
       "      <td>0.15990</td>\n",
       "      <td>0.1974</td>\n",
       "      <td>0.12790</td>\n",
       "      <td>...</td>\n",
       "      <td>25.53</td>\n",
       "      <td>152.50</td>\n",
       "      <td>1709.0</td>\n",
       "      <td>0.1444</td>\n",
       "      <td>0.4245</td>\n",
       "      <td>0.4504</td>\n",
       "      <td>0.2430</td>\n",
       "      <td>0.3613</td>\n",
       "      <td>0.08758</td>\n",
       "      <td>NaN</td>\n",
       "    </tr>\n",
       "    <tr>\n",
       "      <th>3</th>\n",
       "      <td>84348301</td>\n",
       "      <td>M</td>\n",
       "      <td>11.42</td>\n",
       "      <td>20.38</td>\n",
       "      <td>77.58</td>\n",
       "      <td>386.1</td>\n",
       "      <td>0.14250</td>\n",
       "      <td>0.28390</td>\n",
       "      <td>0.2414</td>\n",
       "      <td>0.10520</td>\n",
       "      <td>...</td>\n",
       "      <td>26.50</td>\n",
       "      <td>98.87</td>\n",
       "      <td>567.7</td>\n",
       "      <td>0.2098</td>\n",
       "      <td>0.8663</td>\n",
       "      <td>0.6869</td>\n",
       "      <td>0.2575</td>\n",
       "      <td>0.6638</td>\n",
       "      <td>0.17300</td>\n",
       "      <td>NaN</td>\n",
       "    </tr>\n",
       "    <tr>\n",
       "      <th>4</th>\n",
       "      <td>84358402</td>\n",
       "      <td>M</td>\n",
       "      <td>20.29</td>\n",
       "      <td>14.34</td>\n",
       "      <td>135.10</td>\n",
       "      <td>1297.0</td>\n",
       "      <td>0.10030</td>\n",
       "      <td>0.13280</td>\n",
       "      <td>0.1980</td>\n",
       "      <td>0.10430</td>\n",
       "      <td>...</td>\n",
       "      <td>16.67</td>\n",
       "      <td>152.20</td>\n",
       "      <td>1575.0</td>\n",
       "      <td>0.1374</td>\n",
       "      <td>0.2050</td>\n",
       "      <td>0.4000</td>\n",
       "      <td>0.1625</td>\n",
       "      <td>0.2364</td>\n",
       "      <td>0.07678</td>\n",
       "      <td>NaN</td>\n",
       "    </tr>\n",
       "  </tbody>\n",
       "</table>\n",
       "<p>5 rows × 33 columns</p>\n",
       "</div>"
      ],
      "text/plain": [
       "         id diagnosis  radius_mean  texture_mean  perimeter_mean  area_mean  \\\n",
       "0    842302         M        17.99         10.38          122.80     1001.0   \n",
       "1    842517         M        20.57         17.77          132.90     1326.0   \n",
       "2  84300903         M        19.69         21.25          130.00     1203.0   \n",
       "3  84348301         M        11.42         20.38           77.58      386.1   \n",
       "4  84358402         M        20.29         14.34          135.10     1297.0   \n",
       "\n",
       "   smoothness_mean  compactness_mean  concavity_mean  concave points_mean  \\\n",
       "0          0.11840           0.27760          0.3001              0.14710   \n",
       "1          0.08474           0.07864          0.0869              0.07017   \n",
       "2          0.10960           0.15990          0.1974              0.12790   \n",
       "3          0.14250           0.28390          0.2414              0.10520   \n",
       "4          0.10030           0.13280          0.1980              0.10430   \n",
       "\n",
       "   ...  texture_worst  perimeter_worst  area_worst  smoothness_worst  \\\n",
       "0  ...          17.33           184.60      2019.0            0.1622   \n",
       "1  ...          23.41           158.80      1956.0            0.1238   \n",
       "2  ...          25.53           152.50      1709.0            0.1444   \n",
       "3  ...          26.50            98.87       567.7            0.2098   \n",
       "4  ...          16.67           152.20      1575.0            0.1374   \n",
       "\n",
       "   compactness_worst  concavity_worst  concave points_worst  symmetry_worst  \\\n",
       "0             0.6656           0.7119                0.2654          0.4601   \n",
       "1             0.1866           0.2416                0.1860          0.2750   \n",
       "2             0.4245           0.4504                0.2430          0.3613   \n",
       "3             0.8663           0.6869                0.2575          0.6638   \n",
       "4             0.2050           0.4000                0.1625          0.2364   \n",
       "\n",
       "   fractal_dimension_worst  Unnamed: 32  \n",
       "0                  0.11890          NaN  \n",
       "1                  0.08902          NaN  \n",
       "2                  0.08758          NaN  \n",
       "3                  0.17300          NaN  \n",
       "4                  0.07678          NaN  \n",
       "\n",
       "[5 rows x 33 columns]"
      ]
     },
     "metadata": {},
     "output_type": "display_data"
    },
    {
     "name": "stdout",
     "output_type": "stream",
     "text": [
      "(569, 33)\n"
     ]
    }
   ],
   "source": [
    "data = pd.read_csv(r'/home/david/keras/kaggle_breast_cancer/data.csv')\n",
    "display(data.head())\n",
    "print(data.shape)"
   ]
  },
  {
   "cell_type": "code",
   "execution_count": 3,
   "metadata": {
    "scrolled": true
   },
   "outputs": [
    {
     "data": {
      "text/html": [
       "<div>\n",
       "<style scoped>\n",
       "    .dataframe tbody tr th:only-of-type {\n",
       "        vertical-align: middle;\n",
       "    }\n",
       "\n",
       "    .dataframe tbody tr th {\n",
       "        vertical-align: top;\n",
       "    }\n",
       "\n",
       "    .dataframe thead th {\n",
       "        text-align: right;\n",
       "    }\n",
       "</style>\n",
       "<table border=\"1\" class=\"dataframe\">\n",
       "  <thead>\n",
       "    <tr style=\"text-align: right;\">\n",
       "      <th></th>\n",
       "      <th>id</th>\n",
       "      <th>radius_mean</th>\n",
       "      <th>texture_mean</th>\n",
       "      <th>perimeter_mean</th>\n",
       "      <th>area_mean</th>\n",
       "      <th>smoothness_mean</th>\n",
       "      <th>compactness_mean</th>\n",
       "      <th>concavity_mean</th>\n",
       "      <th>concave points_mean</th>\n",
       "      <th>symmetry_mean</th>\n",
       "      <th>...</th>\n",
       "      <th>texture_worst</th>\n",
       "      <th>perimeter_worst</th>\n",
       "      <th>area_worst</th>\n",
       "      <th>smoothness_worst</th>\n",
       "      <th>compactness_worst</th>\n",
       "      <th>concavity_worst</th>\n",
       "      <th>concave points_worst</th>\n",
       "      <th>symmetry_worst</th>\n",
       "      <th>fractal_dimension_worst</th>\n",
       "      <th>Unnamed: 32</th>\n",
       "    </tr>\n",
       "  </thead>\n",
       "  <tbody>\n",
       "    <tr>\n",
       "      <th>count</th>\n",
       "      <td>5.690000e+02</td>\n",
       "      <td>569.000000</td>\n",
       "      <td>569.000000</td>\n",
       "      <td>569.000000</td>\n",
       "      <td>569.000000</td>\n",
       "      <td>569.000000</td>\n",
       "      <td>569.000000</td>\n",
       "      <td>569.000000</td>\n",
       "      <td>569.000000</td>\n",
       "      <td>569.000000</td>\n",
       "      <td>...</td>\n",
       "      <td>569.000000</td>\n",
       "      <td>569.000000</td>\n",
       "      <td>569.000000</td>\n",
       "      <td>569.000000</td>\n",
       "      <td>569.000000</td>\n",
       "      <td>569.000000</td>\n",
       "      <td>569.000000</td>\n",
       "      <td>569.000000</td>\n",
       "      <td>569.000000</td>\n",
       "      <td>0.0</td>\n",
       "    </tr>\n",
       "    <tr>\n",
       "      <th>mean</th>\n",
       "      <td>3.037183e+07</td>\n",
       "      <td>14.127292</td>\n",
       "      <td>19.289649</td>\n",
       "      <td>91.969033</td>\n",
       "      <td>654.889104</td>\n",
       "      <td>0.096360</td>\n",
       "      <td>0.104341</td>\n",
       "      <td>0.088799</td>\n",
       "      <td>0.048919</td>\n",
       "      <td>0.181162</td>\n",
       "      <td>...</td>\n",
       "      <td>25.677223</td>\n",
       "      <td>107.261213</td>\n",
       "      <td>880.583128</td>\n",
       "      <td>0.132369</td>\n",
       "      <td>0.254265</td>\n",
       "      <td>0.272188</td>\n",
       "      <td>0.114606</td>\n",
       "      <td>0.290076</td>\n",
       "      <td>0.083946</td>\n",
       "      <td>NaN</td>\n",
       "    </tr>\n",
       "    <tr>\n",
       "      <th>std</th>\n",
       "      <td>1.250206e+08</td>\n",
       "      <td>3.524049</td>\n",
       "      <td>4.301036</td>\n",
       "      <td>24.298981</td>\n",
       "      <td>351.914129</td>\n",
       "      <td>0.014064</td>\n",
       "      <td>0.052813</td>\n",
       "      <td>0.079720</td>\n",
       "      <td>0.038803</td>\n",
       "      <td>0.027414</td>\n",
       "      <td>...</td>\n",
       "      <td>6.146258</td>\n",
       "      <td>33.602542</td>\n",
       "      <td>569.356993</td>\n",
       "      <td>0.022832</td>\n",
       "      <td>0.157336</td>\n",
       "      <td>0.208624</td>\n",
       "      <td>0.065732</td>\n",
       "      <td>0.061867</td>\n",
       "      <td>0.018061</td>\n",
       "      <td>NaN</td>\n",
       "    </tr>\n",
       "    <tr>\n",
       "      <th>min</th>\n",
       "      <td>8.670000e+03</td>\n",
       "      <td>6.981000</td>\n",
       "      <td>9.710000</td>\n",
       "      <td>43.790000</td>\n",
       "      <td>143.500000</td>\n",
       "      <td>0.052630</td>\n",
       "      <td>0.019380</td>\n",
       "      <td>0.000000</td>\n",
       "      <td>0.000000</td>\n",
       "      <td>0.106000</td>\n",
       "      <td>...</td>\n",
       "      <td>12.020000</td>\n",
       "      <td>50.410000</td>\n",
       "      <td>185.200000</td>\n",
       "      <td>0.071170</td>\n",
       "      <td>0.027290</td>\n",
       "      <td>0.000000</td>\n",
       "      <td>0.000000</td>\n",
       "      <td>0.156500</td>\n",
       "      <td>0.055040</td>\n",
       "      <td>NaN</td>\n",
       "    </tr>\n",
       "    <tr>\n",
       "      <th>25%</th>\n",
       "      <td>8.692180e+05</td>\n",
       "      <td>11.700000</td>\n",
       "      <td>16.170000</td>\n",
       "      <td>75.170000</td>\n",
       "      <td>420.300000</td>\n",
       "      <td>0.086370</td>\n",
       "      <td>0.064920</td>\n",
       "      <td>0.029560</td>\n",
       "      <td>0.020310</td>\n",
       "      <td>0.161900</td>\n",
       "      <td>...</td>\n",
       "      <td>21.080000</td>\n",
       "      <td>84.110000</td>\n",
       "      <td>515.300000</td>\n",
       "      <td>0.116600</td>\n",
       "      <td>0.147200</td>\n",
       "      <td>0.114500</td>\n",
       "      <td>0.064930</td>\n",
       "      <td>0.250400</td>\n",
       "      <td>0.071460</td>\n",
       "      <td>NaN</td>\n",
       "    </tr>\n",
       "    <tr>\n",
       "      <th>50%</th>\n",
       "      <td>9.060240e+05</td>\n",
       "      <td>13.370000</td>\n",
       "      <td>18.840000</td>\n",
       "      <td>86.240000</td>\n",
       "      <td>551.100000</td>\n",
       "      <td>0.095870</td>\n",
       "      <td>0.092630</td>\n",
       "      <td>0.061540</td>\n",
       "      <td>0.033500</td>\n",
       "      <td>0.179200</td>\n",
       "      <td>...</td>\n",
       "      <td>25.410000</td>\n",
       "      <td>97.660000</td>\n",
       "      <td>686.500000</td>\n",
       "      <td>0.131300</td>\n",
       "      <td>0.211900</td>\n",
       "      <td>0.226700</td>\n",
       "      <td>0.099930</td>\n",
       "      <td>0.282200</td>\n",
       "      <td>0.080040</td>\n",
       "      <td>NaN</td>\n",
       "    </tr>\n",
       "    <tr>\n",
       "      <th>75%</th>\n",
       "      <td>8.813129e+06</td>\n",
       "      <td>15.780000</td>\n",
       "      <td>21.800000</td>\n",
       "      <td>104.100000</td>\n",
       "      <td>782.700000</td>\n",
       "      <td>0.105300</td>\n",
       "      <td>0.130400</td>\n",
       "      <td>0.130700</td>\n",
       "      <td>0.074000</td>\n",
       "      <td>0.195700</td>\n",
       "      <td>...</td>\n",
       "      <td>29.720000</td>\n",
       "      <td>125.400000</td>\n",
       "      <td>1084.000000</td>\n",
       "      <td>0.146000</td>\n",
       "      <td>0.339100</td>\n",
       "      <td>0.382900</td>\n",
       "      <td>0.161400</td>\n",
       "      <td>0.317900</td>\n",
       "      <td>0.092080</td>\n",
       "      <td>NaN</td>\n",
       "    </tr>\n",
       "    <tr>\n",
       "      <th>max</th>\n",
       "      <td>9.113205e+08</td>\n",
       "      <td>28.110000</td>\n",
       "      <td>39.280000</td>\n",
       "      <td>188.500000</td>\n",
       "      <td>2501.000000</td>\n",
       "      <td>0.163400</td>\n",
       "      <td>0.345400</td>\n",
       "      <td>0.426800</td>\n",
       "      <td>0.201200</td>\n",
       "      <td>0.304000</td>\n",
       "      <td>...</td>\n",
       "      <td>49.540000</td>\n",
       "      <td>251.200000</td>\n",
       "      <td>4254.000000</td>\n",
       "      <td>0.222600</td>\n",
       "      <td>1.058000</td>\n",
       "      <td>1.252000</td>\n",
       "      <td>0.291000</td>\n",
       "      <td>0.663800</td>\n",
       "      <td>0.207500</td>\n",
       "      <td>NaN</td>\n",
       "    </tr>\n",
       "  </tbody>\n",
       "</table>\n",
       "<p>8 rows × 32 columns</p>\n",
       "</div>"
      ],
      "text/plain": [
       "                 id  radius_mean  texture_mean  perimeter_mean    area_mean  \\\n",
       "count  5.690000e+02   569.000000    569.000000      569.000000   569.000000   \n",
       "mean   3.037183e+07    14.127292     19.289649       91.969033   654.889104   \n",
       "std    1.250206e+08     3.524049      4.301036       24.298981   351.914129   \n",
       "min    8.670000e+03     6.981000      9.710000       43.790000   143.500000   \n",
       "25%    8.692180e+05    11.700000     16.170000       75.170000   420.300000   \n",
       "50%    9.060240e+05    13.370000     18.840000       86.240000   551.100000   \n",
       "75%    8.813129e+06    15.780000     21.800000      104.100000   782.700000   \n",
       "max    9.113205e+08    28.110000     39.280000      188.500000  2501.000000   \n",
       "\n",
       "       smoothness_mean  compactness_mean  concavity_mean  concave points_mean  \\\n",
       "count       569.000000        569.000000      569.000000           569.000000   \n",
       "mean          0.096360          0.104341        0.088799             0.048919   \n",
       "std           0.014064          0.052813        0.079720             0.038803   \n",
       "min           0.052630          0.019380        0.000000             0.000000   \n",
       "25%           0.086370          0.064920        0.029560             0.020310   \n",
       "50%           0.095870          0.092630        0.061540             0.033500   \n",
       "75%           0.105300          0.130400        0.130700             0.074000   \n",
       "max           0.163400          0.345400        0.426800             0.201200   \n",
       "\n",
       "       symmetry_mean  ...  texture_worst  perimeter_worst   area_worst  \\\n",
       "count     569.000000  ...     569.000000       569.000000   569.000000   \n",
       "mean        0.181162  ...      25.677223       107.261213   880.583128   \n",
       "std         0.027414  ...       6.146258        33.602542   569.356993   \n",
       "min         0.106000  ...      12.020000        50.410000   185.200000   \n",
       "25%         0.161900  ...      21.080000        84.110000   515.300000   \n",
       "50%         0.179200  ...      25.410000        97.660000   686.500000   \n",
       "75%         0.195700  ...      29.720000       125.400000  1084.000000   \n",
       "max         0.304000  ...      49.540000       251.200000  4254.000000   \n",
       "\n",
       "       smoothness_worst  compactness_worst  concavity_worst  \\\n",
       "count        569.000000         569.000000       569.000000   \n",
       "mean           0.132369           0.254265         0.272188   \n",
       "std            0.022832           0.157336         0.208624   \n",
       "min            0.071170           0.027290         0.000000   \n",
       "25%            0.116600           0.147200         0.114500   \n",
       "50%            0.131300           0.211900         0.226700   \n",
       "75%            0.146000           0.339100         0.382900   \n",
       "max            0.222600           1.058000         1.252000   \n",
       "\n",
       "       concave points_worst  symmetry_worst  fractal_dimension_worst  \\\n",
       "count            569.000000      569.000000               569.000000   \n",
       "mean               0.114606        0.290076                 0.083946   \n",
       "std                0.065732        0.061867                 0.018061   \n",
       "min                0.000000        0.156500                 0.055040   \n",
       "25%                0.064930        0.250400                 0.071460   \n",
       "50%                0.099930        0.282200                 0.080040   \n",
       "75%                0.161400        0.317900                 0.092080   \n",
       "max                0.291000        0.663800                 0.207500   \n",
       "\n",
       "       Unnamed: 32  \n",
       "count          0.0  \n",
       "mean           NaN  \n",
       "std            NaN  \n",
       "min            NaN  \n",
       "25%            NaN  \n",
       "50%            NaN  \n",
       "75%            NaN  \n",
       "max            NaN  \n",
       "\n",
       "[8 rows x 32 columns]"
      ]
     },
     "execution_count": 3,
     "metadata": {},
     "output_type": "execute_result"
    }
   ],
   "source": [
    "data.describe()"
   ]
  },
  {
   "cell_type": "code",
   "execution_count": 4,
   "metadata": {},
   "outputs": [
    {
     "data": {
      "text/plain": [
       "Index(['id', 'diagnosis', 'radius_mean', 'texture_mean', 'perimeter_mean',\n",
       "       'area_mean', 'smoothness_mean', 'compactness_mean', 'concavity_mean',\n",
       "       'concave points_mean', 'symmetry_mean', 'fractal_dimension_mean',\n",
       "       'radius_se', 'texture_se', 'perimeter_se', 'area_se', 'smoothness_se',\n",
       "       'compactness_se', 'concavity_se', 'concave points_se', 'symmetry_se',\n",
       "       'fractal_dimension_se', 'radius_worst', 'texture_worst',\n",
       "       'perimeter_worst', 'area_worst', 'smoothness_worst',\n",
       "       'compactness_worst', 'concavity_worst', 'concave points_worst',\n",
       "       'symmetry_worst', 'fractal_dimension_worst', 'Unnamed: 32'],\n",
       "      dtype='object')"
      ]
     },
     "execution_count": 4,
     "metadata": {},
     "output_type": "execute_result"
    }
   ],
   "source": [
    "data.keys()"
   ]
  },
  {
   "cell_type": "code",
   "execution_count": 5,
   "metadata": {},
   "outputs": [
    {
     "name": "stdout",
     "output_type": "stream",
     "text": [
      "(569, 33)\n",
      "(569, 30)\n"
     ]
    }
   ],
   "source": [
    "data_clean = data.drop(columns=['Unnamed: 32', 'id', 'diagnosis']) #Unnamed column from Pandas handling of index\n",
    "print(data.shape)\n",
    "print(data_clean.shape)"
   ]
  },
  {
   "cell_type": "code",
   "execution_count": 6,
   "metadata": {},
   "outputs": [
    {
     "data": {
      "text/plain": [
       "False"
      ]
     },
     "execution_count": 6,
     "metadata": {},
     "output_type": "execute_result"
    }
   ],
   "source": [
    "# check if we have any nan values in data\n",
    "np.any(np.isnan(data_clean))"
   ]
  },
  {
   "cell_type": "code",
   "execution_count": 7,
   "metadata": {},
   "outputs": [
    {
     "name": "stdout",
     "output_type": "stream",
     "text": [
      "<class 'pandas.core.frame.DataFrame'>\n",
      "RangeIndex: 569 entries, 0 to 568\n",
      "Data columns (total 30 columns):\n",
      "radius_mean                569 non-null float64\n",
      "texture_mean               569 non-null float64\n",
      "perimeter_mean             569 non-null float64\n",
      "area_mean                  569 non-null float64\n",
      "smoothness_mean            569 non-null float64\n",
      "compactness_mean           569 non-null float64\n",
      "concavity_mean             569 non-null float64\n",
      "concave points_mean        569 non-null float64\n",
      "symmetry_mean              569 non-null float64\n",
      "fractal_dimension_mean     569 non-null float64\n",
      "radius_se                  569 non-null float64\n",
      "texture_se                 569 non-null float64\n",
      "perimeter_se               569 non-null float64\n",
      "area_se                    569 non-null float64\n",
      "smoothness_se              569 non-null float64\n",
      "compactness_se             569 non-null float64\n",
      "concavity_se               569 non-null float64\n",
      "concave points_se          569 non-null float64\n",
      "symmetry_se                569 non-null float64\n",
      "fractal_dimension_se       569 non-null float64\n",
      "radius_worst               569 non-null float64\n",
      "texture_worst              569 non-null float64\n",
      "perimeter_worst            569 non-null float64\n",
      "area_worst                 569 non-null float64\n",
      "smoothness_worst           569 non-null float64\n",
      "compactness_worst          569 non-null float64\n",
      "concavity_worst            569 non-null float64\n",
      "concave points_worst       569 non-null float64\n",
      "symmetry_worst             569 non-null float64\n",
      "fractal_dimension_worst    569 non-null float64\n",
      "dtypes: float64(30)\n",
      "memory usage: 133.4 KB\n"
     ]
    }
   ],
   "source": [
    "# check, for type uniformity in feature space\n",
    "data_clean.info()"
   ]
  },
  {
   "cell_type": "markdown",
   "metadata": {},
   "source": [
    "what shape to feed model?  \n",
    "\n",
    "each sample has 30 features of type float64  \n",
    "want numpy array of shape (samples, number of features) for up to 30 features"
   ]
  },
  {
   "cell_type": "code",
   "execution_count": 8,
   "metadata": {},
   "outputs": [
    {
     "data": {
      "text/plain": [
       "('B', 'M')"
      ]
     },
     "execution_count": 8,
     "metadata": {},
     "output_type": "execute_result"
    }
   ],
   "source": [
    "diag = data['diagnosis']\n",
    "min(diag), max(diag)"
   ]
  },
  {
   "cell_type": "code",
   "execution_count": 9,
   "metadata": {
    "scrolled": true
   },
   "outputs": [
    {
     "name": "stdout",
     "output_type": "stream",
     "text": [
      "percent benign: 0.63\n",
      "percent malignant: 0.37\n"
     ]
    }
   ],
   "source": [
    "# check skewness\n",
    "n_ben = sum(diag == 'B')\n",
    "n_mal = sum(diag == 'M')\n",
    "print('percent benign:', round(n_ben/data.shape[0],2))\n",
    "print('percent malignant:', round(n_mal/data.shape[0],2))"
   ]
  },
  {
   "cell_type": "code",
   "execution_count": 10,
   "metadata": {},
   "outputs": [],
   "source": [
    "# convert labels\n",
    "diag_bin = np.fromiter(map(lambda x: 1 if x == 'M' else 0, diag),dtype='int8')"
   ]
  },
  {
   "cell_type": "code",
   "execution_count": 11,
   "metadata": {},
   "outputs": [],
   "source": [
    "data_norm = np.asarray(data_clean.copy())\n",
    "scaler = sk.preprocessing.StandardScaler()\n",
    "data_norm = scaler.fit_transform(data_norm)"
   ]
  },
  {
   "cell_type": "code",
   "execution_count": 12,
   "metadata": {},
   "outputs": [],
   "source": [
    "#train, test split\n",
    "data_train, data_test, diag_train, diag_test = train_test_split(data_norm, diag_bin,test_size=.2)"
   ]
  },
  {
   "cell_type": "code",
   "execution_count": 13,
   "metadata": {},
   "outputs": [],
   "source": [
    "# train, validate split\n",
    "data_part_train, data_val, diag_part_train, diag_val = train_test_split(data_train, diag_train, test_size=.2)"
   ]
  },
  {
   "cell_type": "code",
   "execution_count": 14,
   "metadata": {},
   "outputs": [],
   "source": [
    "# as a control, nonnormalized data\n",
    "temp = np.asarray(data_clean.copy())\n",
    "data_train_non, data_test_non, diag_train_non, diag_test_non = train_test_split(temp, diag_bin, test_size=.2)"
   ]
  },
  {
   "cell_type": "markdown",
   "metadata": {},
   "source": [
    "### feature selection\n",
    "Most of the predictive power of the dataset is contained in a subset of it's data."
   ]
  },
  {
   "cell_type": "code",
   "execution_count": 15,
   "metadata": {},
   "outputs": [],
   "source": [
    "features = list(data_clean.keys())"
   ]
  },
  {
   "cell_type": "code",
   "execution_count": 16,
   "metadata": {},
   "outputs": [
    {
     "data": {
      "text/plain": [
       "array([[1.        , 0.73002851],\n",
       "       [0.73002851, 1.        ]])"
      ]
     },
     "execution_count": 16,
     "metadata": {},
     "output_type": "execute_result"
    }
   ],
   "source": [
    "# correlation between first feature and labels\n",
    "rad = data_clean['radius_mean']\n",
    "np.corrcoef(rad,diag_bin)"
   ]
  },
  {
   "cell_type": "code",
   "execution_count": 17,
   "metadata": {
    "scrolled": false
   },
   "outputs": [
    {
     "name": "stdout",
     "output_type": "stream",
     "text": [
      "[(0.7935660171412687, 'concave points_worst', 27), (0.7829141371737581, 'perimeter_worst', 22), (0.7766138400204345, 'concave points_mean', 7), (0.7764537785950383, 'radius_worst', 20), (0.7426355297258318, 'perimeter_mean', 2), (0.73382503492105, 'area_worst', 23), (0.7300285113754553, 'radius_mean', 0), (0.7089838365853887, 'area_mean', 3), (0.6963597071719051, 'concavity_mean', 6), (0.6596102103692325, 'concavity_worst', 26), (0.5965336775082524, 'compactness_mean', 5), (0.5909982378417911, 'compactness_worst', 25), (0.5671338208247169, 'radius_se', 10), (0.5561407034314823, 'perimeter_se', 12), (0.5482359402780236, 'area_se', 13), (0.4569028213967977, 'texture_worst', 21), (0.4214648610664021, 'smoothness_worst', 24), (0.41629431104861864, 'symmetry_worst', 28), (0.4151852998452038, 'texture_mean', 1), (0.40804233271650403, 'concave points_se', 17), (0.35855996508593163, 'smoothness_mean', 4), (0.33049855426254665, 'symmetry_mean', 8), (0.32387218872082346, 'fractal_dimension_worst', 29), (0.292999244248858, 'compactness_se', 15), (0.25372976598083, 'concavity_se', 16), (0.07797241739025601, 'fractal_dimension_se', 19), (-0.006521755870647966, 'symmetry_se', 18), (-0.008303332973877418, 'texture_se', 11), (-0.012837602698432333, 'fractal_dimension_mean', 9), (-0.06701601057948722, 'smoothness_se', 14)]\n"
     ]
    }
   ],
   "source": [
    "#list of features by correlation to labels\n",
    "corr = [np.corrcoef(data_clean[i],diag_bin)[0,1] for i in features]\n",
    "corr_tuples = [(corr[i],features[i],i) for i in range(len(corr))]\n",
    "corr_tuples.sort(key=lambda x:x[0], reverse = True) # sort in place, by most correlated first\n",
    "print(corr_tuples,)"
   ]
  },
  {
   "cell_type": "code",
   "execution_count": 18,
   "metadata": {},
   "outputs": [
    {
     "name": "stdout",
     "output_type": "stream",
     "text": [
      "['concave points_worst', 'perimeter_worst', 'concave points_mean', 'radius_worst', 'perimeter_mean', 'area_worst', 'radius_mean', 'area_mean', 'concavity_mean', 'concavity_worst', 'compactness_mean', 'compactness_worst', 'radius_se', 'perimeter_se', 'area_se', 'texture_worst', 'smoothness_worst', 'symmetry_worst', 'texture_mean', 'concave points_se', 'smoothness_mean', 'symmetry_mean', 'fractal_dimension_worst', 'compactness_se', 'concavity_se', 'fractal_dimension_se', 'symmetry_se', 'texture_se', 'fractal_dimension_mean', 'smoothness_se']\n",
      "\n",
      "[27, 22, 7, 20, 2, 23, 0, 3, 6, 26, 5, 25, 10, 12, 13, 21, 24, 28, 1, 17, 4, 8, 29, 15, 16, 19, 18, 11, 9, 14]\n"
     ]
    }
   ],
   "source": [
    "corr_columns = []\n",
    "corr_column_names = []\n",
    "for i in corr_tuples:\n",
    "    corr_columns.append(i[2])\n",
    "    corr_column_names.append(i[1])\n",
    "print(corr_column_names)\n",
    "print()\n",
    "print(corr_columns) # the column number in the original datatable"
   ]
  },
  {
   "cell_type": "code",
   "execution_count": 19,
   "metadata": {},
   "outputs": [],
   "source": [
    "def separate_diag(x):\n",
    "    \"\"\"\n",
    "    x int 0 to 29, most to least correlated features\n",
    "    separates feature column into two lists of benign and malignant\n",
    "    \"\"\"\n",
    "    temp_ben = []\n",
    "    for i in range(len(data_train)):\n",
    "        if diag_train[i] == 0:\n",
    "            temp_ben.append(data_train[:,corr_columns[x]][i])\n",
    "    temp_mal = []\n",
    "    for i in range(len(data_train)):\n",
    "        if diag_train[i] == 1:\n",
    "            temp_mal.append(data_train[:,corr_columns[x]][i])\n",
    "    return temp_ben,temp_mal"
   ]
  },
  {
   "cell_type": "code",
   "execution_count": 20,
   "metadata": {},
   "outputs": [
    {
     "data": {
      "image/png": "[encoded data removed]",
      "text/plain": [
       "<Figure size 1224x504 with 1 Axes>"
      ]
     },
     "metadata": {
      "needs_background": "light"
     },
     "output_type": "display_data"
    }
   ],
   "source": [
    "# feature 'concave points_worst' by itself shows good separation of samples\n",
    "x,y = separate_diag(0)\n",
    "plt.figure(figsize=(17,7))\n",
    "plt.hist(x,bins=20,alpha=.5,color='firebrick')\n",
    "plt.hist(y,bins=20,alpha=.5,color='#6495ed')\n",
    "plt.show()"
   ]
  },
  {
   "cell_type": "code",
   "execution_count": 21,
   "metadata": {},
   "outputs": [
    {
     "data": {
      "image/png": "[encoded data removed]",
      "text/plain": [
       "<Figure size 1224x504 with 1 Axes>"
      ]
     },
     "metadata": {
      "needs_background": "light"
     },
     "output_type": "display_data"
    }
   ],
   "source": [
    "# feature 'smoothness_se' can't separate samples, and has very little predictive power\n",
    "x,y = separate_diag(29)\n",
    "plt.figure(figsize=(17,7))\n",
    "plt.hist(x,bins=20, alpha=.5, color='firebrick')\n",
    "plt.hist(y,bins=20, alpha=.5, color='#6495ed')\n",
    "plt.show()"
   ]
  },
  {
   "cell_type": "code",
   "execution_count": 22,
   "metadata": {},
   "outputs": [],
   "source": [
    "# let's take the most correlated features\n",
    "most_corr = corr_columns[:20]\n",
    "# let's remove features which are highly correlated to each other"
   ]
  },
  {
   "cell_type": "code",
   "execution_count": 23,
   "metadata": {},
   "outputs": [
    {
     "data": {
      "text/plain": [
       "[27, 22, 7, 20, 2, 23, 0, 3, 6, 26, 5, 25, 10, 12, 13, 21, 24, 28, 1, 17]"
      ]
     },
     "execution_count": 23,
     "metadata": {},
     "output_type": "execute_result"
    }
   ],
   "source": [
    "most_corr"
   ]
  },
  {
   "cell_type": "code",
   "execution_count": 24,
   "metadata": {},
   "outputs": [],
   "source": [
    "features = corr_column_names.copy()\n",
    "feature_columns = corr_columns.copy()\n",
    "feature_vectors = [data_train[:,i] for i in corr_columns]\n",
    "correlation_matrix = np.corrcoef(feature_vectors)\n",
    "correlation_matrix_round = np.round(correlation_matrix,1)\n",
    "cor1 = correlation_matrix_round[:15,:15]\n",
    "cor2 = correlation_matrix_round[15:,:15]\n",
    "cor3 = correlation_matrix_round[15:,15:]"
   ]
  },
  {
   "cell_type": "code",
   "execution_count": 25,
   "metadata": {
    "scrolled": false
   },
   "outputs": [
    {
     "data": {
      "image/png": "[encoded data removed]",
      "text/plain": [
       "<Figure size 432x288 with 1 Axes>"
      ]
     },
     "metadata": {
      "needs_background": "light"
     },
     "output_type": "display_data"
    },
    {
     "data": {
      "image/png": "[encoded data removed]",
      "text/plain": [
       "<Figure size 432x288 with 1 Axes>"
      ]
     },
     "metadata": {
      "needs_background": "light"
     },
     "output_type": "display_data"
    },
    {
     "data": {
      "image/png": "[encoded data removed]",
      "text/plain": [
       "<Figure size 432x288 with 1 Axes>"
      ]
     },
     "metadata": {
      "needs_background": "light"
     },
     "output_type": "display_data"
    }
   ],
   "source": [
    "# viewing the correlation matrix between features\n",
    "def plot_cor(matrix,title,features1,features2):\n",
    "    fig, ax = plt.subplots()\n",
    "    im = ax.imshow(matrix)\n",
    "    ax.set_xticklabels(features2)\n",
    "    ax.set_yticklabels(features1)\n",
    "    plt.setp(ax.get_xticklabels(), rotation=45, ha=\"right\",\n",
    "             rotation_mode=\"anchor\")\n",
    "    for i in range(len(matrix)):\n",
    "        for j in range(len(matrix)):\n",
    "            text = ax.text(j,i, matrix[i,j])\n",
    "    plt.title(title)\n",
    "plot_cor(cor1, 'first 15 features', features[:15],features[:15])\n",
    "plot_cor(cor2, 'first 15 features x last 15 features', features[:15], features[15:])\n",
    "plot_cor(cor3, 'last 15 features',features[15:],features[15:])"
   ]
  },
  {
   "cell_type": "code",
   "execution_count": 26,
   "metadata": {},
   "outputs": [],
   "source": [
    "# an analytical solution, scales well at larger feature sizes\n",
    "def most_corr_features(most_corr):\n",
    "    corr_matrix = np.zeros((len(most_corr),len(most_corr)))\n",
    "    for i in range(len(most_corr)):\n",
    "        for j in range(len(most_corr)):\n",
    "            ind1 = most_corr[i]\n",
    "            ind2 = most_corr[j]\n",
    "            corr_matrix[i,j] = round(np.corrcoef(data_train[:,ind1],data_train[:,ind2])[0,1],2)\n",
    "# correlation matrix is symmetrical, so we can think of it as upper triangular, and ignore the diagonal\n",
    "    corr_matrix = np.triu(corr_matrix,1)\n",
    "    # find the coordinates of the max value\n",
    "    # these are the features most correlated to each other\n",
    "    print('correlation coefficient:', np.amax(corr_matrix)) # how correlated the features are\n",
    "    x,y = np.argmax(corr_matrix) // len(corr_matrix) ,np.argmax(corr_matrix) % len(corr_matrix) # argmax flattens the indices\n",
    "    return x, corr_column_names[most_corr[x]], y, corr_column_names[most_corr[y]]  # most correlated features, with indices"
   ]
  },
  {
   "cell_type": "code",
   "execution_count": 27,
   "metadata": {},
   "outputs": [],
   "source": [
    "# let's eliminate correlated features one at a time until we reach a featureset we are happy with\n",
    "# eliminate feature further in list, as features are sorted by how correlated to labels, we'd rather keep 1st"
   ]
  },
  {
   "cell_type": "code",
   "execution_count": 28,
   "metadata": {},
   "outputs": [
    {
     "name": "stdout",
     "output_type": "stream",
     "text": [
      "correlation coefficient: 1.0\n",
      "correlation coefficient: 0.99\n",
      "correlation coefficient: 0.99\n",
      "correlation coefficient: 0.98\n",
      "correlation coefficient: 0.97\n",
      "correlation coefficient: 0.97\n",
      "correlation coefficient: 0.96\n",
      "correlation coefficient: 0.92\n",
      "correlation coefficient: 0.91\n",
      "correlation coefficient: 0.91\n",
      "correlation coefficient: 0.89\n",
      "correlation coefficient: 0.85\n",
      "correlation coefficient: 0.82\n",
      "correlation coefficient: 0.81\n"
     ]
    }
   ],
   "source": [
    "# repeat until features become less correlated, 15th in line, correlation coefficient: 0.58\n",
    "for _ in range(14):\n",
    "    _,_,y,_ = most_corr_features(most_corr)\n",
    "    del most_corr[y]\n",
    "    len(most_corr)"
   ]
  },
  {
   "cell_type": "code",
   "execution_count": 29,
   "metadata": {},
   "outputs": [
    {
     "data": {
      "text/plain": [
       "[27, 10, 21, 24, 28, 17]"
      ]
     },
     "execution_count": 29,
     "metadata": {},
     "output_type": "execute_result"
    }
   ],
   "source": [
    "most_corr # position in corr_column_names, not original dataframe columns"
   ]
  },
  {
   "cell_type": "code",
   "execution_count": 30,
   "metadata": {},
   "outputs": [
    {
     "name": "stdout",
     "output_type": "stream",
     "text": [
      "['texture_se', 'compactness_mean', 'symmetry_mean', 'concavity_se', 'fractal_dimension_mean', 'symmetry_worst']\n"
     ]
    }
   ],
   "source": [
    "current_features = []\n",
    "for i in most_corr:\n",
    "    current_features.append(corr_column_names[i])\n",
    "print(current_features)"
   ]
  },
  {
   "cell_type": "code",
   "execution_count": 31,
   "metadata": {},
   "outputs": [
    {
     "name": "stdout",
     "output_type": "stream",
     "text": [
      "[11, 5, 8, 16, 9, 28]\n"
     ]
    }
   ],
   "source": [
    "# take a list of features and return list of columns\n",
    "def feat_to_col(current_features):\n",
    "    data_frame = data.drop(columns=['Unnamed: 32', 'id', 'diagnosis'])\n",
    "    return [data_frame.columns.get_loc(i) for i in current_features]\n",
    "\n",
    "# current_features = corr_column_names[:10] # use first 10 candidate features \n",
    "current_features = ['texture_se', 'compactness_mean', 'symmetry_mean', 'concavity_se', 'fractal_dimension_mean', 'symmetry_worst']\n",
    "feature_list = feat_to_col(current_features)\n",
    "print(feature_list)"
   ]
  },
  {
   "cell_type": "code",
   "execution_count": 32,
   "metadata": {},
   "outputs": [
    {
     "data": {
      "text/plain": [
       "(455, 6)"
      ]
     },
     "metadata": {},
     "output_type": "display_data"
    },
    {
     "data": {
      "text/plain": [
       "(114, 6)"
      ]
     },
     "metadata": {},
     "output_type": "display_data"
    }
   ],
   "source": [
    "X_train = np.zeros((len(data_train),len(feature_list)))\n",
    "X_test = np.zeros((len(data_test),len(feature_list)))\n",
    "for i in range(len(feature_list)):\n",
    "    X_train[:,i] = data_train[:,feature_list[i]]\n",
    "    X_test[:,i] = data_test[:,feature_list[i]]\n",
    "    \n",
    "Y_train = np.array(diag_train)\n",
    "Y_test = np.array(diag_test)\n",
    "display(X_train.shape)\n",
    "display(X_test.shape)"
   ]
  },
  {
   "cell_type": "code",
   "execution_count": 33,
   "metadata": {},
   "outputs": [],
   "source": [
    "# setting up some functions for processing and analyzing data"
   ]
  },
  {
   "cell_type": "code",
   "execution_count": 34,
   "metadata": {},
   "outputs": [],
   "source": [
    "# convert a regressor to a binary prediction at some cutoff\n",
    "def to_binary_pred(prediction,cutoff=.5):\n",
    "    pred_binary = np.zeros(len(prediction))\n",
    "    for i in range(len(prediction)):\n",
    "        if prediction[i] > cutoff:\n",
    "            pred_binary[i] = 1\n",
    "        else:\n",
    "            pred_binary[i] = 0\n",
    "    return pred_binary"
   ]
  },
  {
   "cell_type": "markdown",
   "metadata": {},
   "source": [
    "Although the problem is fundamentally one of classification, Regression techniques are useful here.  Outputting 0 or 1 output may be satisfactory.  However, scaling the output from 0 to 1 based on how certain the sample belongs to each class allows some insight to the user.  Additionally, we may choose the cutoff value, depending on clinical need, as will be illustrated further below with Receiver Operating Characteristic (ROC) curves.  "
   ]
  },
  {
   "cell_type": "code",
   "execution_count": 35,
   "metadata": {},
   "outputs": [],
   "source": [
    "#Support Vector Regression\n",
    "clf = SVR(kernel='rbf', gamma='scale', C=1)\n",
    "clf.fit(X_train, Y_train)\n",
    "\n",
    "pred = clf.predict(X_test)\n",
    "# pred_scaled = [(pred[i]-np.min(pred))/(np.max(pred)-np.min(pred)) for i in range(len(pred))]"
   ]
  },
  {
   "cell_type": "code",
   "execution_count": 36,
   "metadata": {},
   "outputs": [],
   "source": [
    "sigmoid = scipy.special.expit"
   ]
  },
  {
   "cell_type": "code",
   "execution_count": 37,
   "metadata": {},
   "outputs": [],
   "source": [
    "pred_scaled = sigmoid(pred)"
   ]
  },
  {
   "cell_type": "code",
   "execution_count": 38,
   "metadata": {},
   "outputs": [],
   "source": [
    "def plot_roc(pred,title='ROC Curve', plot_type='plot', figsize=[17,7]):\n",
    "    x,y,z = roc_curve(Y_test,pred)\n",
    "    if plot_type == 'plot':\n",
    "        plt.plot(x,y)\n",
    "    else:\n",
    "        plt.scatter(x,y, s = 10)\n",
    "        names = [str(i) for i in range(len(x))]\n",
    "        for i in range(len(x)):\n",
    "            plt.annotate(names[i],(x[i],y[i]))\n",
    "    print('AUC:', roc_auc_score(Y_test,pred))\n",
    "    plt.title(title)\n",
    "    plt.ylabel('true positive rate')\n",
    "    plt.xlabel('false positive = 1 - specificity')\n",
    "    plt.rcParams['figure.figsize'] = figsize"
   ]
  },
  {
   "cell_type": "code",
   "execution_count": 39,
   "metadata": {
    "scrolled": false
   },
   "outputs": [
    {
     "name": "stdout",
     "output_type": "stream",
     "text": [
      "AUC: 0.9808441558441559\n"
     ]
    },
    {
     "data": {
      "image/png": "[encoded data removed]",
      "text/plain": [
       "<Figure size 432x288 with 1 Axes>"
      ]
     },
     "metadata": {
      "needs_background": "light"
     },
     "output_type": "display_data"
    },
    {
     "data": {
      "text/plain": [
       "<Figure size 1224x504 with 0 Axes>"
      ]
     },
     "metadata": {},
     "output_type": "display_data"
    }
   ],
   "source": [
    "plot_roc(pred_scaled)\n",
    "plt.figure(figsize=(17,7));"
   ]
  },
  {
   "cell_type": "markdown",
   "metadata": {},
   "source": [
    "Since we're using regression analysis, we have to choose a threshold for a positive result.  \n",
    "ROC curve illustrates the tradeoffs of choosing this threshold.\n",
    "\n",
    "The labeled points above represent increasing cutoff values for our test, from 0 to 1:  \n",
    "At 0 every sample is declared malignant, so sensitivity is 100%, but the false positive rate is 100% as well  \n",
    "At 1 every sample is declared benign, so sensitivity should be 0%, but the false positive rate is also 0%\n",
    "\n",
    "Between these values, as we increase the cutoff, we decrease the false positive rate,\n",
    "and beyond a certain point this comes at the expense of decreasing the true positive rate"
   ]
  },
  {
   "cell_type": "markdown",
   "metadata": {},
   "source": [
    "It's important to pause here and think about what we want from our model.\n",
    "\n",
    "* Sensitivity: the proportion of the affected population that is diagnosed correctly  \n",
    "    * As sensitivity increases, more patients who need treatment receive it.\n",
    "    \n",
    "\n",
    "* Specificity: the proportion of the unaffected population that is diagnosed correctly  \n",
    "    * As specificity increases, fewer patients are falsely reassured and don't receive needed treatment."
   ]
  },
  {
   "cell_type": "markdown",
   "metadata": {},
   "source": [
    "* We may prefer sensitivity to specificity, depeneding on how steep the tradeoff is.\n",
    "    * For a serious condition like breast cancer, this would require more biopsies, and needlessly worry more patients, at the expense of not missing patients who need treatment. \n",
    "\n",
    "Another option, is for samples close to our desired cutoff to recommend careful observation.  This would make most sense when other evidence from a mammogram, or ultrasound suggests the mass is benign"
   ]
  },
  {
   "cell_type": "code",
   "execution_count": 40,
   "metadata": {},
   "outputs": [],
   "source": [
    "def perf(pred, ans=Y_test, labels=[1,0]):\n",
    "    conf_matrix = sk.metrics.confusion_matrix(Y_test, pred, labels=[1,0])\n",
    "    conf_matrix = conf_matrix.transpose() # sklearn uses nonstandard form of confusion matrix\n",
    "    df_conf = pd.DataFrame(data = (conf_matrix),\n",
    "                           columns=['True positives','True negatives'],\n",
    "                           index = ['Predicted positive','Predicted negative'])\n",
    "    sens = conf_matrix[0,0]/np.sum(conf_matrix[:,0])\n",
    "    spec = conf_matrix[1,1]/np.sum(conf_matrix[:,1])\n",
    "    acc = sk.metrics.accuracy_score(ans, pred)\n",
    "    f1 = sk.metrics.f1_score(ans, pred)\n",
    "    PPV = conf_matrix[0,0]/np.sum(conf_matrix[0,:])\n",
    "    NPV = conf_matrix[1,1]/np.sum(conf_matrix[1,:])\n",
    "    display(df_conf)\n",
    "    print('sensitivity:', sens)\n",
    "    print('specificity:', spec,end='\\n\\n')\n",
    "    print('PPV = Precision:', PPV)\n",
    "    print('NPV:', NPV,end='\\n\\n')\n",
    "    print('accuracy:', acc)\n",
    "    print('f1 score:', f1)"
   ]
  },
  {
   "cell_type": "code",
   "execution_count": 41,
   "metadata": {},
   "outputs": [],
   "source": [
    "def int_metrics(threshold):\n",
    "    pred_bin = to_binary_pred(pred_scaled,cutoff=threshold)\n",
    "    perf(pred_bin)"
   ]
  },
  {
   "cell_type": "code",
   "execution_count": 42,
   "metadata": {},
   "outputs": [
    {
     "data": {
      "application/vnd.jupyter.widget-view+json": {
       "model_id": "130bfae271c94018869fd83da2766aa2",
       "version_major": 2,
       "version_minor": 0
      },
      "text/plain": [
       "interactive(children=(FloatSlider(value=0.61, description='threshold', max=1.0, step=0.05), Output()), _dom_cl…"
      ]
     },
     "metadata": {},
     "output_type": "display_data"
    }
   ],
   "source": [
    "interact(int_metrics,threshold = widgets.FloatSlider(value=.61, min=0, max=1, step=.05))\n",
    "warnings.simplefilter('ignore')"
   ]
  },
  {
   "cell_type": "markdown",
   "metadata": {},
   "source": [
    "While Sensitivity, and Specificity tell us how likely the test will find the correct result.  \n",
    "Positive and Negative Predictive Value characterize the certainty that the test result was correct."
   ]
  },
  {
   "cell_type": "markdown",
   "metadata": {},
   "source": [
    "### Another approach to dimensionality reduction  \n",
    "PCA has a different value from feature selection, or feature engineering.  \n",
    "It allows for a reduced dimension representation of the data, which lowers compute resources.  Let's use KernelPCA which can apply nonlinear transformations as well."
   ]
  },
  {
   "cell_type": "code",
   "execution_count": 43,
   "metadata": {},
   "outputs": [],
   "source": [
    "kpca = KernelPCA(n_components=7, kernel='sigmoid', gamma=15)\n",
    "X_train =  kpca.fit_transform(data_part_train)\n",
    "X_val = kpca.transform(data_val)\n",
    "X_test = kpca.transform(data_test)"
   ]
  },
  {
   "cell_type": "code",
   "execution_count": 44,
   "metadata": {},
   "outputs": [
    {
     "data": {
      "text/plain": [
       "array([0.67228417, 0.36996854, 0.22047095, 0.15920208, 0.15762736,\n",
       "       0.08696654, 0.06385345])"
      ]
     },
     "metadata": {},
     "output_type": "display_data"
    }
   ],
   "source": [
    "explained_variance = np.var(X_val,axis=0)\n",
    "display(explained_variance)"
   ]
  },
  {
   "cell_type": "code",
   "execution_count": 45,
   "metadata": {},
   "outputs": [],
   "source": [
    "clf = SVR(gamma='scale', C=1)\n",
    "clf.fit(X_train, diag_part_train)\n",
    "\n",
    "pred = clf.predict(X_test)\n",
    "# pred_scaled = [(pred[i]-np.min(pred))/(np.max(pred)-np.min(pred)) for i in range(len(pred))]"
   ]
  },
  {
   "cell_type": "code",
   "execution_count": 46,
   "metadata": {},
   "outputs": [],
   "source": [
    "pred_scaled = sigmoid(pred)"
   ]
  },
  {
   "cell_type": "code",
   "execution_count": 47,
   "metadata": {},
   "outputs": [
    {
     "name": "stdout",
     "output_type": "stream",
     "text": [
      "AUC: 0.999025974025974\n"
     ]
    },
    {
     "data": {
      "image/png": "[encoded data removed]",
      "text/plain": [
       "<Figure size 1224x504 with 1 Axes>"
      ]
     },
     "metadata": {
      "needs_background": "light"
     },
     "output_type": "display_data"
    }
   ],
   "source": [
    "plot_roc(pred_scaled)"
   ]
  },
  {
   "cell_type": "code",
   "execution_count": 48,
   "metadata": {},
   "outputs": [
    {
     "data": {
      "application/vnd.jupyter.widget-view+json": {
       "model_id": "a4f3734773314a19ba15f97bc29a74a7",
       "version_major": 2,
       "version_minor": 0
      },
      "text/plain": [
       "interactive(children=(FloatSlider(value=0.61, description='threshold', max=1.0, step=0.05), Output()), _dom_cl…"
      ]
     },
     "metadata": {},
     "output_type": "display_data"
    }
   ],
   "source": [
    "def int_metrics(threshold):\n",
    "    pred_bin = to_binary_pred(pred_scaled,cutoff=threshold)\n",
    "    perf(pred_bin)\n",
    "interact(int_metrics,threshold = widgets.FloatSlider(value=.61, min=0, max=1, step=.05));"
   ]
  },
  {
   "cell_type": "markdown",
   "metadata": {},
   "source": [
    "### Using Keras to create a deep learning network  \n",
    "the input_shape is the number of features we're using\n",
    "here I have 4 hidden layers of size 30\n",
    "and 1 output layer, with a single node\n",
    "\n",
    "The advantages of deep learning networks is that they can create their own nonlinear feature sets by combining the inputs into hidden layers.  This can alleviate the work of feature engineering.  \n",
    "\n",
    "To prevent overfitting we tune the hyperparameters of the model.  Here I applied a regularization term to the final layer.  One could use a regularization term on each layer with a correspondingly lower value (lambda).  \n",
    "\n",
    "Think of regularization as penalizing the weight matrix of the model.  If lambda is low, the model is not penalized for applying value to the noise.  If lambda is high, the model underfits the data, as it prefers smaller weights."
   ]
  },
  {
   "cell_type": "code",
   "execution_count": 49,
   "metadata": {},
   "outputs": [],
   "source": [
    "model = models.Sequential()\n",
    "model.add(layers.Dense(30, activation = 'relu', input_shape = (30,))) # input 1 for test, 30 for all features\n",
    "model.add(layers.Dense(30, activation = 'relu',))\n",
    "model.add(layers.Dense(30, activation = 'relu',))\n",
    "model.add(layers.Dense(1, activation = 'sigmoid',kernel_regularizer=regularizers.l2(0.03)))"
   ]
  },
  {
   "cell_type": "markdown",
   "metadata": {},
   "source": [
    "The output layer of the neural net above is a single node.  \n",
    "Its uses the sigmoid activation, to constrain its output between 0 and 1  \n",
    "0 the model is confident the features represent a benign sample  \n",
    "1 the model is confident the sample is malignant\n",
    "\n",
    "Further below we will plot a ROC curve, and evaluate how to choose a cutoff value somewhere between 0 and 1"
   ]
  },
  {
   "cell_type": "code",
   "execution_count": 50,
   "metadata": {},
   "outputs": [],
   "source": [
    "model.compile(optimizer=optimizers.RMSprop(lr=.001),\n",
    "             loss = losses.binary_crossentropy,   # test this\n",
    "             metrics = [metrics.binary_accuracy])"
   ]
  },
  {
   "cell_type": "code",
   "execution_count": 51,
   "metadata": {
    "scrolled": true
   },
   "outputs": [
    {
     "name": "stdout",
     "output_type": "stream",
     "text": [
      "Train on 364 samples, validate on 91 samples\n",
      "Epoch 1/40\n",
      " - 0s - loss: 0.5867 - binary_accuracy: 0.8022 - val_loss: 0.4683 - val_binary_accuracy: 0.9121\n",
      "Epoch 2/40\n",
      " - 0s - loss: 0.3991 - binary_accuracy: 0.9203 - val_loss: 0.3319 - val_binary_accuracy: 0.9231\n",
      "Epoch 3/40\n",
      " - 0s - loss: 0.2998 - binary_accuracy: 0.9286 - val_loss: 0.2570 - val_binary_accuracy: 0.9341\n",
      "Epoch 4/40\n",
      " - 0s - loss: 0.2431 - binary_accuracy: 0.9368 - val_loss: 0.2077 - val_binary_accuracy: 0.9670\n",
      "Epoch 5/40\n",
      " - 0s - loss: 0.2059 - binary_accuracy: 0.9478 - val_loss: 0.1797 - val_binary_accuracy: 0.9451\n",
      "Epoch 6/40\n",
      " - 0s - loss: 0.1797 - binary_accuracy: 0.9588 - val_loss: 0.1596 - val_binary_accuracy: 0.9451\n",
      "Epoch 7/40\n",
      " - 0s - loss: 0.1595 - binary_accuracy: 0.9698 - val_loss: 0.1453 - val_binary_accuracy: 0.9560\n",
      "Epoch 8/40\n",
      " - 0s - loss: 0.1437 - binary_accuracy: 0.9725 - val_loss: 0.1321 - val_binary_accuracy: 0.9560\n",
      "Epoch 9/40\n",
      " - 0s - loss: 0.1324 - binary_accuracy: 0.9725 - val_loss: 0.1247 - val_binary_accuracy: 0.9560\n",
      "Epoch 10/40\n",
      " - 0s - loss: 0.1236 - binary_accuracy: 0.9753 - val_loss: 0.1209 - val_binary_accuracy: 0.9560\n",
      "Epoch 11/40\n",
      " - 0s - loss: 0.1144 - binary_accuracy: 0.9780 - val_loss: 0.1153 - val_binary_accuracy: 0.9560\n",
      "Epoch 12/40\n",
      " - 0s - loss: 0.1086 - binary_accuracy: 0.9808 - val_loss: 0.1131 - val_binary_accuracy: 0.9670\n",
      "Epoch 13/40\n",
      " - 0s - loss: 0.1017 - binary_accuracy: 0.9808 - val_loss: 0.1124 - val_binary_accuracy: 0.9670\n",
      "Epoch 14/40\n",
      " - 0s - loss: 0.0991 - binary_accuracy: 0.9780 - val_loss: 0.1053 - val_binary_accuracy: 0.9670\n",
      "Epoch 15/40\n",
      " - 0s - loss: 0.0931 - binary_accuracy: 0.9808 - val_loss: 0.1012 - val_binary_accuracy: 0.9780\n",
      "Epoch 16/40\n",
      " - 0s - loss: 0.0884 - binary_accuracy: 0.9808 - val_loss: 0.0984 - val_binary_accuracy: 0.9670\n",
      "Epoch 17/40\n",
      " - 0s - loss: 0.0856 - binary_accuracy: 0.9863 - val_loss: 0.0998 - val_binary_accuracy: 0.9560\n",
      "Epoch 18/40\n",
      " - 0s - loss: 0.0807 - binary_accuracy: 0.9863 - val_loss: 0.0943 - val_binary_accuracy: 0.9780\n",
      "Epoch 19/40\n",
      " - 0s - loss: 0.0775 - binary_accuracy: 0.9863 - val_loss: 0.0991 - val_binary_accuracy: 0.9670\n",
      "Epoch 20/40\n",
      " - 0s - loss: 0.0747 - binary_accuracy: 0.9863 - val_loss: 0.0923 - val_binary_accuracy: 0.9780\n",
      "Epoch 21/40\n",
      " - 0s - loss: 0.0713 - binary_accuracy: 0.9890 - val_loss: 0.0957 - val_binary_accuracy: 0.9560\n",
      "Epoch 22/40\n",
      " - 0s - loss: 0.0683 - binary_accuracy: 0.9918 - val_loss: 0.0870 - val_binary_accuracy: 0.9560\n",
      "Epoch 23/40\n",
      " - 0s - loss: 0.0648 - binary_accuracy: 0.9918 - val_loss: 0.0981 - val_binary_accuracy: 0.9560\n",
      "Epoch 24/40\n",
      " - 0s - loss: 0.0624 - binary_accuracy: 0.9918 - val_loss: 0.0971 - val_binary_accuracy: 0.9451\n",
      "Epoch 25/40\n",
      " - 0s - loss: 0.0610 - binary_accuracy: 0.9918 - val_loss: 0.1104 - val_binary_accuracy: 0.9451\n",
      "Epoch 26/40\n",
      " - 0s - loss: 0.0570 - binary_accuracy: 0.9918 - val_loss: 0.0932 - val_binary_accuracy: 0.9560\n",
      "Epoch 27/40\n",
      " - 0s - loss: 0.0555 - binary_accuracy: 0.9918 - val_loss: 0.1055 - val_binary_accuracy: 0.9451\n",
      "Epoch 28/40\n",
      " - 0s - loss: 0.0535 - binary_accuracy: 0.9918 - val_loss: 0.1055 - val_binary_accuracy: 0.9451\n",
      "Epoch 29/40\n",
      " - 0s - loss: 0.0513 - binary_accuracy: 0.9918 - val_loss: 0.1143 - val_binary_accuracy: 0.9451\n",
      "Epoch 30/40\n",
      " - 0s - loss: 0.0494 - binary_accuracy: 0.9918 - val_loss: 0.1015 - val_binary_accuracy: 0.9451\n",
      "Epoch 31/40\n",
      " - 0s - loss: 0.0468 - binary_accuracy: 0.9918 - val_loss: 0.1116 - val_binary_accuracy: 0.9451\n",
      "Epoch 32/40\n",
      " - 0s - loss: 0.0438 - binary_accuracy: 0.9918 - val_loss: 0.1145 - val_binary_accuracy: 0.9560\n",
      "Epoch 33/40\n",
      " - 0s - loss: 0.0445 - binary_accuracy: 0.9918 - val_loss: 0.1101 - val_binary_accuracy: 0.9451\n",
      "Epoch 34/40\n",
      " - 0s - loss: 0.0413 - binary_accuracy: 0.9918 - val_loss: 0.1191 - val_binary_accuracy: 0.9451\n",
      "Epoch 35/40\n",
      " - 0s - loss: 0.0406 - binary_accuracy: 0.9918 - val_loss: 0.1185 - val_binary_accuracy: 0.9451\n",
      "Epoch 36/40\n",
      " - 0s - loss: 0.0381 - binary_accuracy: 0.9945 - val_loss: 0.1258 - val_binary_accuracy: 0.9560\n",
      "Epoch 37/40\n",
      " - 0s - loss: 0.0358 - binary_accuracy: 0.9945 - val_loss: 0.1112 - val_binary_accuracy: 0.9560\n",
      "Epoch 38/40\n",
      " - 0s - loss: 0.0352 - binary_accuracy: 0.9945 - val_loss: 0.1248 - val_binary_accuracy: 0.9451\n",
      "Epoch 39/40\n",
      " - 0s - loss: 0.0327 - binary_accuracy: 1.0000 - val_loss: 0.1146 - val_binary_accuracy: 0.9560\n",
      "Epoch 40/40\n",
      " - 0s - loss: 0.0315 - binary_accuracy: 0.9945 - val_loss: 0.1291 - val_binary_accuracy: 0.9560\n"
     ]
    }
   ],
   "source": [
    "start = timeit.default_timer()\n",
    "model.fit(data_part_train,\n",
    "         diag_part_train,\n",
    "         epochs = 40,\n",
    "         batch_size = 32,\n",
    "         validation_data = (data_val,diag_val),\n",
    "         verbose = 2)\n",
    "end = timeit.default_timer()"
   ]
  },
  {
   "cell_type": "code",
   "execution_count": 52,
   "metadata": {},
   "outputs": [
    {
     "name": "stdout",
     "output_type": "stream",
     "text": [
      "training time: 0.9974636120000469\n"
     ]
    }
   ],
   "source": [
    "print('training time:', end - start)"
   ]
  },
  {
   "cell_type": "code",
   "execution_count": 53,
   "metadata": {},
   "outputs": [
    {
     "data": {
      "text/plain": [
       "dict_keys(['val_loss', 'val_binary_accuracy', 'loss', 'binary_accuracy'])"
      ]
     },
     "execution_count": 53,
     "metadata": {},
     "output_type": "execute_result"
    }
   ],
   "source": [
    "acc = model.history\n",
    "acc.history.keys()"
   ]
  },
  {
   "cell_type": "code",
   "execution_count": 54,
   "metadata": {},
   "outputs": [
    {
     "data": {
      "image/png": "[encoded data removed]",
      "text/plain": [
       "<Figure size 1224x504 with 1 Axes>"
      ]
     },
     "metadata": {
      "needs_background": "light"
     },
     "output_type": "display_data"
    }
   ],
   "source": [
    "epochs = 40\n",
    "x_vals = list(range(1,epochs+1))\n",
    "y_vals = acc.history['binary_accuracy']\n",
    "y_validation = acc.history['val_binary_accuracy']\n",
    "plt.plot(x_vals,y_vals,color='red', label='training accuracy')\n",
    "plt.plot(x_vals,y_validation,color='navy', label='validation accuracy')\n",
    "plt.legend()\n",
    "plt.xlabel('epochs')\n",
    "plt.ylabel('accuracy');"
   ]
  },
  {
   "cell_type": "code",
   "execution_count": 55,
   "metadata": {},
   "outputs": [
    {
     "name": "stdout",
     "output_type": "stream",
     "text": [
      "AUC: 0.9987012987012986\n"
     ]
    },
    {
     "data": {
      "image/png": "[encoded data removed]",
      "text/plain": [
       "<Figure size 1224x504 with 1 Axes>"
      ]
     },
     "metadata": {
      "needs_background": "light"
     },
     "output_type": "display_data"
    }
   ],
   "source": [
    "pred = model.predict(data_test)\n",
    "plot_roc(pred)"
   ]
  },
  {
   "cell_type": "code",
   "execution_count": 56,
   "metadata": {},
   "outputs": [
    {
     "data": {
      "application/vnd.jupyter.widget-view+json": {
       "model_id": "f3d861ffd6bb44d08c3115104912e32f",
       "version_major": 2,
       "version_minor": 0
      },
      "text/plain": [
       "interactive(children=(FloatSlider(value=0.55, description='threshold', max=1.0, step=0.05), Output()), _dom_cl…"
      ]
     },
     "metadata": {},
     "output_type": "display_data"
    }
   ],
   "source": [
    "def int_metrics(threshold):\n",
    "    pred_bin = to_binary_pred(pred,cutoff=threshold)\n",
    "    perf(pred_bin)\n",
    "    \n",
    "interact(int_metrics,threshold = widgets.FloatSlider(value=.55, min=0, max=1, step=.05));"
   ]
  },
  {
   "cell_type": "markdown",
   "metadata": {},
   "source": [
    "### Robustness of data\n",
    "Before deploying our model, we may wish to check its performance on suboptimal data.  Let's look at how it handles missing values over a random sampling."
   ]
  },
  {
   "cell_type": "code",
   "execution_count": 57,
   "metadata": {},
   "outputs": [
    {
     "data": {
      "text/plain": [
       "114"
      ]
     },
     "execution_count": 57,
     "metadata": {},
     "output_type": "execute_result"
    }
   ],
   "source": [
    "len(data_test)"
   ]
  },
  {
   "cell_type": "code",
   "execution_count": 58,
   "metadata": {},
   "outputs": [],
   "source": [
    "missing = list(zip(np.random.choice(114,replace = False, size=14),np.random.choice(30,size =14)))"
   ]
  },
  {
   "cell_type": "code",
   "execution_count": 59,
   "metadata": {},
   "outputs": [
    {
     "data": {
      "text/plain": [
       "(114, 30)"
      ]
     },
     "execution_count": 59,
     "metadata": {},
     "output_type": "execute_result"
    }
   ],
   "source": [
    "data_test.shape"
   ]
  },
  {
   "cell_type": "code",
   "execution_count": 60,
   "metadata": {},
   "outputs": [
    {
     "data": {
      "text/plain": [
       "684.0"
      ]
     },
     "execution_count": 60,
     "metadata": {},
     "output_type": "execute_result"
    }
   ],
   "source": [
    "114*30*.2"
   ]
  },
  {
   "cell_type": "code",
   "execution_count": 61,
   "metadata": {},
   "outputs": [],
   "source": [
    "missing = [(i//30,i%30) for i in np.random.choice(3420,replace = False, size = 855)]"
   ]
  },
  {
   "cell_type": "code",
   "execution_count": 62,
   "metadata": {},
   "outputs": [],
   "source": [
    "# test set with 20% missing values, some will be in less valuable features\n",
    "corrupted = data_test.copy()\n",
    "for (x,y) in missing:\n",
    "    corrupted[x,y] = np.NAN"
   ]
  },
  {
   "cell_type": "code",
   "execution_count": 63,
   "metadata": {},
   "outputs": [
    {
     "name": "stdout",
     "output_type": "stream",
     "text": [
      "number changed values: 855\n",
      "remaining nan: 0\n"
     ]
    }
   ],
   "source": [
    "# Impute missing values\n",
    "from sklearn.preprocessing import Imputer\n",
    "imp = Imputer(missing_values=np.nan,axis=0)\n",
    "imp = imp.fit(corrupted)\n",
    "reconstructed = imp.transform(corrupted)\n",
    "print('number changed values:', np.sum(reconstructed != data_test))\n",
    "print('remaining nan:', np.sum(reconstructed == np.nan))"
   ]
  },
  {
   "cell_type": "code",
   "execution_count": 64,
   "metadata": {},
   "outputs": [
    {
     "data": {
      "text/plain": [
       "1.0"
      ]
     },
     "execution_count": 64,
     "metadata": {},
     "output_type": "execute_result"
    }
   ],
   "source": [
    "pred = model.predict(reconstructed)\n",
    "roc_auc_score(Y_test,pred)"
   ]
  },
  {
   "cell_type": "code",
   "execution_count": 65,
   "metadata": {},
   "outputs": [
    {
     "data": {
      "application/vnd.jupyter.widget-view+json": {
       "model_id": "57f94011f388466a8e540bb7912cd10a",
       "version_major": 2,
       "version_minor": 0
      },
      "text/plain": [
       "interactive(children=(FloatSlider(value=0.55, description='threshold', max=1.0, step=0.05), Output()), _dom_cl…"
      ]
     },
     "metadata": {},
     "output_type": "display_data"
    }
   ],
   "source": [
    "interact(int_metrics,threshold = widgets.FloatSlider(value=.55, min=0, max=1, step=.05));"
   ]
  },
  {
   "cell_type": "markdown",
   "metadata": {},
   "source": [
    "Our model is robust to random perturbations of its data."
   ]
  },
  {
   "cell_type": "markdown",
   "metadata": {},
   "source": [
    "To check the utility of the above analysis let's compare to clinical data.  \n",
    "https://www.ncbi.nlm.nih.gov/pubmed/17986804  \n",
    "This is a study of 382 cases of FNA of suspicious breast lesions.  \n",
    "They report sensitivity of 86.3%, specificity of 98.2%, and accuracy of 93.2%\n",
    "\n",
    "Our model compares favorably to the clinical results.  We obtain a higher sensitivity without loss of specificity."
   ]
  }
 ],
 "metadata": {
  "kernelspec": {
   "display_name": "Python 3",
   "language": "python",
   "name": "python3"
  },
  "language_info": {
   "codemirror_mode": {
    "name": "ipython",
    "version": 3
   },
   "file_extension": ".py",
   "mimetype": "text/x-python",
   "name": "python",
   "nbconvert_exporter": "python",
   "pygments_lexer": "ipython3",
   "version": "3.6.8"
  },
  "widgets": {
   "application/vnd.jupyter.widget-state+json": {
    "state": {
     "01d6986dadaf4be3be54227bc6cad50c": {
      "model_module": "@jupyter-widgets/controls",
      "model_module_version": "1.4.0",
      "model_name": "SliderStyleModel",
      "state": {
       "description_width": ""
      }
     },
     "04501535e46b42d4a6f06413f2c6e8c3": {
      "model_module": "@jupyter-widgets/base",
      "model_module_version": "1.1.0",
      "model_name": "LayoutModel",
      "state": {}
     },
     "0b8dabae5cf040109a8f6b1dbcb2a0e7": {
      "model_module": "@jupyter-widgets/base",
      "model_module_version": "1.1.0",
      "model_name": "LayoutModel",
      "state": {}
     },
     "130bfae271c94018869fd83da2766aa2": {
      "model_module": "@jupyter-widgets/controls",
      "model_module_version": "1.4.0",
      "model_name": "VBoxModel",
      "state": {
       "_dom_classes": [
        "widget-interact"
       ],
       "children": [
        "IPY_MODEL_db67c907a7db45cfaa7dc030012b0cee",
        "IPY_MODEL_28935262c93f408f83bc1a6a45108b02"
       ],
       "layout": "IPY_MODEL_04501535e46b42d4a6f06413f2c6e8c3"
      }
     },
     "1371384e0c564e8d8bc7b98a118e37c8": {
      "model_module": "@jupyter-widgets/output",
      "model_module_version": "1.0.0",
      "model_name": "OutputModel",
      "state": {
       "layout": "IPY_MODEL_33be16fd8360456eac248c5fb899bdb6",
       "outputs": [
        {
         "data": {
          "text/html": "<div>\n<style scoped>\n    .dataframe tbody tr th:only-of-type {\n        vertical-align: middle;\n    }\n\n    .dataframe tbody tr th {\n        vertical-align: top;\n    }\n\n    .dataframe thead th {\n        text-align: right;\n    }\n</style>\n<table border=\"1\" class=\"dataframe\">\n  <thead>\n    <tr style=\"text-align: right;\">\n      <th></th>\n      <th>True positives</th>\n      <th>True negatives</th>\n    </tr>\n  </thead>\n  <tbody>\n    <tr>\n      <th>Predicted positive</th>\n      <td>43</td>\n      <td>0</td>\n    </tr>\n    <tr>\n      <th>Predicted negative</th>\n      <td>1</td>\n      <td>70</td>\n    </tr>\n  </tbody>\n</table>\n</div>",
          "text/plain": "                    True positives  True negatives\nPredicted positive              43               0\nPredicted negative               1              70"
         },
         "metadata": {},
         "output_type": "display_data"
        },
        {
         "name": "stdout",
         "output_type": "stream",
         "text": "sensitivity: 0.9772727272727273\nspecificity: 1.0\n\nPPV = Precision: 1.0\nNPV: 0.9859154929577465\n\naccuracy: 0.9912280701754386\nf1 score: 0.9885057471264368\n"
        }
       ]
      }
     },
     "187e18dd384a49f294e222f0d4a89785": {
      "model_module": "@jupyter-widgets/controls",
      "model_module_version": "1.4.0",
      "model_name": "FloatSliderModel",
      "state": {
       "description": "threshold",
       "layout": "IPY_MODEL_326fc0f2797a4296acfce29a7b69fde5",
       "max": 1,
       "step": 0.05,
       "style": "IPY_MODEL_01d6986dadaf4be3be54227bc6cad50c",
       "value": 0.55
      }
     },
     "1d0fc913e4ba4118a9e3de858153bc20": {
      "model_module": "@jupyter-widgets/controls",
      "model_module_version": "1.4.0",
      "model_name": "SliderStyleModel",
      "state": {
       "description_width": ""
      }
     },
     "28935262c93f408f83bc1a6a45108b02": {
      "model_module": "@jupyter-widgets/output",
      "model_module_version": "1.0.0",
      "model_name": "OutputModel",
      "state": {
       "layout": "IPY_MODEL_28f14cf0f8c647b3b7775607454723c5",
       "outputs": [
        {
         "data": {
          "text/html": "<div>\n<style scoped>\n    .dataframe tbody tr th:only-of-type {\n        vertical-align: middle;\n    }\n\n    .dataframe tbody tr th {\n        vertical-align: top;\n    }\n\n    .dataframe thead th {\n        text-align: right;\n    }\n</style>\n<table border=\"1\" class=\"dataframe\">\n  <thead>\n    <tr style=\"text-align: right;\">\n      <th></th>\n      <th>True positives</th>\n      <th>True negatives</th>\n    </tr>\n  </thead>\n  <tbody>\n    <tr>\n      <th>Predicted positive</th>\n      <td>40</td>\n      <td>3</td>\n    </tr>\n    <tr>\n      <th>Predicted negative</th>\n      <td>4</td>\n      <td>67</td>\n    </tr>\n  </tbody>\n</table>\n</div>",
          "text/plain": "                    True positives  True negatives\nPredicted positive              40               3\nPredicted negative               4              67"
         },
         "metadata": {},
         "output_type": "display_data"
        },
        {
         "name": "stdout",
         "output_type": "stream",
         "text": "sensitivity: 0.9090909090909091\nspecificity: 0.9571428571428572\n\nPPV = Precision: 0.9302325581395349\nNPV: 0.9436619718309859\n\naccuracy: 0.9385964912280702\nf1 score: 0.9195402298850575\n"
        }
       ]
      }
     },
     "28f14cf0f8c647b3b7775607454723c5": {
      "model_module": "@jupyter-widgets/base",
      "model_module_version": "1.1.0",
      "model_name": "LayoutModel",
      "state": {}
     },
     "326fc0f2797a4296acfce29a7b69fde5": {
      "model_module": "@jupyter-widgets/base",
      "model_module_version": "1.1.0",
      "model_name": "LayoutModel",
      "state": {}
     },
     "33be16fd8360456eac248c5fb899bdb6": {
      "model_module": "@jupyter-widgets/base",
      "model_module_version": "1.1.0",
      "model_name": "LayoutModel",
      "state": {}
     },
     "3d5f8c22e49c4417a3f20e3a67de924d": {
      "model_module": "@jupyter-widgets/output",
      "model_module_version": "1.0.0",
      "model_name": "OutputModel",
      "state": {
       "layout": "IPY_MODEL_50e7284ffa734362a389516394ee3547",
       "outputs": [
        {
         "data": {
          "text/html": "<div>\n<style scoped>\n    .dataframe tbody tr th:only-of-type {\n        vertical-align: middle;\n    }\n\n    .dataframe tbody tr th {\n        vertical-align: top;\n    }\n\n    .dataframe thead th {\n        text-align: right;\n    }\n</style>\n<table border=\"1\" class=\"dataframe\">\n  <thead>\n    <tr style=\"text-align: right;\">\n      <th></th>\n      <th>True positives</th>\n      <th>True negatives</th>\n    </tr>\n  </thead>\n  <tbody>\n    <tr>\n      <th>Predicted positive</th>\n      <td>44</td>\n      <td>1</td>\n    </tr>\n    <tr>\n      <th>Predicted negative</th>\n      <td>0</td>\n      <td>69</td>\n    </tr>\n  </tbody>\n</table>\n</div>",
          "text/plain": "                    True positives  True negatives\nPredicted positive              44               1\nPredicted negative               0              69"
         },
         "metadata": {},
         "output_type": "display_data"
        },
        {
         "name": "stdout",
         "output_type": "stream",
         "text": "sensitivity: 1.0\nspecificity: 0.9857142857142858\n\nPPV = Precision: 0.9777777777777777\nNPV: 1.0\n\naccuracy: 0.9912280701754386\nf1 score: 0.9887640449438202\n"
        }
       ]
      }
     },
     "421e449d234c49aaa93bbdec638e2c44": {
      "model_module": "@jupyter-widgets/output",
      "model_module_version": "1.0.0",
      "model_name": "OutputModel",
      "state": {
       "layout": "IPY_MODEL_f7185833a9f24fa99e92f0f6830bd4fb",
       "outputs": [
        {
         "data": {
          "text/html": "<div>\n<style scoped>\n    .dataframe tbody tr th:only-of-type {\n        vertical-align: middle;\n    }\n\n    .dataframe tbody tr th {\n        vertical-align: top;\n    }\n\n    .dataframe thead th {\n        text-align: right;\n    }\n</style>\n<table border=\"1\" class=\"dataframe\">\n  <thead>\n    <tr style=\"text-align: right;\">\n      <th></th>\n      <th>True positives</th>\n      <th>True negatives</th>\n    </tr>\n  </thead>\n  <tbody>\n    <tr>\n      <th>Predicted positive</th>\n      <td>43</td>\n      <td>0</td>\n    </tr>\n    <tr>\n      <th>Predicted negative</th>\n      <td>1</td>\n      <td>70</td>\n    </tr>\n  </tbody>\n</table>\n</div>",
          "text/plain": "                    True positives  True negatives\nPredicted positive              43               0\nPredicted negative               1              70"
         },
         "metadata": {},
         "output_type": "display_data"
        },
        {
         "name": "stdout",
         "output_type": "stream",
         "text": "sensitivity: 0.9772727272727273\nspecificity: 1.0\n\nPPV = Precision: 1.0\nNPV: 0.9859154929577465\n\naccuracy: 0.9912280701754386\nf1 score: 0.9885057471264368\n"
        }
       ]
      }
     },
     "42ea325b2f694410a12d1c590f2eb38e": {
      "model_module": "@jupyter-widgets/controls",
      "model_module_version": "1.4.0",
      "model_name": "FloatSliderModel",
      "state": {
       "description": "threshold",
       "layout": "IPY_MODEL_bc16a7db32484afeb60e374d3f861ac8",
       "max": 1,
       "step": 0.05,
       "style": "IPY_MODEL_f9f483aa4a794042893ebf70bc3f9137",
       "value": 0.61
      }
     },
     "47ae5a0edb594e089f8b818b51044b6f": {
      "model_module": "@jupyter-widgets/base",
      "model_module_version": "1.1.0",
      "model_name": "LayoutModel",
      "state": {}
     },
     "4c41b7311eec43969f93cc5a461f51cc": {
      "model_module": "@jupyter-widgets/base",
      "model_module_version": "1.1.0",
      "model_name": "LayoutModel",
      "state": {}
     },
     "50e7284ffa734362a389516394ee3547": {
      "model_module": "@jupyter-widgets/base",
      "model_module_version": "1.1.0",
      "model_name": "LayoutModel",
      "state": {}
     },
     "57ce644519404e988928be0ded69d5ee": {
      "model_module": "@jupyter-widgets/base",
      "model_module_version": "1.1.0",
      "model_name": "LayoutModel",
      "state": {}
     },
     "57f94011f388466a8e540bb7912cd10a": {
      "model_module": "@jupyter-widgets/controls",
      "model_module_version": "1.4.0",
      "model_name": "VBoxModel",
      "state": {
       "_dom_classes": [
        "widget-interact"
       ],
       "children": [
        "IPY_MODEL_187e18dd384a49f294e222f0d4a89785",
        "IPY_MODEL_1371384e0c564e8d8bc7b98a118e37c8"
       ],
       "layout": "IPY_MODEL_4c41b7311eec43969f93cc5a461f51cc"
      }
     },
     "6ed2ea59c7e34327bb6b3ac97bf86d4a": {
      "model_module": "@jupyter-widgets/base",
      "model_module_version": "1.1.0",
      "model_name": "LayoutModel",
      "state": {}
     },
     "971df36861d74c8592adb582bc12e965": {
      "model_module": "@jupyter-widgets/controls",
      "model_module_version": "1.4.0",
      "model_name": "SliderStyleModel",
      "state": {
       "description_width": ""
      }
     },
     "a4f3734773314a19ba15f97bc29a74a7": {
      "model_module": "@jupyter-widgets/controls",
      "model_module_version": "1.4.0",
      "model_name": "VBoxModel",
      "state": {
       "_dom_classes": [
        "widget-interact"
       ],
       "children": [
        "IPY_MODEL_42ea325b2f694410a12d1c590f2eb38e",
        "IPY_MODEL_3d5f8c22e49c4417a3f20e3a67de924d"
       ],
       "layout": "IPY_MODEL_0b8dabae5cf040109a8f6b1dbcb2a0e7"
      }
     },
     "aacf6f42246948c8bd081069bb0ee6ef": {
      "model_module": "@jupyter-widgets/controls",
      "model_module_version": "1.4.0",
      "model_name": "FloatSliderModel",
      "state": {
       "description": "threshold",
       "layout": "IPY_MODEL_6ed2ea59c7e34327bb6b3ac97bf86d4a",
       "max": 1,
       "step": 0.05,
       "style": "IPY_MODEL_1d0fc913e4ba4118a9e3de858153bc20",
       "value": 0.55
      }
     },
     "bc16a7db32484afeb60e374d3f861ac8": {
      "model_module": "@jupyter-widgets/base",
      "model_module_version": "1.1.0",
      "model_name": "LayoutModel",
      "state": {}
     },
     "db67c907a7db45cfaa7dc030012b0cee": {
      "model_module": "@jupyter-widgets/controls",
      "model_module_version": "1.4.0",
      "model_name": "FloatSliderModel",
      "state": {
       "description": "threshold",
       "layout": "IPY_MODEL_47ae5a0edb594e089f8b818b51044b6f",
       "max": 1,
       "step": 0.05,
       "style": "IPY_MODEL_971df36861d74c8592adb582bc12e965",
       "value": 0.61
      }
     },
     "f3d861ffd6bb44d08c3115104912e32f": {
      "model_module": "@jupyter-widgets/controls",
      "model_module_version": "1.4.0",
      "model_name": "VBoxModel",
      "state": {
       "_dom_classes": [
        "widget-interact"
       ],
       "children": [
        "IPY_MODEL_aacf6f42246948c8bd081069bb0ee6ef",
        "IPY_MODEL_421e449d234c49aaa93bbdec638e2c44"
       ],
       "layout": "IPY_MODEL_57ce644519404e988928be0ded69d5ee"
      }
     },
     "f7185833a9f24fa99e92f0f6830bd4fb": {
      "model_module": "@jupyter-widgets/base",
      "model_module_version": "1.1.0",
      "model_name": "LayoutModel",
      "state": {}
     },
     "f9f483aa4a794042893ebf70bc3f9137": {
      "model_module": "@jupyter-widgets/controls",
      "model_module_version": "1.4.0",
      "model_name": "SliderStyleModel",
      "state": {
       "description_width": ""
      }
     }
    },
    "version_major": 2,
    "version_minor": 0
   }
  }
 },
 "nbformat": 4,
 "nbformat_minor": 2
}
